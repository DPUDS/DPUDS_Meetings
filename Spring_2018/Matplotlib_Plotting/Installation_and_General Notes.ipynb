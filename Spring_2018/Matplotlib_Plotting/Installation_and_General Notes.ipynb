{
 "cells": [
  {
   "cell_type": "markdown",
   "metadata": {},
   "source": [
    "# Visualization with Matplotlib\n",
    "\n",
    "Data visualization plays an essential role in data science. Correct implementations of data visualization not only offer fast interpretation and intuitive understanding, but also at times can provide insightful discovery on how to process and use data effectively. One of the most eminent tools for data visualization is the Python package Matplotlib. This guide will walk you through some of the most common function calls in Matplotlib, in order to better understand any kind of data that you have."
   ]
  },
  {
   "cell_type": "markdown",
   "metadata": {},
   "source": [
    "## Installation\n",
    "\n",
    "For those who have gone through our _Getting Set Up for Anaconda_ guide, you should have Matplotlib in your Python distribution already. If you haven't, head over [here](https://github.com/DPUDS/DPUDS_Meetings/blob/master/Fall_2017/DS_Python_Setup/DS_Python_Setup.ipynb) to go through the guide again.\n",
    "\n",
    "To verify your installtion, simply launch Spyder from your Anaconda Navigator, and try running the code below:"
   ]
  },
  {
   "cell_type": "code",
   "execution_count": 5,
   "metadata": {
    "collapsed": false
   },
   "outputs": [
    {
     "name": "stdout",
     "output_type": "stream",
     "text": [
      "You have Matplotlib installed on your computer!\n"
     ]
    }
   ],
   "source": [
    "try:\n",
    "    import matplotlib\n",
    "    import matplotlib.pyplot as plt\n",
    "    print('You have Matplotlib installed on your computer!')\n",
    "\n",
    "except Exception:\n",
    "    print(\"You don't have Matplotlib installed, please try to install it again.\")"
   ]
  },
  {
   "cell_type": "markdown",
   "metadata": {},
   "source": [
    "If you receive the success message, you are good to go!"
   ]
  },
  {
   "cell_type": "markdown",
   "metadata": {
    "collapsed": true
   },
   "source": [
    "## General notes"
   ]
  },
  {
   "cell_type": "markdown",
   "metadata": {},
   "source": [
    "### Displaying your graphs\n",
    "\n",
    "The way your graphs aare displayed actually depends on the way you run your code, specifically whther you use Matplotlib in a Python script, or in the IPython (Interactive Python) shell.\n",
    "\n",
    "**Plotting from regular scripts**\n",
    "\n",
    "As you customize your graphs inside your script using Matplotlib function calls, the data on your graphs will get updated, but the graphs themselves won't be shown unless you specify it. To do this, simply call `plt.show()` after the last line of your code.\n",
    "\n",
    "For example, make a file called test_plot.py with the script below:\n",
    "```\n",
    "import matplotlib.pyplot as plt\n",
    "import numpy as np\n",
    "\n",
    "x = np.linspace(0, 10, 100)\n",
    "\n",
    "plt.plot(x, np.sin(x))\n",
    "plt.plot(x, np.cos(x))\n",
    "\n",
    "plt.show()\n",
    "```\n",
    "Simply run it from the terminal or in Spyder. You should got a graph looking like this:\n",
    "![alt text](https://image.ibb.co/kmvLAQ/line_plot.png)\n",
    "One thing to note, though, that the `plt.show()` function call should be used **only once** in a Python program. Using more than one `plt.show()` command in one script can result in unpredictable behavior, and should be avoided.\n",
    "\n",
    "**Plotting inside IPython**\n",
    "\n",
    "It is very convenient to use Matplotlib interactively within an IPython shell, as IPython was developed to work well with Matplotlib. To enable Matplotlib mode in an IPython shell, simply add the line `%matplotlib` before running anything in your shell, like below:\n",
    "```\n",
    "%matplotlib\n",
    "import matplotlib.pyplot as plt\n",
    "```\n",
    "After doing this, each command `plt.draw()` would make IPython plot a new graph, without you having to call `plt.show()`.\n",
    "\n",
    "### Saving graphs to file\n",
    "One of the cool features that Matplotlib offers is the ability to save the graphs you have plotted as image files in various formats. You could do this simply by calling the ```savefig()``` function. For example, run this code to save the graph above as a PNG file (which is commonly recommended), in the same folder as your Python script.\n",
    "```\n",
    "import matplotlib.pyplot as plt\n",
    "import numpy as np\n",
    "\n",
    "x = np.linspace(0, 10, 100)\n",
    "fig = plt.figure()\n",
    "\n",
    "plt.plot(x, np.sin(x))\n",
    "plt.plot(x, np.cos(x))\n",
    "\n",
    "fig.savefig('figure.png')\n",
    "```\n",
    "For those of you who are not using IPython, note that we're not calling ```plt.show()``` this time as we don't want to show the graph. To verify the file saved, open the folder containing your script, and there should be a new PNG file with the name \"figure.png\".\n",
    "\n",
    "Don't worry about the variable ```fig``` in the above script, as we will discuss it in the next section."
   ]
  }
 ],
 "metadata": {
  "kernelspec": {
   "display_name": "Python 3",
   "language": "python",
   "name": "python3"
  },
  "language_info": {
   "codemirror_mode": {
    "name": "ipython",
    "version": 3
   },
   "file_extension": ".py",
   "mimetype": "text/x-python",
   "name": "python",
   "nbconvert_exporter": "python",
   "pygments_lexer": "ipython3",
   "version": "3.6.0"
  }
 },
 "nbformat": 4,
 "nbformat_minor": 2
}
