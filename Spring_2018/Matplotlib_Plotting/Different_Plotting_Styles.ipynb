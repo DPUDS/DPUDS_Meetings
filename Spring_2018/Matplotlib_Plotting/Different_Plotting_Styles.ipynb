{
 "cells": [
  {
   "cell_type": "code",
   "execution_count": 4,
   "metadata": {
    "collapsed": true
   },
   "outputs": [],
   "source": [
    "# enabling Jupyter mode for Matplotlib\n",
    "%matplotlib inline\n",
    "import matplotlib.pyplot as plt\n",
    "\n",
    "# enabling seaborn interface for better aesthetics\n",
    "plt.style.use('seaborn-whitegrid')\n",
    "\n",
    "import numpy as np"
   ]
  },
  {
   "cell_type": "markdown",
   "metadata": {},
   "source": [
    "# Different Plotting Styles with Matplotlib\n",
    "\n",
    "Matplotlib offers numerous options to visualize your data. In this guide, we will walk you through the most common plotting implementations that can effectively visualize different types of data."
   ]
  },
  {
   "cell_type": "markdown",
   "metadata": {},
   "source": [
    "Generally, it is recommended that we create a figure and the axes for our graphs in any script that uses Matplotlib. Do it by running:"
   ]
  },
  {
   "cell_type": "code",
   "execution_count": 5,
   "metadata": {
    "collapsed": false
   },
   "outputs": [
    {
     "data": {
      "image/png": "[encoded data removed]",
      "text/plain": [
       "<matplotlib.figure.Figure at 0x10adfcac8>"
      ]
     },
     "metadata": {},
     "output_type": "display_data"
    }
   ],
   "source": [
    "fig = plt.figure()\n",
    "ax = plt.axes()"
   ]
  },
  {
   "cell_type": "markdown",
   "metadata": {},
   "source": [
    "Think of the _figure_ instance as a container of all elements in a graph (e.g. axes, graphics, text, labels, etc.) The _axes_ is simply the coordinate system used by the graph, containing ticks and axis labels. **NOTE** Usually, to plot any data you need to call **`plt.plot()`**. However, since the inline Jupyter Matplotlib configuration was made, this is not shown in the tutorial."
   ]
  },
  {
   "cell_type": "markdown",
   "metadata": {},
   "source": [
    "Also, you can add different axes labels with the following commands:"
   ]
  },
  {
   "cell_type": "code",
   "execution_count": 13,
   "metadata": {
    "collapsed": false
   },
   "outputs": [
    {
     "data": {
      "image/png": "[encoded data removed]",
      "text/plain": [
       "<matplotlib.figure.Figure at 0x10c9860b8>"
      ]
     },
     "metadata": {},
     "output_type": "display_data"
    }
   ],
   "source": [
    "#Plot data\n",
    "fig = plt.figure()\n",
    "x = [1,2,3,4,5,6,7,8,9,10]\n",
    "plt.plot(x,[i**2 for i in x], label = \"Data\")\n",
    "\n",
    "#Add labels\n",
    "plt.xlabel(\"Days\")\n",
    "plt.ylabel(\"Days Squared\")\n",
    "plt.legend()\n",
    "\n",
    "plt.show()"
   ]
  },
  {
   "cell_type": "markdown",
   "metadata": {},
   "source": [
    "## Plotting Function Graphs\n",
    "\n",
    "With the figure and the axes stored in variables, we can now add elements to the figure. Graphs of 1-variable functions $y=f(x)$ are usually one of the most common. Let's go through some quick examples together:\n",
    "\n",
    "**Getting a seemingly continuous range of data points for $x$**"
   ]
  },
  {
   "cell_type": "code",
   "execution_count": 6,
   "metadata": {
    "collapsed": false
   },
   "outputs": [],
   "source": [
    "x = np.linspace(0, 10, 100)"
   ]
  },
  {
   "cell_type": "code",
   "execution_count": 7,
   "metadata": {
    "collapsed": false
   },
   "outputs": [
    {
     "name": "stdout",
     "output_type": "stream",
     "text": [
      "[  0.           0.1010101    0.2020202    0.3030303    0.4040404\n",
      "   0.50505051   0.60606061   0.70707071   0.80808081   0.90909091\n",
      "   1.01010101   1.11111111   1.21212121   1.31313131   1.41414141\n",
      "   1.51515152   1.61616162   1.71717172   1.81818182   1.91919192\n",
      "   2.02020202   2.12121212   2.22222222   2.32323232   2.42424242\n",
      "   2.52525253   2.62626263   2.72727273   2.82828283   2.92929293\n",
      "   3.03030303   3.13131313   3.23232323   3.33333333   3.43434343\n",
      "   3.53535354   3.63636364   3.73737374   3.83838384   3.93939394\n",
      "   4.04040404   4.14141414   4.24242424   4.34343434   4.44444444\n",
      "   4.54545455   4.64646465   4.74747475   4.84848485   4.94949495\n",
      "   5.05050505   5.15151515   5.25252525   5.35353535   5.45454545\n",
      "   5.55555556   5.65656566   5.75757576   5.85858586   5.95959596\n",
      "   6.06060606   6.16161616   6.26262626   6.36363636   6.46464646\n",
      "   6.56565657   6.66666667   6.76767677   6.86868687   6.96969697\n",
      "   7.07070707   7.17171717   7.27272727   7.37373737   7.47474747\n",
      "   7.57575758   7.67676768   7.77777778   7.87878788   7.97979798\n",
      "   8.08080808   8.18181818   8.28282828   8.38383838   8.48484848\n",
      "   8.58585859   8.68686869   8.78787879   8.88888889   8.98989899\n",
      "   9.09090909   9.19191919   9.29292929   9.39393939   9.49494949\n",
      "   9.5959596    9.6969697    9.7979798    9.8989899   10.        ]\n"
     ]
    }
   ],
   "source": [
    "print(x)"
   ]
  },
  {
   "cell_type": "markdown",
   "metadata": {},
   "source": [
    "The `numpy` function `linspace` returns evenly spaced numbers over a specified interval. In the example above, we store a NumPy array of 1000 evenly spaced numbers between 0 and 10 in variable `x`."
   ]
  },
  {
   "cell_type": "markdown",
   "metadata": {},
   "source": [
    "**Plotting the function $f (x)$**\n",
    "\n",
    "Simply call `plt.plot(x, f(x))` to have Matplotlib draw the graph of function $f(x)$ to the figure. For example:"
   ]
  },
  {
   "cell_type": "code",
   "execution_count": 6,
   "metadata": {
    "collapsed": false
   },
   "outputs": [
    {
     "data": {
      "text/plain": [
       "[<matplotlib.lines.Line2D at 0x11a3c0668>]"
      ]
     },
     "execution_count": 6,
     "metadata": {},
     "output_type": "execute_result"
    },
    {
     "data": {
      "image/png": "[encoded data removed]",
      "text/plain": [
       "<matplotlib.figure.Figure at 0x11a227198>"
      ]
     },
     "metadata": {},
     "output_type": "display_data"
    }
   ],
   "source": [
    "plt.plot(x, x + 1) # plotting f(x) = x + 1"
   ]
  },
  {
   "cell_type": "code",
   "execution_count": 7,
   "metadata": {
    "collapsed": false
   },
   "outputs": [
    {
     "data": {
      "text/plain": [
       "[<matplotlib.lines.Line2D at 0x11a4232e8>]"
      ]
     },
     "execution_count": 7,
     "metadata": {},
     "output_type": "execute_result"
    },
    {
     "data": {
      "image/png": "[encoded data removed]",
      "text/plain": [
       "<matplotlib.figure.Figure at 0x11a4743c8>"
      ]
     },
     "metadata": {},
     "output_type": "display_data"
    }
   ],
   "source": [
    "plt.plot(x, np.sin(x)) # plotting f(x) = sin(x), the sine function is imported from NumPy"
   ]
  },
  {
   "cell_type": "markdown",
   "metadata": {},
   "source": [
    "It is also possible to include multiple graphs in one figure. For example:"
   ]
  },
  {
   "cell_type": "code",
   "execution_count": 8,
   "metadata": {
    "collapsed": false
   },
   "outputs": [
    {
     "data": {
      "text/plain": [
       "[<matplotlib.lines.Line2D at 0x11a5a4438>]"
      ]
     },
     "execution_count": 8,
     "metadata": {},
     "output_type": "execute_result"
    },
    {
     "data": {
      "image/png": "[encoded data removed]",
      "text/plain": [
       "<matplotlib.figure.Figure at 0x11a5a4358>"
      ]
     },
     "metadata": {},
     "output_type": "display_data"
    }
   ],
   "source": [
    "plt.plot(x, x + 2) # plotting f(x) = x + 2\n",
    "plt.plot(x, np.cos(x)) # plotting f(x) = cos(x)"
   ]
  },
  {
   "cell_type": "markdown",
   "metadata": {},
   "source": [
    "## Plotting Scatter Plots\n",
    "\n",
    "Using the function `plt.scatter()` from Matplotlib, we can draw scatter plots. For example:"
   ]
  },
  {
   "cell_type": "code",
   "execution_count": 9,
   "metadata": {
    "collapsed": false
   },
   "outputs": [
    {
     "data": {
      "text/plain": [
       "<matplotlib.collections.PathCollection at 0x11a692630>"
      ]
     },
     "execution_count": 9,
     "metadata": {},
     "output_type": "execute_result"
    },
    {
     "data": {
      "image/png": "[encoded data removed]",
      "text/plain": [
       "<matplotlib.figure.Figure at 0x11a423cc0>"
      ]
     },
     "metadata": {},
     "output_type": "display_data"
    }
   ],
   "source": [
    "x = np.array([0, 3, 6, 4, 1])\n",
    "y = np.array([10, 20, 16, 5, 8])\n",
    "\n",
    "plt.scatter(x, y)"
   ]
  },
  {
   "cell_type": "markdown",
   "metadata": {},
   "source": [
    "It is also possible to change up the size and the color of the points on the plot. To do so, we pass in optional parameters of the `plt.scatter()` function, `c` for color and `s` for size. For example:"
   ]
  },
  {
   "cell_type": "code",
   "execution_count": 10,
   "metadata": {
    "collapsed": false
   },
   "outputs": [
    {
     "data": {
      "text/plain": [
       "<matplotlib.collections.PathCollection at 0x11a7cc6a0>"
      ]
     },
     "execution_count": 10,
     "metadata": {},
     "output_type": "execute_result"
    },
    {
     "data": {
      "image/png": "[encoded data removed]",
      "text/plain": [
       "<matplotlib.figure.Figure at 0x11a785128>"
      ]
     },
     "metadata": {},
     "output_type": "display_data"
    }
   ],
   "source": [
    "x = np.array([0, 3, 6, 4, 1])\n",
    "y = np.array([10, 20, 16, 5, 8])\n",
    "\n",
    "plt.scatter(x, y, c='red', s=100)"
   ]
  },
  {
   "cell_type": "markdown",
   "metadata": {},
   "source": [
    "## Plotting Histograms\n",
    "\n",
    "Sometimes, a simple histogram is the simplest, and the best way to visualize and understand your data, especially its distribution. As other plotting functions, plotting historgrams can be done just by calling one Matplotlib function, `plt.hist()` in this case."
   ]
  },
  {
   "cell_type": "code",
   "execution_count": 11,
   "metadata": {
    "collapsed": true
   },
   "outputs": [],
   "source": [
    "x = np.random.randn(100) # generate a random dataset of 1000 elements"
   ]
  },
  {
   "cell_type": "code",
   "execution_count": 12,
   "metadata": {
    "collapsed": false
   },
   "outputs": [
    {
     "data": {
      "text/plain": [
       "array([-0.06977381,  0.94168254, -0.01353969,  0.60844428,  0.45015138,\n",
       "       -0.25244065, -0.33171464,  0.75948887,  0.69543974, -0.04913554,\n",
       "        1.53568997,  0.96173488, -0.65999441, -1.27140116, -1.2585918 ,\n",
       "        0.69911707, -0.55883758, -1.8320466 , -0.66539616, -0.50654462,\n",
       "        0.22236362, -0.23960109,  0.79853757,  0.66059435,  0.9185663 ,\n",
       "        0.19971858,  0.8267191 , -2.23516739, -0.18737059, -1.23069867,\n",
       "        1.16798142, -0.07040155, -0.02214544, -2.25553355, -0.50931707,\n",
       "        0.06187665,  0.87265604,  1.0669006 , -0.46551612,  0.93627846,\n",
       "       -0.12642158,  2.51564931,  1.12627265,  0.53581725,  0.97080409,\n",
       "        0.98717441,  1.25344976, -0.99600238,  0.37718689,  0.36710115,\n",
       "       -0.41857267, -0.3366286 , -0.87588332,  0.74189122,  0.80700764,\n",
       "        0.28248812, -0.54647313, -0.82033303,  1.16219322,  0.55192926,\n",
       "        1.27777801, -2.6246903 ,  1.19455312,  0.18827232, -0.25512073,\n",
       "       -0.37754438,  0.41657497, -0.01306936, -1.02924846,  1.61494286,\n",
       "        1.11565309,  0.28688337,  0.12534828, -0.26366706,  2.07614657,\n",
       "        0.55003011,  0.643112  , -0.8719164 , -0.58119775, -1.00907438,\n",
       "       -0.7862346 ,  0.37898899, -0.36190262,  0.45986266,  0.77940387,\n",
       "        1.25795636,  0.48467187,  0.26480561,  0.38961243, -0.65828157,\n",
       "        1.15487366,  0.61782781,  0.20230083, -2.58279983,  1.49352756,\n",
       "       -1.97115109,  3.30030318, -0.58631099, -0.1302171 ,  0.01874322])"
      ]
     },
     "execution_count": 12,
     "metadata": {},
     "output_type": "execute_result"
    }
   ],
   "source": [
    "x"
   ]
  },
  {
   "cell_type": "code",
   "execution_count": 13,
   "metadata": {
    "collapsed": false
   },
   "outputs": [
    {
     "data": {
      "text/plain": [
       "(array([  4.,   2.,   8.,  19.,  21.,  25.,  16.,   3.,   1.,   1.]),\n",
       " array([-2.6246903 , -2.03219096, -1.43969161, -0.84719226, -0.25469291,\n",
       "         0.33780644,  0.93030578,  1.52280513,  2.11530448,  2.70780383,\n",
       "         3.30030318]),\n",
       " <a list of 10 Patch objects>)"
      ]
     },
     "execution_count": 13,
     "metadata": {},
     "output_type": "execute_result"
    },
    {
     "data": {
      "image/png": "[encoded data removed]",
      "text/plain": [
       "<matplotlib.figure.Figure at 0x11a7a1b38>"
      ]
     },
     "metadata": {},
     "output_type": "display_data"
    }
   ],
   "source": [
    "plt.hist(x)"
   ]
  },
  {
   "cell_type": "markdown",
   "metadata": {},
   "source": [
    "## Practice Problems\n",
    "\n",
    "Below are some practice problems for you to get used to different functions from Matplotlib. Note that the **_Challenge_** portions of the problems touch on the materials that are not covered in the lecture, but could be found easily on the Matplotlib documentation page. A big part of programming in general is not memorizing code, but knowing how to search for it online, so the **_Challenge_** portion would help you get better at looking up things in online documentation. Check out the **`Practice_Solutions.py`** file to find the answers for these problems.\n",
    "\n",
    "**Problem 1:**\n",
    "Plot three 1-variable function graphs $f(x)=x+1$, $g(x)=sin(x)$, and $h(x)=-x$ in one Matplotlib figure.\n",
    "\n",
    "Challenge: use different colors and different linestyles of your choice.\n",
    "\n",
    "For example:\n",
    "![alt text](https://image.ibb.co/iXyFC5/prob_1.png)\n",
    "\n",
    "**Problem 2:**\n",
    "Use two NumPy arrays of values between 0 and 10 of size 10 of your choice, and use them as coordinates to visualize them using a scatter plot with the size of each point equal 100.\n",
    "\n",
    "Challenge: use `np.random.uniform()` to generate your arrays, and use `np.random.RandomState()` class to generate random color and size for each point on the figure. (Hint: paramter `c` (color) in `plt.scatter()` can take in real number values.)\n",
    "\n",
    "For example:\n",
    "![alt text](https://image.ibb.co/dHcxQQ/prob_2.png)\n",
    "\n",
    "\n",
    "**Problem 3:**\n",
    "\n",
    "Challenge: combine the two plots in the above problems into one figure, using the `plt.subplot()` function.\n",
    "\n",
    "For example:\n",
    "![alt text](https://image.ibb.co/nL8Xs5/prob_3.png)"
   ]
  }
 ],
 "metadata": {
  "kernelspec": {
   "display_name": "Python 3",
   "language": "python",
   "name": "python3"
  },
  "language_info": {
   "codemirror_mode": {
    "name": "ipython",
    "version": 3
   },
   "file_extension": ".py",
   "mimetype": "text/x-python",
   "name": "python",
   "nbconvert_exporter": "python",
   "pygments_lexer": "ipython3",
   "version": "3.6.0"
  }
 },
 "nbformat": 4,
 "nbformat_minor": 2
}
