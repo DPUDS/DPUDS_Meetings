{
 "cells": [
  {
   "cell_type": "markdown",
   "metadata": {},
   "source": [
    "# Introduction to Development Environments in Python\n",
    "\n",
    "<div style=\"text-align: right; padding:0px 50px 0px 50px;\">Author: <a href=\"https://github.com/KrisNguyen135\">Kris Nguyen</a></div>\n",
    "\n",
    "<div style=\"text-align: right; padding:0px 50px 0px 50px;\">February 17, 2019</div>\n",
    "\n",
    "## What is a development environment?\n",
    "\n",
    "Simply put, a text editor with additional functionalities. A Python development environment in this sense is something you use to write Python code with.\n",
    "\n",
    "Consider the CS courses you take at DePauw: BlueJ is a Java development environment, Eclipse is one for C++ (and more).\n",
    "\n",
    "## Why do we need to talk about this?\n",
    "\n",
    "A big advantage Python programmers have over those in other languages is that the Python community is an extremely fast-growing, supportive, and highly functional one. This means that if there was a problem to be fixed in Python, there would be more than enough solutions to solve it; creating a good development environment is not an exception to this rule.\n",
    "\n",
    "There are (so) many different softwares you can use to write and develop your Python programs with, but as we know from [The Paradox of Choice](https://www.amazon.com/Paradox-Choice-Why-More-Less/dp/149151423X), the more options we have, the more difficult it is to actually make a choice. This results in the scenario in which beginner programms looking to learn Python become confused by the exposion of choice, and have no idea which tools they should use.\n",
    "\n",
    "<img width=\"500\" height=\"400\" src=\"https://i.redd.it/rppwhkzmc4a01.jpg\"/>\n",
    "\n",
    "In this talk, we will attempt to focus some of the most popular development environments in Python and discuss their pros and cons. We hope after this talk, you will be able to navigate through the process of choosing the correct tool for you.\n",
    "\n",
    "## IDLE\n",
    "\n",
    "The Python IDLE is the default Python editor that comes with any Python distribution you install on your computer. It is similar to a simple, minimal text editor with some limited syntax-higlighting functionalities. It can also be a script-based environment where you will put in individual lines of code and IDLE will have the Python interpreter to execute them, line by line.\n",
    "\n",
    "<img width=\"400\" height=\"500\" src=\"https://www.pythoncentral.io/wp-content/uploads/2013/09/python-ide-idle-screenshot.jpeg\"/>\n",
    "\n",
    "According to [PythonCentral](https://www.pythoncentral.io/comparison-of-python-ides-development/#idle), \"while IDLE offers some of the features you expect from an IDE, it does so without even being a satisfactory text editor.\" Indeed, IDLE is considered to be one of the lower-quality in comparison to other tools out there. The reason why it is still quite popular within the community, as well as why someone would use it, is because it is bundled with Python, and if one is not inclined to download/install external softwares, one can use IDLE.\n",
    "\n",
    "## Text editors: Atom, Sublime, Emacs\n",
    "\n",
    "A large portion of "
   ]
  },
  {
   "cell_type": "code",
   "execution_count": null,
   "metadata": {},
   "outputs": [],
   "source": []
  }
 ],
 "metadata": {
  "kernelspec": {
   "display_name": "Python 3",
   "language": "python",
   "name": "python3"
  },
  "language_info": {
   "codemirror_mode": {
    "name": "ipython",
    "version": 3
   },
   "file_extension": ".py",
   "mimetype": "text/x-python",
   "name": "python",
   "nbconvert_exporter": "python",
   "pygments_lexer": "ipython3",
   "version": "3.7.0"
  }
 },
 "nbformat": 4,
 "nbformat_minor": 2
}
