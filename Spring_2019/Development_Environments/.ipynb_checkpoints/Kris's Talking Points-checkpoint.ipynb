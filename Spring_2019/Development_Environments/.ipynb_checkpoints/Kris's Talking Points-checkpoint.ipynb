{
 "cells": [
  {
   "cell_type": "markdown",
   "metadata": {},
   "source": [
    "# Introduction to Development Environments in Python\n",
    "\n",
    "<div style=\"text-align: right; padding:0px 50px 0px 50px;\">Author: <a href=\"https://github.com/KrisNguyen135\">Kris Nguyen</a></div>\n",
    "\n",
    "<div style=\"text-align: right; padding:0px 50px 0px 50px;\">February 17, 2019</div>\n",
    "\n",
    "## What is a development environment?\n",
    "\n",
    "Simply put, a text editor with additional functionalities. A Python development environment in this sense is something you use to write Python code with.\n",
    "\n",
    "Consider the CS courses you take at DePauw: BlueJ is a Java development environment, Eclipse is one for C++ (and more).\n",
    "\n",
    "## Why do we need to talk about this?\n",
    "\n",
    "A big advantage Python programmers have over those in other languages is that the Python community is an extremely fast-growing, supportive, and highly functional one. This means that if there was a problem to be fixed in Python, there would be more than enough solutions to solve it; creating a good development environment is not an exception to this rule.\n",
    "\n",
    "There are (so) many different softwares you can use to write and develop your Python programs with, but as we know from [The Paradox of Choice](https://www.amazon.com/Paradox-Choice-Why-More-Less/dp/149151423X), the more options we have, the more difficult it is to actually make a choice. This results in the scenario in which beginner programms looking to learn Python become confused by the exposion of choice, and have no idea which tools they should use.\n",
    "\n",
    "<img width=\"500\" height=\"400\" src=\"https://i.redd.it/rppwhkzmc4a01.jpg\"/>\n",
    "\n",
    "In this talk, we will attempt to focus some of the most popular development environments in Python and discuss their pros and cons. We hope after this talk, you will be able to navigate through the process of choosing the correct tool for you.\n",
    "\n",
    "## IDLE\n",
    "\n",
    "The Python IDLE is the default Python editor that comes with any Python distribution you install on your computer. It is similar to a simple, minimal text editor with some limited syntax-higlighting functionalities. It can also be a script-based environment where you will put in individual lines of code and IDLE will have the Python interpreter to execute them, line by line.\n",
    "\n",
    "<img width=\"400\" height=\"500\" src=\"https://www.pythoncentral.io/wp-content/uploads/2013/09/python-ide-idle-screenshot.jpeg\"/>\n",
    "\n",
    "According to [PythonCentral](https://www.pythoncentral.io/comparison-of-python-ides-development/#idle), \"while IDLE offers some of the features you expect from an IDE, it does so without even being a satisfactory text editor.\" Indeed, IDLE is considered to be one of the lower-quality in comparison to other tools out there. The reason why it is still quite popular within the community, as well as why someone would use it, is because it is bundled with Python, and if one is not inclined to download/install external softwares, one can use IDLE.\n",
    "\n",
    "## Text editors: Atom, Sublime, Emacs\n",
    "\n",
    "A large portion of Python developers take advantage of low-level development environments (we will simply call the text editors for our purposes) because of the freedom they provide. You would just use these text editors to create, edit, and manage your Python scripts (which, after all, can be viewed as text files), and then point your Python interpreter (for example, using the terminal) to execute those Python scripts.\n",
    "\n",
    "My personal favorites are [Atom](https://atom.io/) and [Sublime](https://www.sublimetext.com/), which offer excellent syntax-highlighting functionalities, a wide range of themes and color combinations, and helpful code completion messages. These are also _hackable_ editors, which mean developers (including yourself) can go into the source code of each editor, and change its behaviors to your liking. Many people also upload their hacked version of the editors online, so that other people who find those modified versions helpful can also use them.\n",
    "\n",
    "<img width=\"500\" height=\"400\" src=\"https://i.github-camo.com/04655bf2db0269dd4b3f85e92d06134a3499eb7d/68747470733a2f2f6769746875622e636f6d2f7468736368656e6b2f61746f6d2d6e6f736574657374732f7261772f6d61737465722f73637265656e73686f742e706e67\"/>\n",
    "\n",
    "You will see really hardcore programs prefer [Emacs](https://www.gnu.org/software/emacs/) over other text editors. This is because Emacs not only can interact with script files (including Python scripts), but it also can process a wide range of application data. For example, one can surf the web using Emacs. One thing I personally don't like about Emacs is that its keymap is different from other popular text editors, so its shortcuts for, say, the cut command are not `Ctrl/command+X`; the same goes for copy, paste, and other common commands.\n",
    "\n",
    "## Integrated Development Environments (IDE): PyCharm, Spyder\n",
    "\n",
    "Contrary to the minimal working environment while you use a text editor, an IDE is an environment that consists of multiple support functionlities that typically are not in simple text editors such as code inserting boilerplate code, code linting, running debugging and testing tasks, etc. An easy way to think about IDEs is that IDEs are complex word processing softwares such as Word (with spell-checking features and font customizations), while text editors are, well, text editors, without any mentioned fancy functionalities.\n",
    "\n",
    "An example of a Python IDE is [Spyder](https://www.spyder-ide.org/) (which was what Zach used in his lecture last semester). Spyder typically comes preinstalled with Anaconda, and provides rather good support for scientific computing, specifically documentation and visualization.\n",
    "\n",
    "<img width=\"500\" height=\"400\" src=\"http://www.lihaoyi.com/post/Diving/Spyder.png\"/>\n",
    "\n",
    "Another IDE, arguably the most popular Python development environment, is [PyCharm](https://www.jetbrains.com/pycharm/). It is a software designed by JetBrains, creator of another popular IDE, IntelliJ IDEA, for the Java programming language. It was found in the Python Developers Survey in 2017 that the two versions of PyCharm (Community and Professional) are the top two most used development environments among all Python users, all web developers, and also among data scientists.\n",
    "\n",
    "<img width=\"500\" height=\"400\" src=\"https://www.jetbrains.com/pycharm/img/screenshots/simpleLook@2x.jpg\"/>\n",
    "\n",
    "On the topic of IDEs, some argue that using an IDE for Python development is unncessary and, in fact, undesirable. This is because the main job of an IDE generally is to provide solutions to boilerplate code and other repetitive tasks when it comes to programming. However, this is not a problem in Python, as it is a rather simple and readable language. Usage of IDEs might also lead to reliance on external tools when one is programming, which might affect one's own competence as a programmer.\n",
    "\n",
    "Personally, I think the general rule is to first and foremost familiarize yourself with Python's syntax and data structures with simple text editors. When you have become adequate at using Python, you can move to using an IDE that might increase your productivity.\n",
    "\n",
    "## Jupyter Notebook and Lab\n",
    "\n",
    "The last development environment I'm talking about today is Jupyter (a reference to the combined support for Julia, Python, and R languages) tools. In essence, it is an interactive development environment that focuses on essays and documentation. In fact, what you are reading right now is a Jupyter notebook (note the file extension: `ipynb`—Interactive Python notebook. In a Jupyter notebook, you can input and execute code just as in an IDE:"
   ]
  },
  {
   "cell_type": "code",
   "execution_count": 1,
   "metadata": {},
   "outputs": [
    {
     "name": "stdout",
     "output_type": "stream",
     "text": [
      "Hello, World!\n"
     ]
    }
   ],
   "source": [
    "print('Hello, World!')"
   ]
  },
  {
   "cell_type": "code",
   "execution_count": 2,
   "metadata": {},
   "outputs": [
    {
     "name": "stdout",
     "output_type": "stream",
     "text": [
      "1\n",
      "2\n",
      "Fizz\n",
      "4\n",
      "Buzz\n",
      "Fizz\n",
      "7\n",
      "8\n",
      "Fizz\n",
      "Buzz\n",
      "11\n",
      "Fizz\n",
      "13\n",
      "14\n",
      "FizzBuzz\n",
      "16\n",
      "17\n",
      "Fizz\n",
      "19\n",
      "Buzz\n"
     ]
    }
   ],
   "source": [
    "for num in range(1, 21):\n",
    "    if num % 3 == 0 and num % 5 == 0:\n",
    "        print('FizzBuzz')\n",
    "    elif num % 3 == 0:\n",
    "        print('Fizz')\n",
    "    elif num % 5 == 0:\n",
    "        print('Buzz')\n",
    "    else:\n",
    "        print(num)"
   ]
  },
  {
   "cell_type": "markdown",
   "metadata": {},
   "source": [
    "You can also take advantage of the fact that Jupyter tools support the Markdown markup language, which means you can easily write Math formula and functions, as illustrated below:\n",
    "\n",
    "Bayes' theorem:\n",
    "\n",
    "$$P \\ (\\ A \\ | \\ B \\ ) \\ = \\ \\frac{P \\ ( \\ B \\ | \\ A \\ ) \\ . \\ P \\ ( \\ A \\ )}{P \\ ( \\ B \\ )}$$\n",
    "\n",
    "Sigmoid function (used in neural networks):\n",
    "\n",
    "$$f \\ ( \\ x \\ ) \\ = \\ \\frac{1}{1 \\ + \\ e^{-x}}$$"
   ]
  },
  {
   "cell_type": "code",
   "execution_count": null,
   "metadata": {},
   "outputs": [],
   "source": []
  }
 ],
 "metadata": {
  "kernelspec": {
   "display_name": "Python 3",
   "language": "python",
   "name": "python3"
  },
  "language_info": {
   "codemirror_mode": {
    "name": "ipython",
    "version": 3
   },
   "file_extension": ".py",
   "mimetype": "text/x-python",
   "name": "python",
   "nbconvert_exporter": "python",
   "pygments_lexer": "ipython3",
   "version": "3.7.0"
  }
 },
 "nbformat": 4,
 "nbformat_minor": 2
}
