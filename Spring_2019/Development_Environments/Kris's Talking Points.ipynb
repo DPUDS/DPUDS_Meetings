{
 "cells": [
  {
   "cell_type": "markdown",
   "metadata": {},
   "source": [
    "# Introduction to Development Environments in Python\n",
    "\n",
    "<div style=\"text-align: right; padding:0px 50px 0px 50px;\">Author: <a href=\"https://github.com/KrisNguyen135\">Kris Nguyen</a></div>\n",
    "\n",
    "<div style=\"text-align: right; padding:0px 50px 0px 50px;\">February 17, 2019</div>\n",
    "\n",
    "## What is a development environment?\n",
    "\n",
    "Simply put, a text editor with additional functionalities. A Python development environment in this sense is something you use to write Python code with.\n",
    "\n",
    "Consider the CS courses you take at DePauw: BlueJ is a Java development environment, Eclipse is one for C++ (and more).\n",
    "\n",
    "## Why do we need to talk about this?\n",
    "\n",
    "A big advantage Python programmers have over those in other languages is that the Python community is an extremely fast-growing, supportive, and highly functional one. This means that if there was a problem to be fixed in Python, there would be more than enough solutions to solve it; creating a good development environment is not an exception to this rule.\n",
    "\n",
    "There are (so) many different softwares you can use to write and develop your Python programs with, but as we know from [The Paradox of Choice](https://www.amazon.com/Paradox-Choice-Why-More-Less/dp/149151423X), the more options we have, the more difficult it is to actually make a choice. This results in the scenario in which beginner programms looking to learn Python become confused by the exposion of choice, and have no idea which tools they should use.\n",
    "\n",
    "<img width=\"500\" height=\"400\" src=\"https://i.redd.it/rppwhkzmc4a01.jpg\"/>\n",
    "\n",
    "In this talk, we will attempt to focus some of the most popular development environments in Python and discuss their pros and cons. We hope after this talk, you will be able to navigate through the process of choosing the correct tool for you.\n",
    "\n",
    "## IDLE\n",
    "\n",
    "The Python IDLE is the default Python editor that comes with any Python distribution you install on your computer. It is similar to a simple, minimal text editor with some limited syntax-higlighting functionalities. It can also be a script-based environment where you will put in individual lines of code and IDLE will have the Python interpreter to execute them, line by line.\n",
    "\n",
    "<img width=\"400\" height=\"500\" src=\"https://www.pythoncentral.io/wp-content/uploads/2013/09/python-ide-idle-screenshot.jpeg\"/>\n",
    "\n",
    "According to [PythonCentral](https://www.pythoncentral.io/comparison-of-python-ides-development/#idle), \"while IDLE offers some of the features you expect from an IDE, it does so without even being a satisfactory text editor.\" Indeed, IDLE is considered to be one of the lower-quality in comparison to other tools out there. The reason why it is still quite popular within the community, as well as why someone would use it, is because it is bundled with Python, and if one is not inclined to download/install external softwares, one can use IDLE.\n",
    "\n",
    "## Text editors: Atom, Sublime, Emacs\n",
    "\n",
    "A large portion of Python developers take advantage of low-level development environments (we will simply call the text editors for our purposes) because of the freedom they provide. You would just use these text editors to create, edit, and manage your Python scripts (which, after all, can be viewed as text files), and then point your Python interpreter (for example, using the terminal) to execute those Python scripts.\n",
    "\n",
    "My personal favorites are Atom and Sublime, which offer excellent syntax-highlighting functionalities, a wide range of themes and color combinations, and helpful code completion messages. These are also _hackable_ editors, which mean developers (including yourself) can go into the source code of each editor, and change its behaviors to your liking. Many people also upload their hacked version of the editors online, so that other people who find those modified versions helpful can also use them.\n",
    "\n",
    "<img width=\"500\" height=\"400\" src=\"https://i.github-camo.com/04655bf2db0269dd4b3f85e92d06134a3499eb7d/68747470733a2f2f6769746875622e636f6d2f7468736368656e6b2f61746f6d2d6e6f736574657374732f7261772f6d61737465722f73637265656e73686f742e706e67\"/>\n",
    "\n",
    "You will see really hardcore programs prefer Emacs over other text editors. This is because Emacs not only can interact with script files (including Python scripts), but it also can process a wide range of application data. For example, one can surf the web using Emacs. One thing I personally don't like about Emacs is that its keymap is different from other popular text editors, so its shortcuts for, say, the cut command are not `Ctrl/command+X`; the same goes for copy, paste, and other common commands.\n",
    "\n",
    "## Integrated Development Environments (IDE): PyCharm, Spyder\n",
    "\n",
    "Contrary to the minimal working environment while you use a text editor, an IDE"
   ]
  },
  {
   "cell_type": "code",
   "execution_count": null,
   "metadata": {},
   "outputs": [],
   "source": []
  }
 ],
 "metadata": {
  "kernelspec": {
   "display_name": "Python 3",
   "language": "python",
   "name": "python3"
  },
  "language_info": {
   "codemirror_mode": {
    "name": "ipython",
    "version": 3
   },
   "file_extension": ".py",
   "mimetype": "text/x-python",
   "name": "python",
   "nbconvert_exporter": "python",
   "pygments_lexer": "ipython3",
   "version": "3.7.0"
  }
 },
 "nbformat": 4,
 "nbformat_minor": 2
}
