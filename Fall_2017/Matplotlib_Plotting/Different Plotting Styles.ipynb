{
 "cells": [
  {
   "cell_type": "code",
   "execution_count": 3,
   "metadata": {
    "collapsed": true
   },
   "outputs": [],
   "source": [
    "# enabling Jupyter mode for Matplotlib\n",
    "%matplotlib inline\n",
    "import matplotlib.pyplot as plt\n",
    "\n",
    "# enabling seaborn interface\n",
    "plt.style.use('seaborn-whitegrid')\n",
    "\n",
    "import numpy as np"
   ]
  },
  {
   "cell_type": "markdown",
   "metadata": {},
   "source": [
    "# Different plotting styles with Matplotlib\n",
    "\n",
    "Matplotlib offers numerous options to visualize your data. In this guide we will walk you through the most common plotting implementations that can effectively visualize different types of data."
   ]
  },
  {
   "cell_type": "markdown",
   "metadata": {},
   "source": [
    "Generally, it is recommended that we create a figure and the axes for our graphs in any script that uses Matplotlib. Do it by running:"
   ]
  },
  {
   "cell_type": "code",
   "execution_count": 2,
   "metadata": {},
   "outputs": [
    {
     "data": {
      "image/png": "[encoded data removed]",
      "text/plain": [
       "<matplotlib.figure.Figure at 0x110ac4da0>"
      ]
     },
     "metadata": {},
     "output_type": "display_data"
    }
   ],
   "source": [
    "fig = plt.figure()\n",
    "ax = plt.axes()"
   ]
  },
  {
   "cell_type": "markdown",
   "metadata": {},
   "source": [
    "Think of the _figure_ instance as a container of all elements in a graph (e.g. axes, graphics, text, labels, etc.) The _axes_ is simply the coordinate system used by the graph, containing ticks and axis labels."
   ]
  },
  {
   "cell_type": "markdown",
   "metadata": {},
   "source": [
    "## Plotting funtion graphs\n",
    "\n",
    "With the figure and the axes stored in variables, we can now add elements to the figure. Graphs of 1-variable function $y=f(x)$ are usually one of the most common, and simplest ones. Let's go through some quick examples together:\n",
    "\n",
    "**Getting a seemingly continuous range for $x$**"
   ]
  },
  {
   "cell_type": "code",
   "execution_count": 13,
   "metadata": {
    "collapsed": true
   },
   "outputs": [],
   "source": [
    "x = np.linspace(0, 10, 1000)"
   ]
  },
  {
   "cell_type": "code",
   "execution_count": 14,
   "metadata": {},
   "outputs": [
    {
     "data": {
      "text/plain": [
       "array([  0.        ,   0.01001001,   0.02002002,   0.03003003,\n",
       "         0.04004004,   0.05005005,   0.06006006,   0.07007007,\n",
       "         0.08008008,   0.09009009,   0.1001001 ,   0.11011011,\n",
       "         0.12012012,   0.13013013,   0.14014014,   0.15015015,\n",
       "         0.16016016,   0.17017017,   0.18018018,   0.19019019,\n",
       "         0.2002002 ,   0.21021021,   0.22022022,   0.23023023,\n",
       "         0.24024024,   0.25025025,   0.26026026,   0.27027027,\n",
       "         0.28028028,   0.29029029,   0.3003003 ,   0.31031031,\n",
       "         0.32032032,   0.33033033,   0.34034034,   0.35035035,\n",
       "         0.36036036,   0.37037037,   0.38038038,   0.39039039,\n",
       "         0.4004004 ,   0.41041041,   0.42042042,   0.43043043,\n",
       "         0.44044044,   0.45045045,   0.46046046,   0.47047047,\n",
       "         0.48048048,   0.49049049,   0.5005005 ,   0.51051051,\n",
       "         0.52052052,   0.53053053,   0.54054054,   0.55055055,\n",
       "         0.56056056,   0.57057057,   0.58058058,   0.59059059,\n",
       "         0.6006006 ,   0.61061061,   0.62062062,   0.63063063,\n",
       "         0.64064064,   0.65065065,   0.66066066,   0.67067067,\n",
       "         0.68068068,   0.69069069,   0.7007007 ,   0.71071071,\n",
       "         0.72072072,   0.73073073,   0.74074074,   0.75075075,\n",
       "         0.76076076,   0.77077077,   0.78078078,   0.79079079,\n",
       "         0.8008008 ,   0.81081081,   0.82082082,   0.83083083,\n",
       "         0.84084084,   0.85085085,   0.86086086,   0.87087087,\n",
       "         0.88088088,   0.89089089,   0.9009009 ,   0.91091091,\n",
       "         0.92092092,   0.93093093,   0.94094094,   0.95095095,\n",
       "         0.96096096,   0.97097097,   0.98098098,   0.99099099,\n",
       "         1.001001  ,   1.01101101,   1.02102102,   1.03103103,\n",
       "         1.04104104,   1.05105105,   1.06106106,   1.07107107,\n",
       "         1.08108108,   1.09109109,   1.1011011 ,   1.11111111,\n",
       "         1.12112112,   1.13113113,   1.14114114,   1.15115115,\n",
       "         1.16116116,   1.17117117,   1.18118118,   1.19119119,\n",
       "         1.2012012 ,   1.21121121,   1.22122122,   1.23123123,\n",
       "         1.24124124,   1.25125125,   1.26126126,   1.27127127,\n",
       "         1.28128128,   1.29129129,   1.3013013 ,   1.31131131,\n",
       "         1.32132132,   1.33133133,   1.34134134,   1.35135135,\n",
       "         1.36136136,   1.37137137,   1.38138138,   1.39139139,\n",
       "         1.4014014 ,   1.41141141,   1.42142142,   1.43143143,\n",
       "         1.44144144,   1.45145145,   1.46146146,   1.47147147,\n",
       "         1.48148148,   1.49149149,   1.5015015 ,   1.51151151,\n",
       "         1.52152152,   1.53153153,   1.54154154,   1.55155155,\n",
       "         1.56156156,   1.57157157,   1.58158158,   1.59159159,\n",
       "         1.6016016 ,   1.61161161,   1.62162162,   1.63163163,\n",
       "         1.64164164,   1.65165165,   1.66166166,   1.67167167,\n",
       "         1.68168168,   1.69169169,   1.7017017 ,   1.71171171,\n",
       "         1.72172172,   1.73173173,   1.74174174,   1.75175175,\n",
       "         1.76176176,   1.77177177,   1.78178178,   1.79179179,\n",
       "         1.8018018 ,   1.81181181,   1.82182182,   1.83183183,\n",
       "         1.84184184,   1.85185185,   1.86186186,   1.87187187,\n",
       "         1.88188188,   1.89189189,   1.9019019 ,   1.91191191,\n",
       "         1.92192192,   1.93193193,   1.94194194,   1.95195195,\n",
       "         1.96196196,   1.97197197,   1.98198198,   1.99199199,\n",
       "         2.002002  ,   2.01201201,   2.02202202,   2.03203203,\n",
       "         2.04204204,   2.05205205,   2.06206206,   2.07207207,\n",
       "         2.08208208,   2.09209209,   2.1021021 ,   2.11211211,\n",
       "         2.12212212,   2.13213213,   2.14214214,   2.15215215,\n",
       "         2.16216216,   2.17217217,   2.18218218,   2.19219219,\n",
       "         2.2022022 ,   2.21221221,   2.22222222,   2.23223223,\n",
       "         2.24224224,   2.25225225,   2.26226226,   2.27227227,\n",
       "         2.28228228,   2.29229229,   2.3023023 ,   2.31231231,\n",
       "         2.32232232,   2.33233233,   2.34234234,   2.35235235,\n",
       "         2.36236236,   2.37237237,   2.38238238,   2.39239239,\n",
       "         2.4024024 ,   2.41241241,   2.42242242,   2.43243243,\n",
       "         2.44244244,   2.45245245,   2.46246246,   2.47247247,\n",
       "         2.48248248,   2.49249249,   2.5025025 ,   2.51251251,\n",
       "         2.52252252,   2.53253253,   2.54254254,   2.55255255,\n",
       "         2.56256256,   2.57257257,   2.58258258,   2.59259259,\n",
       "         2.6026026 ,   2.61261261,   2.62262262,   2.63263263,\n",
       "         2.64264264,   2.65265265,   2.66266266,   2.67267267,\n",
       "         2.68268268,   2.69269269,   2.7027027 ,   2.71271271,\n",
       "         2.72272272,   2.73273273,   2.74274274,   2.75275275,\n",
       "         2.76276276,   2.77277277,   2.78278278,   2.79279279,\n",
       "         2.8028028 ,   2.81281281,   2.82282282,   2.83283283,\n",
       "         2.84284284,   2.85285285,   2.86286286,   2.87287287,\n",
       "         2.88288288,   2.89289289,   2.9029029 ,   2.91291291,\n",
       "         2.92292292,   2.93293293,   2.94294294,   2.95295295,\n",
       "         2.96296296,   2.97297297,   2.98298298,   2.99299299,\n",
       "         3.003003  ,   3.01301301,   3.02302302,   3.03303303,\n",
       "         3.04304304,   3.05305305,   3.06306306,   3.07307307,\n",
       "         3.08308308,   3.09309309,   3.1031031 ,   3.11311311,\n",
       "         3.12312312,   3.13313313,   3.14314314,   3.15315315,\n",
       "         3.16316316,   3.17317317,   3.18318318,   3.19319319,\n",
       "         3.2032032 ,   3.21321321,   3.22322322,   3.23323323,\n",
       "         3.24324324,   3.25325325,   3.26326326,   3.27327327,\n",
       "         3.28328328,   3.29329329,   3.3033033 ,   3.31331331,\n",
       "         3.32332332,   3.33333333,   3.34334334,   3.35335335,\n",
       "         3.36336336,   3.37337337,   3.38338338,   3.39339339,\n",
       "         3.4034034 ,   3.41341341,   3.42342342,   3.43343343,\n",
       "         3.44344344,   3.45345345,   3.46346346,   3.47347347,\n",
       "         3.48348348,   3.49349349,   3.5035035 ,   3.51351351,\n",
       "         3.52352352,   3.53353353,   3.54354354,   3.55355355,\n",
       "         3.56356356,   3.57357357,   3.58358358,   3.59359359,\n",
       "         3.6036036 ,   3.61361361,   3.62362362,   3.63363363,\n",
       "         3.64364364,   3.65365365,   3.66366366,   3.67367367,\n",
       "         3.68368368,   3.69369369,   3.7037037 ,   3.71371371,\n",
       "         3.72372372,   3.73373373,   3.74374374,   3.75375375,\n",
       "         3.76376376,   3.77377377,   3.78378378,   3.79379379,\n",
       "         3.8038038 ,   3.81381381,   3.82382382,   3.83383383,\n",
       "         3.84384384,   3.85385385,   3.86386386,   3.87387387,\n",
       "         3.88388388,   3.89389389,   3.9039039 ,   3.91391391,\n",
       "         3.92392392,   3.93393393,   3.94394394,   3.95395395,\n",
       "         3.96396396,   3.97397397,   3.98398398,   3.99399399,\n",
       "         4.004004  ,   4.01401401,   4.02402402,   4.03403403,\n",
       "         4.04404404,   4.05405405,   4.06406406,   4.07407407,\n",
       "         4.08408408,   4.09409409,   4.1041041 ,   4.11411411,\n",
       "         4.12412412,   4.13413413,   4.14414414,   4.15415415,\n",
       "         4.16416416,   4.17417417,   4.18418418,   4.19419419,\n",
       "         4.2042042 ,   4.21421421,   4.22422422,   4.23423423,\n",
       "         4.24424424,   4.25425425,   4.26426426,   4.27427427,\n",
       "         4.28428428,   4.29429429,   4.3043043 ,   4.31431431,\n",
       "         4.32432432,   4.33433433,   4.34434434,   4.35435435,\n",
       "         4.36436436,   4.37437437,   4.38438438,   4.39439439,\n",
       "         4.4044044 ,   4.41441441,   4.42442442,   4.43443443,\n",
       "         4.44444444,   4.45445445,   4.46446446,   4.47447447,\n",
       "         4.48448448,   4.49449449,   4.5045045 ,   4.51451451,\n",
       "         4.52452452,   4.53453453,   4.54454454,   4.55455455,\n",
       "         4.56456456,   4.57457457,   4.58458458,   4.59459459,\n",
       "         4.6046046 ,   4.61461461,   4.62462462,   4.63463463,\n",
       "         4.64464464,   4.65465465,   4.66466466,   4.67467467,\n",
       "         4.68468468,   4.69469469,   4.7047047 ,   4.71471471,\n",
       "         4.72472472,   4.73473473,   4.74474474,   4.75475475,\n",
       "         4.76476476,   4.77477477,   4.78478478,   4.79479479,\n",
       "         4.8048048 ,   4.81481481,   4.82482482,   4.83483483,\n",
       "         4.84484484,   4.85485485,   4.86486486,   4.87487487,\n",
       "         4.88488488,   4.89489489,   4.9049049 ,   4.91491491,\n",
       "         4.92492492,   4.93493493,   4.94494494,   4.95495495,\n",
       "         4.96496496,   4.97497497,   4.98498498,   4.99499499,\n",
       "         5.00500501,   5.01501502,   5.02502503,   5.03503504,\n",
       "         5.04504505,   5.05505506,   5.06506507,   5.07507508,\n",
       "         5.08508509,   5.0950951 ,   5.10510511,   5.11511512,\n",
       "         5.12512513,   5.13513514,   5.14514515,   5.15515516,\n",
       "         5.16516517,   5.17517518,   5.18518519,   5.1951952 ,\n",
       "         5.20520521,   5.21521522,   5.22522523,   5.23523524,\n",
       "         5.24524525,   5.25525526,   5.26526527,   5.27527528,\n",
       "         5.28528529,   5.2952953 ,   5.30530531,   5.31531532,\n",
       "         5.32532533,   5.33533534,   5.34534535,   5.35535536,\n",
       "         5.36536537,   5.37537538,   5.38538539,   5.3953954 ,\n",
       "         5.40540541,   5.41541542,   5.42542543,   5.43543544,\n",
       "         5.44544545,   5.45545546,   5.46546547,   5.47547548,\n",
       "         5.48548549,   5.4954955 ,   5.50550551,   5.51551552,\n",
       "         5.52552553,   5.53553554,   5.54554555,   5.55555556,\n",
       "         5.56556557,   5.57557558,   5.58558559,   5.5955956 ,\n",
       "         5.60560561,   5.61561562,   5.62562563,   5.63563564,\n",
       "         5.64564565,   5.65565566,   5.66566567,   5.67567568,\n",
       "         5.68568569,   5.6956957 ,   5.70570571,   5.71571572,\n",
       "         5.72572573,   5.73573574,   5.74574575,   5.75575576,\n",
       "         5.76576577,   5.77577578,   5.78578579,   5.7957958 ,\n",
       "         5.80580581,   5.81581582,   5.82582583,   5.83583584,\n",
       "         5.84584585,   5.85585586,   5.86586587,   5.87587588,\n",
       "         5.88588589,   5.8958959 ,   5.90590591,   5.91591592,\n",
       "         5.92592593,   5.93593594,   5.94594595,   5.95595596,\n",
       "         5.96596597,   5.97597598,   5.98598599,   5.995996  ,\n",
       "         6.00600601,   6.01601602,   6.02602603,   6.03603604,\n",
       "         6.04604605,   6.05605606,   6.06606607,   6.07607608,\n",
       "         6.08608609,   6.0960961 ,   6.10610611,   6.11611612,\n",
       "         6.12612613,   6.13613614,   6.14614615,   6.15615616,\n",
       "         6.16616617,   6.17617618,   6.18618619,   6.1961962 ,\n",
       "         6.20620621,   6.21621622,   6.22622623,   6.23623624,\n",
       "         6.24624625,   6.25625626,   6.26626627,   6.27627628,\n",
       "         6.28628629,   6.2962963 ,   6.30630631,   6.31631632,\n",
       "         6.32632633,   6.33633634,   6.34634635,   6.35635636,\n",
       "         6.36636637,   6.37637638,   6.38638639,   6.3963964 ,\n",
       "         6.40640641,   6.41641642,   6.42642643,   6.43643644,\n",
       "         6.44644645,   6.45645646,   6.46646647,   6.47647648,\n",
       "         6.48648649,   6.4964965 ,   6.50650651,   6.51651652,\n",
       "         6.52652653,   6.53653654,   6.54654655,   6.55655656,\n",
       "         6.56656657,   6.57657658,   6.58658659,   6.5965966 ,\n",
       "         6.60660661,   6.61661662,   6.62662663,   6.63663664,\n",
       "         6.64664665,   6.65665666,   6.66666667,   6.67667668,\n",
       "         6.68668669,   6.6966967 ,   6.70670671,   6.71671672,\n",
       "         6.72672673,   6.73673674,   6.74674675,   6.75675676,\n",
       "         6.76676677,   6.77677678,   6.78678679,   6.7967968 ,\n",
       "         6.80680681,   6.81681682,   6.82682683,   6.83683684,\n",
       "         6.84684685,   6.85685686,   6.86686687,   6.87687688,\n",
       "         6.88688689,   6.8968969 ,   6.90690691,   6.91691692,\n",
       "         6.92692693,   6.93693694,   6.94694695,   6.95695696,\n",
       "         6.96696697,   6.97697698,   6.98698699,   6.996997  ,\n",
       "         7.00700701,   7.01701702,   7.02702703,   7.03703704,\n",
       "         7.04704705,   7.05705706,   7.06706707,   7.07707708,\n",
       "         7.08708709,   7.0970971 ,   7.10710711,   7.11711712,\n",
       "         7.12712713,   7.13713714,   7.14714715,   7.15715716,\n",
       "         7.16716717,   7.17717718,   7.18718719,   7.1971972 ,\n",
       "         7.20720721,   7.21721722,   7.22722723,   7.23723724,\n",
       "         7.24724725,   7.25725726,   7.26726727,   7.27727728,\n",
       "         7.28728729,   7.2972973 ,   7.30730731,   7.31731732,\n",
       "         7.32732733,   7.33733734,   7.34734735,   7.35735736,\n",
       "         7.36736737,   7.37737738,   7.38738739,   7.3973974 ,\n",
       "         7.40740741,   7.41741742,   7.42742743,   7.43743744,\n",
       "         7.44744745,   7.45745746,   7.46746747,   7.47747748,\n",
       "         7.48748749,   7.4974975 ,   7.50750751,   7.51751752,\n",
       "         7.52752753,   7.53753754,   7.54754755,   7.55755756,\n",
       "         7.56756757,   7.57757758,   7.58758759,   7.5975976 ,\n",
       "         7.60760761,   7.61761762,   7.62762763,   7.63763764,\n",
       "         7.64764765,   7.65765766,   7.66766767,   7.67767768,\n",
       "         7.68768769,   7.6976977 ,   7.70770771,   7.71771772,\n",
       "         7.72772773,   7.73773774,   7.74774775,   7.75775776,\n",
       "         7.76776777,   7.77777778,   7.78778779,   7.7977978 ,\n",
       "         7.80780781,   7.81781782,   7.82782783,   7.83783784,\n",
       "         7.84784785,   7.85785786,   7.86786787,   7.87787788,\n",
       "         7.88788789,   7.8978979 ,   7.90790791,   7.91791792,\n",
       "         7.92792793,   7.93793794,   7.94794795,   7.95795796,\n",
       "         7.96796797,   7.97797798,   7.98798799,   7.997998  ,\n",
       "         8.00800801,   8.01801802,   8.02802803,   8.03803804,\n",
       "         8.04804805,   8.05805806,   8.06806807,   8.07807808,\n",
       "         8.08808809,   8.0980981 ,   8.10810811,   8.11811812,\n",
       "         8.12812813,   8.13813814,   8.14814815,   8.15815816,\n",
       "         8.16816817,   8.17817818,   8.18818819,   8.1981982 ,\n",
       "         8.20820821,   8.21821822,   8.22822823,   8.23823824,\n",
       "         8.24824825,   8.25825826,   8.26826827,   8.27827828,\n",
       "         8.28828829,   8.2982983 ,   8.30830831,   8.31831832,\n",
       "         8.32832833,   8.33833834,   8.34834835,   8.35835836,\n",
       "         8.36836837,   8.37837838,   8.38838839,   8.3983984 ,\n",
       "         8.40840841,   8.41841842,   8.42842843,   8.43843844,\n",
       "         8.44844845,   8.45845846,   8.46846847,   8.47847848,\n",
       "         8.48848849,   8.4984985 ,   8.50850851,   8.51851852,\n",
       "         8.52852853,   8.53853854,   8.54854855,   8.55855856,\n",
       "         8.56856857,   8.57857858,   8.58858859,   8.5985986 ,\n",
       "         8.60860861,   8.61861862,   8.62862863,   8.63863864,\n",
       "         8.64864865,   8.65865866,   8.66866867,   8.67867868,\n",
       "         8.68868869,   8.6986987 ,   8.70870871,   8.71871872,\n",
       "         8.72872873,   8.73873874,   8.74874875,   8.75875876,\n",
       "         8.76876877,   8.77877878,   8.78878879,   8.7987988 ,\n",
       "         8.80880881,   8.81881882,   8.82882883,   8.83883884,\n",
       "         8.84884885,   8.85885886,   8.86886887,   8.87887888,\n",
       "         8.88888889,   8.8988989 ,   8.90890891,   8.91891892,\n",
       "         8.92892893,   8.93893894,   8.94894895,   8.95895896,\n",
       "         8.96896897,   8.97897898,   8.98898899,   8.998999  ,\n",
       "         9.00900901,   9.01901902,   9.02902903,   9.03903904,\n",
       "         9.04904905,   9.05905906,   9.06906907,   9.07907908,\n",
       "         9.08908909,   9.0990991 ,   9.10910911,   9.11911912,\n",
       "         9.12912913,   9.13913914,   9.14914915,   9.15915916,\n",
       "         9.16916917,   9.17917918,   9.18918919,   9.1991992 ,\n",
       "         9.20920921,   9.21921922,   9.22922923,   9.23923924,\n",
       "         9.24924925,   9.25925926,   9.26926927,   9.27927928,\n",
       "         9.28928929,   9.2992993 ,   9.30930931,   9.31931932,\n",
       "         9.32932933,   9.33933934,   9.34934935,   9.35935936,\n",
       "         9.36936937,   9.37937938,   9.38938939,   9.3993994 ,\n",
       "         9.40940941,   9.41941942,   9.42942943,   9.43943944,\n",
       "         9.44944945,   9.45945946,   9.46946947,   9.47947948,\n",
       "         9.48948949,   9.4994995 ,   9.50950951,   9.51951952,\n",
       "         9.52952953,   9.53953954,   9.54954955,   9.55955956,\n",
       "         9.56956957,   9.57957958,   9.58958959,   9.5995996 ,\n",
       "         9.60960961,   9.61961962,   9.62962963,   9.63963964,\n",
       "         9.64964965,   9.65965966,   9.66966967,   9.67967968,\n",
       "         9.68968969,   9.6996997 ,   9.70970971,   9.71971972,\n",
       "         9.72972973,   9.73973974,   9.74974975,   9.75975976,\n",
       "         9.76976977,   9.77977978,   9.78978979,   9.7997998 ,\n",
       "         9.80980981,   9.81981982,   9.82982983,   9.83983984,\n",
       "         9.84984985,   9.85985986,   9.86986987,   9.87987988,\n",
       "         9.88988989,   9.8998999 ,   9.90990991,   9.91991992,\n",
       "         9.92992993,   9.93993994,   9.94994995,   9.95995996,\n",
       "         9.96996997,   9.97997998,   9.98998999,  10.        ])"
      ]
     },
     "execution_count": 14,
     "metadata": {},
     "output_type": "execute_result"
    }
   ],
   "source": [
    "x"
   ]
  },
  {
   "cell_type": "markdown",
   "metadata": {},
   "source": [
    "The `numpy` function `linspace` returns evenly spaced numbers over a specified interval. In the example above, we store a NumPy array of 1000 evenly spaced numbers between 0 and 10 in variable `x`."
   ]
  },
  {
   "cell_type": "markdown",
   "metadata": {},
   "source": [
    "**Plotting $f(x)$**\n",
    "\n",
    "Simply call `plt.plot(x, f(x))` to have Matplotlib draw the graph of function $f(x)$ to the figure. For example:"
   ]
  },
  {
   "cell_type": "code",
   "execution_count": 15,
   "metadata": {},
   "outputs": [
    {
     "data": {
      "text/plain": [
       "[<matplotlib.lines.Line2D at 0x11ac59518>]"
      ]
     },
     "execution_count": 15,
     "metadata": {},
     "output_type": "execute_result"
    },
    {
     "data": {
      "image/png": "[encoded data removed]",
      "text/plain": [
       "<matplotlib.figure.Figure at 0x11a9b12b0>"
      ]
     },
     "metadata": {},
     "output_type": "display_data"
    }
   ],
   "source": [
    "plt.plot(x, x + 1) # plotting f(x) = x + 1"
   ]
  },
  {
   "cell_type": "code",
   "execution_count": 16,
   "metadata": {},
   "outputs": [
    {
     "data": {
      "text/plain": [
       "[<matplotlib.lines.Line2D at 0x11acac860>]"
      ]
     },
     "execution_count": 16,
     "metadata": {},
     "output_type": "execute_result"
    },
    {
     "data": {
      "image/png": "[encoded data removed]",
      "text/plain": [
       "<matplotlib.figure.Figure at 0x11ac8f278>"
      ]
     },
     "metadata": {},
     "output_type": "display_data"
    }
   ],
   "source": [
    "plt.plot(x, np.sin(x)) # plotting f(x) = sin(x), the sine function is imported from NumPy"
   ]
  },
  {
   "cell_type": "markdown",
   "metadata": {},
   "source": [
    "It is also possible to include multiple graphs in one figure. For example:"
   ]
  },
  {
   "cell_type": "code",
   "execution_count": 17,
   "metadata": {},
   "outputs": [
    {
     "data": {
      "text/plain": [
       "[<matplotlib.lines.Line2D at 0x11ae323c8>]"
      ]
     },
     "execution_count": 17,
     "metadata": {},
     "output_type": "execute_result"
    },
    {
     "data": {
      "image/png": "[encoded data removed]",
      "text/plain": [
       "<matplotlib.figure.Figure at 0x11ae32518>"
      ]
     },
     "metadata": {},
     "output_type": "display_data"
    }
   ],
   "source": [
    "plt.plot(x, x + 2) # plotting f(x) = x + 2\n",
    "plt.plot(x, np.cos(x)) # plotting f(x) = cos(x)"
   ]
  },
  {
   "cell_type": "markdown",
   "metadata": {},
   "source": [
    "## Plotting scatter plots\n",
    "\n",
    "Using the function `plt.scatter()` from Matplotlib, we can draw scatter plots. For example:"
   ]
  },
  {
   "cell_type": "code",
   "execution_count": 19,
   "metadata": {},
   "outputs": [
    {
     "data": {
      "text/plain": [
       "<matplotlib.collections.PathCollection at 0x11b223860>"
      ]
     },
     "execution_count": 19,
     "metadata": {},
     "output_type": "execute_result"
    },
    {
     "data": {
      "image/png": "[encoded data removed]",
      "text/plain": [
       "<matplotlib.figure.Figure at 0x11abdd048>"
      ]
     },
     "metadata": {},
     "output_type": "display_data"
    }
   ],
   "source": [
    "x = np.array([0, 3, 6, 4, 1])\n",
    "y = np.array([10, 20, 16, 5, 8])\n",
    "\n",
    "plt.scatter(x, y)"
   ]
  },
  {
   "cell_type": "markdown",
   "metadata": {},
   "source": [
    "It is also possible to change up the size and the color of the points on the plot. To do so, we pass in optional parameters of the `plt.scatter()` function, `c` for color and `s` for size. For example:"
   ]
  },
  {
   "cell_type": "code",
   "execution_count": 21,
   "metadata": {},
   "outputs": [
    {
     "data": {
      "text/plain": [
       "<matplotlib.collections.PathCollection at 0x11b3786d8>"
      ]
     },
     "execution_count": 21,
     "metadata": {},
     "output_type": "execute_result"
    },
    {
     "data": {
      "image/png": "[encoded data removed]",
      "text/plain": [
       "<matplotlib.figure.Figure at 0x11b29f400>"
      ]
     },
     "metadata": {},
     "output_type": "display_data"
    }
   ],
   "source": [
    "x = np.array([0, 3, 6, 4, 1])\n",
    "y = np.array([10, 20, 16, 5, 8])\n",
    "\n",
    "plt.scatter(x, y, c='red', s=100)"
   ]
  },
  {
   "cell_type": "markdown",
   "metadata": {},
   "source": [
    "## Plotting histograms\n",
    "\n",
    "Sometimes, a simple histogram is the simplest, and the best way to visualize and understand your data, especially its distribution. As other plotting functions, plotting historgrams can be done just by calling one Matplotlib function, `plt.hist()` in this case."
   ]
  },
  {
   "cell_type": "code",
   "execution_count": 25,
   "metadata": {
    "collapsed": true
   },
   "outputs": [],
   "source": [
    "x = np.random.randn(1000) # generate a random dataset of 1000 elements"
   ]
  },
  {
   "cell_type": "code",
   "execution_count": 26,
   "metadata": {},
   "outputs": [
    {
     "data": {
      "text/plain": [
       "array([ -4.38203108e-01,  -1.13648380e+00,  -2.03527706e-01,\n",
       "        -8.27888870e-01,   6.42681889e-01,   1.17588337e+00,\n",
       "        -1.89025996e-01,  -4.63533569e-01,   4.34201845e-01,\n",
       "        -8.15121160e-01,  -4.90336781e-01,   2.41165015e-01,\n",
       "         1.39512428e-01,   1.19442115e-01,   6.80633722e-01,\n",
       "         3.25393814e-01,  -1.55772013e+00,   1.02150900e+00,\n",
       "         1.28739113e+00,  -5.67969295e-01,  -6.16383152e-01,\n",
       "        -1.92421761e-01,  -9.44670694e-01,  -5.13374827e-01,\n",
       "        -1.47362908e-01,  -1.24762891e+00,   4.79552806e-01,\n",
       "        -1.41113409e+00,   9.76695699e-01,  -4.09721738e-03,\n",
       "        -1.35822095e+00,  -5.38197091e-01,  -8.55270638e-01,\n",
       "         8.10474897e-01,   3.38003670e-01,   1.09881574e-01,\n",
       "        -7.65660139e-01,  -3.74679216e-01,  -6.28249587e-01,\n",
       "         8.84466482e-01,  -5.92943708e-01,   1.57216218e+00,\n",
       "        -8.45844697e-01,  -4.46446856e-01,  -8.31000489e-01,\n",
       "        -1.24109202e+00,   1.76706720e+00,  -6.53942095e-01,\n",
       "         8.69557185e-01,  -4.18598192e-01,   2.02999055e+00,\n",
       "         9.44592407e-01,  -3.08602123e-01,   1.00124118e+00,\n",
       "         1.36000143e+00,   1.76833128e-01,   9.75059443e-01,\n",
       "        -3.47950539e-01,   2.13103357e+00,   2.30029928e-01,\n",
       "        -1.22311875e+00,  -8.11427840e-01,   1.77570142e+00,\n",
       "        -5.19491578e-01,   8.02047032e-01,  -1.05859271e+00,\n",
       "         1.21247038e+00,  -5.13336483e-01,   7.22188065e-01,\n",
       "         7.43739322e-01,  -5.29439231e-01,  -1.29888331e+00,\n",
       "        -5.97701817e-01,  -7.51523795e-01,  -5.11282991e-01,\n",
       "        -6.29651384e-02,  -5.29217621e-01,  -1.00709897e-01,\n",
       "        -6.89435521e-01,   1.75823339e+00,  -7.24188810e-01,\n",
       "        -7.87439005e-01,  -2.83693083e-01,  -9.14079537e-01,\n",
       "        -4.86894688e-01,  -9.46583718e-01,   5.65061553e-01,\n",
       "         6.51443301e-01,   1.44507091e+00,   1.08550803e-01,\n",
       "         7.49618034e-01,   1.61614907e+00,   3.81971270e-02,\n",
       "        -1.73072195e+00,  -1.05106727e+00,   1.39829767e-01,\n",
       "        -3.00991845e-01,   3.14717742e-01,   9.32717037e-01,\n",
       "         9.41547424e-01,   5.13263303e-01,   6.75867150e-02,\n",
       "        -1.42820241e+00,   1.09202771e+00,  -1.60141616e+00,\n",
       "        -1.58978253e+00,  -4.01785513e-01,  -6.25984193e-01,\n",
       "         3.45647702e-02,  -2.57262385e-01,   2.37838853e-01,\n",
       "         1.66804560e+00,   5.00295360e-01,   6.95987928e-02,\n",
       "        -2.22572991e+00,   1.80520270e-01,  -4.28875073e-01,\n",
       "         2.55712166e-02,   1.01429971e+00,   1.31460089e+00,\n",
       "        -1.14381651e-01,  -1.13737184e+00,   1.45088808e+00,\n",
       "        -1.59097204e+00,   4.27741092e-01,   1.37371331e+00,\n",
       "         7.56376548e-01,   2.20880910e+00,  -4.56729197e-01,\n",
       "         6.19833823e-01,   8.15640387e-01,   1.05394236e+00,\n",
       "         8.75072363e-02,   1.40959644e+00,   1.84495945e+00,\n",
       "         2.03323943e-01,   2.87705031e-01,  -5.92362992e-01,\n",
       "         1.20685096e+00,   2.78570064e-01,  -1.33764472e+00,\n",
       "        -3.04964833e-01,   7.59738452e-02,  -1.24756556e-01,\n",
       "        -1.15346298e+00,  -9.83521508e-02,   1.20148618e+00,\n",
       "         4.57051694e-01,  -5.49987154e-01,   6.11551715e-01,\n",
       "        -4.63695790e-01,  -1.12252344e+00,   1.18497762e-01,\n",
       "        -3.79827645e-01,   1.22270334e-01,   6.59302058e-01,\n",
       "        -4.21683642e-01,  -5.58991775e-01,  -6.38595959e-01,\n",
       "         4.37722472e-01,   1.03246571e+00,   6.79347284e-01,\n",
       "         9.19113026e-02,   4.30284046e-01,  -9.18449298e-01,\n",
       "         6.57389367e-01,   3.92294876e-01,   1.75557363e+00,\n",
       "         8.41320007e-01,  -1.83895921e+00,  -3.94258528e-01,\n",
       "        -2.06906680e+00,   1.54643513e+00,  -7.13456648e-01,\n",
       "         7.33063101e-02,   3.74740379e-01,   6.32277681e-01,\n",
       "        -2.05730619e-01,  -3.61934534e-01,  -5.87150856e-01,\n",
       "         8.78906203e-01,  -5.52075692e-01,   8.43405945e-01,\n",
       "        -1.33514405e+00,   6.63266135e-01,  -9.20780371e-01,\n",
       "         1.11436317e+00,   8.21554036e-01,  -9.37923634e-01,\n",
       "        -3.39172086e-01,   8.55892302e-01,   1.41461710e-01,\n",
       "         1.79817994e+00,  -2.53599024e-01,  -1.18213683e+00,\n",
       "         2.85500202e-01,  -1.19963903e-01,   1.04581805e+00,\n",
       "        -1.22361498e+00,   2.22114950e-01,   2.17972873e+00,\n",
       "         1.86883424e-01,   9.41149269e-01,  -1.05492437e+00,\n",
       "         2.70083170e-01,  -1.71941177e+00,   1.00061291e+00,\n",
       "         9.66489046e-01,   7.67180217e-01,  -1.98093571e+00,\n",
       "         5.89626438e-01,   4.73857110e-01,  -1.72605707e-01,\n",
       "        -1.32572769e-01,   3.89609521e-02,   2.49077306e+00,\n",
       "         2.29361854e-01,   9.07235749e-01,  -1.27297326e-01,\n",
       "         4.84910782e-01,  -7.90302957e-01,   2.87555182e-01,\n",
       "        -1.15522655e+00,   5.93028171e-01,  -1.77858090e-01,\n",
       "        -5.47215497e-01,  -4.89340541e-01,  -2.81362829e-01,\n",
       "        -8.87077346e-01,   4.71794804e-01,  -1.72739141e+00,\n",
       "         5.45481084e-01,  -2.99898842e-01,  -5.46219106e-01,\n",
       "        -2.98830863e-01,   9.82406149e-02,  -4.38144659e-01,\n",
       "        -1.92607737e-01,   5.91379928e-02,   5.88034682e-01,\n",
       "         9.59649150e-01,  -8.10580233e-01,   7.29995740e-01,\n",
       "         1.60003018e+00,   1.31882502e-01,  -3.37909494e-01,\n",
       "         9.06937220e-01,   1.09129470e+00,   1.70725012e+00,\n",
       "         1.86256536e+00,   6.37583157e-01,  -1.03130033e+00,\n",
       "        -1.36421530e+00,  -6.94774017e-01,  -4.20635766e-01,\n",
       "        -6.33722289e-01,   1.11969825e+00,   2.74281266e-03,\n",
       "        -1.52436028e+00,  -5.64195448e-01,   1.07755334e+00,\n",
       "         3.70198853e-01,   1.74301360e+00,  -8.02020847e-01,\n",
       "        -3.92170321e-02,  -2.75159735e-01,   7.72018769e-01,\n",
       "        -2.35449349e+00,   6.21826195e-01,  -6.57668131e-01,\n",
       "         2.57182090e-01,   5.73282358e-01,   1.83869305e+00,\n",
       "         4.95361289e-01,   1.87705610e-01,  -2.83328113e-01,\n",
       "         7.34521727e-01,  -9.31514582e-01,   1.91844784e+00,\n",
       "         1.64926258e-01,   2.42699431e+00,   1.67457870e+00,\n",
       "         2.41884210e-01,  -3.98407808e-01,  -8.56476724e-01,\n",
       "        -5.49927810e-01,   6.09345406e-01,  -8.41672135e-01,\n",
       "        -2.52027908e-01,  -6.55454082e-01,  -5.02880637e-01,\n",
       "        -3.49952251e-01,  -2.64163069e-01,  -1.97477617e-01,\n",
       "         6.35084518e-01,  -1.59209509e+00,  -3.30853047e-01,\n",
       "         1.40179906e+00,  -2.19572699e-01,   3.71919423e-01,\n",
       "        -3.31911971e-02,   4.66395768e-01,   2.05521600e-01,\n",
       "         9.26313137e-01,  -1.53219232e-01,  -7.22832554e-01,\n",
       "        -5.19786620e-01,  -1.22651789e+00,   1.10413249e+00,\n",
       "         7.60998956e-01,  -5.22794395e-01,   1.13250605e+00,\n",
       "        -8.24747219e-01,  -8.21714697e-01,  -7.84394527e-01,\n",
       "         2.54586253e+00,   4.03660758e-01,  -2.38289028e+00,\n",
       "         6.79513632e-01,  -8.62561886e-01,  -1.18055332e-01,\n",
       "        -1.35540139e+00,   1.89993106e+00,   8.65540881e-01,\n",
       "        -7.53371694e-01,  -5.63537586e-01,   9.17043620e-01,\n",
       "         1.09194970e+00,  -2.44477649e-01,   7.65088898e-01,\n",
       "        -1.16111923e-01,   1.49561285e+00,  -2.40069316e+00,\n",
       "        -1.02956385e-01,  -9.03520513e-01,   6.18319105e-01,\n",
       "         1.34230341e+00,   2.73734885e-01,  -4.49105945e-01,\n",
       "        -8.01148185e-01,  -8.21686143e-01,  -7.39278393e-04,\n",
       "        -2.02238394e-01,   3.02338601e+00,  -3.11518053e-01,\n",
       "        -2.15783637e+00,   1.25531592e+00,  -7.65135726e-01,\n",
       "        -4.39968047e-01,   3.28793072e-01,  -1.42290541e+00,\n",
       "        -1.38061951e+00,   1.10381543e+00,  -1.85157191e+00,\n",
       "        -3.75147912e-01,  -1.68645140e+00,   1.22031240e+00,\n",
       "         2.93757216e-01,  -1.26253057e-01,  -7.79435161e-01,\n",
       "        -1.57184953e-01,   9.26664163e-01,  -4.53161426e-01,\n",
       "        -4.83631990e-01,   6.55370480e-01,  -1.95996042e+00,\n",
       "         1.01771822e-01,  -1.83094105e-01,  -5.48534344e-01,\n",
       "        -6.46520215e-01,   1.87331633e-01,   4.43471151e-01,\n",
       "        -1.02788928e+00,   2.65700130e+00,   7.47477493e-01,\n",
       "        -3.04307557e-01,  -2.83617065e+00,   5.91943188e-01,\n",
       "         4.60294261e-01,  -9.56236033e-01,  -2.26216125e-02,\n",
       "        -4.15288680e-01,  -2.52839541e-01,   1.52922484e+00,\n",
       "         5.62773778e-01,   2.19957710e+00,  -1.18553424e-01,\n",
       "         2.50142469e+00,   9.99377811e-01,  -1.02431237e+00,\n",
       "         5.50148381e-01,   2.12078161e+00,   2.23841278e-01,\n",
       "        -2.13525404e+00,   8.45276577e-01,  -1.93016083e-01,\n",
       "         1.19403404e+00,   9.71005170e-01,  -1.17095461e+00,\n",
       "        -1.70369791e-02,  -2.81827879e+00,  -3.01189916e-01,\n",
       "         1.07360121e+00,   6.60129829e-01,   5.17746941e-01,\n",
       "         4.04009408e-01,  -1.16784933e+00,  -8.87327334e-01,\n",
       "        -2.32736846e-02,   2.84966001e-01,  -4.32270446e-01,\n",
       "         6.65826657e-01,   1.81418817e+00,  -9.36808592e-01,\n",
       "         6.79670509e-01,  -1.53963613e+00,  -2.10608001e-01,\n",
       "         2.70993810e+00,   1.45773615e-01,   8.66610958e-01,\n",
       "         2.24345365e+00,  -2.35436600e-01,   2.28609722e-01,\n",
       "         5.73636816e-01,   7.61198862e-01,   3.08081787e-01,\n",
       "        -5.48503770e-01,  -3.91688259e-01,   7.54248797e-02,\n",
       "        -1.26850649e+00,  -4.70866596e-03,   3.46061770e-01,\n",
       "         6.10209850e-01,  -2.67957619e-01,   7.34890975e-01,\n",
       "        -1.92101474e+00,   9.68511759e-01,  -6.44406978e-01,\n",
       "        -4.81744120e-01,   2.93869003e-02,  -1.22271147e-01,\n",
       "        -2.41668410e+00,  -8.54815499e-01,   1.83913198e-01,\n",
       "        -9.91857741e-01,  -6.81200361e-01,  -5.21788370e-01,\n",
       "         2.54082623e-01,   5.37087828e-01,   1.86309722e+00,\n",
       "         8.36700318e-01,  -5.43451046e-01,   2.64598309e-01,\n",
       "        -6.50686569e-01,  -1.81134270e-01,   1.80629125e-01,\n",
       "         1.40711923e+00,  -6.19506644e-01,   2.59718798e-01,\n",
       "        -1.01417760e+00,   1.38949446e+00,   1.29643617e+00,\n",
       "        -1.32727442e+00,   1.93210599e+00,   2.76676306e-01,\n",
       "         1.96141405e+00,  -1.05458081e-01,   1.44590673e-01,\n",
       "        -3.01260458e-01,   6.64370866e-01,  -2.46439088e-01,\n",
       "        -2.58643123e-01,  -4.38592959e-02,   6.59887611e-01,\n",
       "        -8.47250761e-01,  -4.19341956e-01,   1.92852086e-02,\n",
       "        -3.44897962e-01,   3.29537545e-01,   5.45337915e-01,\n",
       "        -8.99047273e-01,  -9.15784515e-01,   9.26081706e-01,\n",
       "         7.41878256e-01,  -2.50289790e-01,  -1.31457714e+00,\n",
       "         7.83643957e-01,  -1.37231013e+00,   4.05854357e-01,\n",
       "        -9.63974799e-01,  -8.92401508e-01,  -1.06066911e+00,\n",
       "         1.05339756e+00,   7.33685092e-01,  -1.11499756e+00,\n",
       "        -3.31199291e-01,  -7.27029512e-01,  -3.42049416e-01,\n",
       "        -1.31892274e+00,  -6.64511512e-01,   6.13791538e-01,\n",
       "         6.86405238e-01,   6.25623663e-01,  -3.77773585e-01,\n",
       "        -1.71884696e-02,  -9.61353451e-01,  -2.04678934e-01,\n",
       "         3.50090214e-01,   1.79983637e+00,   6.59153460e-01,\n",
       "         1.58917903e+00,  -1.66115775e-01,  -1.88721948e-01,\n",
       "         2.61530219e-01,  -2.43177059e+00,  -4.09609314e-01,\n",
       "         6.02874853e-01,  -2.86742613e-01,   1.52685048e+00,\n",
       "         3.99182200e-01,  -6.89869762e-01,  -2.98622813e-01,\n",
       "         3.17203465e-01,   5.16929501e-01,  -1.26385620e+00,\n",
       "        -1.46080099e+00,  -3.57759381e-01,  -1.13630004e+00,\n",
       "         5.27884576e-01,  -1.55625227e+00,  -8.12896320e-01,\n",
       "        -3.00574336e-01,   5.15762230e-01,   5.35306182e-01,\n",
       "        -4.86854756e-01,   1.30592121e+00,  -1.97075007e+00,\n",
       "        -1.70420931e+00,  -1.88305958e-01,  -9.95629561e-01,\n",
       "        -7.36939730e-01,   5.11498171e-01,  -1.20449200e+00,\n",
       "        -1.16774892e+00,   4.77237954e-01,   1.02685755e+00,\n",
       "         3.22548677e-01,  -1.89810835e+00,   6.26669595e-01,\n",
       "        -7.67896801e-01,  -4.03593043e-01,  -1.02988723e+00,\n",
       "        -2.73228220e-01,   1.42963751e+00,  -8.70556620e-01,\n",
       "        -1.26603758e+00,  -4.02594075e-01,  -3.99214681e-01,\n",
       "         4.44558667e-01,  -8.05712448e-01,   6.49310761e-01,\n",
       "        -1.95920137e-01,  -5.96328902e-01,  -4.08284601e-01,\n",
       "         1.50456905e-01,  -1.75321368e+00,   1.33675394e+00,\n",
       "        -6.71770024e-01,  -7.50727392e-01,   1.93000287e+00,\n",
       "         1.58147428e-01,  -1.42310849e+00,  -1.36688561e-01,\n",
       "         1.30800227e+00,   8.82886181e-01,   2.65927205e-01,\n",
       "        -1.41867095e+00,  -4.29456743e-01,   8.61308127e-02,\n",
       "        -1.30570273e+00,   5.10334074e-01,   7.86525901e-01,\n",
       "        -1.08682422e-01,   8.66931720e-01,   9.39918777e-01,\n",
       "        -1.90463299e+00,  -4.04136737e-02,  -1.80662524e+00,\n",
       "         1.34981623e+00,   5.42814256e-01,   4.60605147e-01,\n",
       "         3.92340047e-01,  -1.73231354e+00,  -1.70810408e-01,\n",
       "        -1.47844196e+00,  -7.86960956e-01,   8.97527525e-01,\n",
       "         2.72051610e-01,  -7.68569915e-01,  -4.34984631e-01,\n",
       "        -4.23361271e-01,  -5.46879381e-01,   4.10924992e-02,\n",
       "         3.32604663e-01,  -6.21868405e-01,   1.26808697e+00,\n",
       "         3.94757079e-01,  -4.33469508e-01,   7.89173675e-01,\n",
       "        -9.89281652e-02,   2.17644123e-01,  -1.74953225e+00,\n",
       "         7.54672513e-01,  -9.22962093e-01,  -5.31105563e-01,\n",
       "         1.09281574e+00,  -7.96004683e-01,   1.38140625e+00,\n",
       "         3.67670391e-03,   1.61060944e+00,  -3.52841567e-02,\n",
       "         9.62521000e-01,  -2.06517568e-01,  -2.81437844e-01,\n",
       "        -9.76067186e-01,  -6.40810766e-02,   1.28796317e+00,\n",
       "        -1.52594710e+00,   2.42867502e-01,   6.88561469e-01,\n",
       "         2.48665700e-01,   4.82205217e-01,  -1.99160353e+00,\n",
       "        -2.75033167e-01,   1.83048927e+00,   2.54846997e-01,\n",
       "        -5.13345816e-01,   6.88733099e-01,   2.21217398e+00,\n",
       "        -1.44403970e+00,   4.05503957e-01,   8.04400077e-01,\n",
       "        -6.51901662e-01,   9.26521075e-01,  -5.94941368e-02,\n",
       "         1.17934248e+00,  -3.98038045e-01,   9.16689461e-01,\n",
       "         1.53416193e+00,  -2.37388979e-01,   1.12222131e+00,\n",
       "        -1.15769909e+00,  -3.03979874e-03,  -9.39195652e-01,\n",
       "        -1.99398582e-01,   1.15848833e+00,  -2.74744967e-02,\n",
       "        -4.05847708e-02,  -7.72364981e-02,   2.34456198e+00,\n",
       "         1.41474173e+00,   6.45312635e-01,  -2.19061105e-01,\n",
       "        -1.28889853e+00,   2.52407841e-01,   8.02339836e-01,\n",
       "         2.56813659e+00,   1.20480294e+00,   2.18475423e-01,\n",
       "        -3.87110822e-01,  -6.31948481e-01,  -2.08100315e+00,\n",
       "         1.30358416e+00,   1.37651577e+00,   1.67410525e+00,\n",
       "         3.30938391e-01,   1.12801606e-01,   3.36495666e-01,\n",
       "         7.57161309e-01,  -1.70300763e-01,  -1.41895037e+00,\n",
       "        -1.56881341e+00,   1.23271872e+00,   1.27118359e+00,\n",
       "         5.88094082e-01,  -3.89302358e-01,   3.38659652e-01,\n",
       "        -1.28536985e+00,   8.99304549e-01,   1.10044150e+00,\n",
       "        -1.07304551e+00,  -1.66658070e+00,  -5.64712938e-01,\n",
       "        -6.87481818e-01,   4.96732106e-01,  -1.30628675e+00,\n",
       "         2.19546197e+00,   4.61578790e-01,   1.14431579e+00,\n",
       "        -1.32927415e+00,   1.02344064e+00,  -1.91420297e+00,\n",
       "        -1.12983791e+00,  -9.65919031e-01,   1.49180621e+00,\n",
       "        -4.85637556e-02,  -6.98331219e-01,   1.35143997e+00,\n",
       "         6.19686369e-01,  -4.27045452e-03,  -1.47663050e+00,\n",
       "        -6.47091249e-02,   2.35712302e-01,   1.16017019e+00,\n",
       "         2.06341777e+00,  -1.05865288e+00,  -4.56427886e-01,\n",
       "         6.22200979e-02,  -1.35787070e+00,  -7.52285152e-01,\n",
       "         9.82880236e-01,  -4.15478423e-01,   1.19869112e-01,\n",
       "        -6.49698412e-01,   1.29045198e+00,  -6.11370499e-01,\n",
       "         1.64908666e+00,   1.01918102e+00,  -4.23136168e-01,\n",
       "         1.61302249e-01,  -1.26837120e+00,   1.33535652e-01,\n",
       "         7.07095808e-01,  -9.78289130e-01,   4.35720591e-01,\n",
       "        -1.55394465e+00,  -8.07230263e-01,   5.19319638e-01,\n",
       "         3.27604670e-01,   1.47910363e+00,  -5.87342827e-01,\n",
       "        -2.97441763e-01,   2.15115260e-01,  -8.64572338e-01,\n",
       "        -7.62439580e-01,   1.36706046e+00,   7.79800909e-01,\n",
       "        -3.78429371e-01,   1.22949171e+00,  -5.54412511e-01,\n",
       "        -4.55334267e-01,  -2.47253652e-01,   1.74414509e+00,\n",
       "         1.49229918e+00,  -1.11835848e+00,   5.89707704e-01,\n",
       "        -7.00745724e-01,  -1.47976136e-01,  -5.40838501e-02,\n",
       "         1.43621962e-01,  -5.56501678e-01,   3.42929529e-01,\n",
       "        -8.32939040e-01,   4.21598852e-01,  -6.55603904e-01,\n",
       "        -1.17468126e+00,  -1.18249102e+00,   1.27969166e+00,\n",
       "         8.11915703e-02,   1.24127186e+00,  -8.69258359e-02,\n",
       "         1.02349092e+00,   4.00978261e-01,   1.45555944e+00,\n",
       "        -1.08046498e+00,  -9.14249995e-02,   1.63563499e+00,\n",
       "         5.39159458e-01,   2.93058850e-01,   1.23446533e+00,\n",
       "         1.01509598e+00,  -6.89829683e-01,  -1.20356282e+00,\n",
       "         4.86857795e-01,   1.03253049e-01,   5.77094018e-01,\n",
       "         9.67273903e-01,  -7.59878076e-02,   1.50428020e+00,\n",
       "        -7.38966742e-01,  -2.07557327e+00,   2.10594169e+00,\n",
       "        -5.53384846e-01,  -3.16724130e-01,   4.99610759e-01,\n",
       "         3.48386326e-01,   3.16286050e-01,   1.32561931e+00,\n",
       "        -9.16966345e-01,   7.87282915e-01,   6.68233832e-01,\n",
       "        -8.83802175e-01,   1.61205195e+00,   1.20615364e+00,\n",
       "         2.12920042e-01,  -1.63641894e-01,   9.49199289e-01,\n",
       "         4.21571691e-01,   6.17824855e-01,  -9.94581445e-01,\n",
       "        -5.98012374e-01,  -5.90232762e-01,   1.31990365e+00,\n",
       "         1.22522776e+00,   1.45878636e+00,  -2.04597661e+00,\n",
       "        -6.06768439e-01,   5.04202088e-01,  -7.01466274e-01,\n",
       "         3.83334302e-01,  -7.16906934e-02,   3.77031659e-01,\n",
       "        -2.02518313e-01,   1.07981387e+00,  -1.49795358e+00,\n",
       "         1.52723118e+00,   2.78648906e+00,  -5.02214207e-03,\n",
       "         2.99684730e-01,  -1.77445057e+00,   2.32403072e+00,\n",
       "        -1.02664460e+00,   1.77376589e+00,  -8.89013888e-01,\n",
       "        -9.89310560e-02,   6.73367109e-01,   6.27539023e-01,\n",
       "        -1.40183921e-01,  -9.45295896e-02,   2.38515216e-01,\n",
       "        -3.43131511e-01,  -7.98191510e-01,   3.87589970e-02,\n",
       "         8.12812766e-01,   2.30631605e-01,  -5.78474565e-02,\n",
       "        -1.13026534e+00,  -4.61972466e-01,   3.90377549e-01,\n",
       "         2.08161455e-01,   3.86197312e-01,  -1.63944079e-01,\n",
       "         8.80571895e-01,  -3.93311250e-01,  -7.26892554e-01,\n",
       "        -4.10642431e-01,  -1.49647754e+00,  -4.24168892e-01,\n",
       "         1.20885535e+00,  -3.06461705e-01,   3.31092514e-01,\n",
       "         1.13150597e+00,  -5.64138034e-01,  -1.28820854e-01,\n",
       "         8.69234207e-01,  -3.45344644e-01,   1.25927385e+00,\n",
       "         1.09923844e+00,   1.08500777e+00,   2.11184723e-01,\n",
       "         6.16230166e-01,   5.54729930e-01,  -1.25969088e+00,\n",
       "         1.70842823e+00,   2.15262717e+00,   2.51526132e-02,\n",
       "         1.57122721e-01,   6.01241361e-01,   2.37540747e+00,\n",
       "        -2.36872627e-01,   9.56141395e-01,   4.38174999e-01,\n",
       "        -3.56099050e-01,   7.87069160e-01,   8.28564460e-02,\n",
       "        -1.43711534e+00,  -4.75867187e-01,   5.40317902e-01,\n",
       "        -8.21410597e-01,   7.29856478e-01,  -2.10912487e-01,\n",
       "        -9.64234643e-01,   3.00553458e-01,   1.15488331e+00,\n",
       "        -1.15849613e+00,  -6.66525609e-02,   5.58878030e-01,\n",
       "         1.13361558e+00,   4.82121992e-01,  -2.83819455e-01,\n",
       "        -1.16390730e-02,   1.37421453e+00,  -2.81004489e-01,\n",
       "        -2.02343218e-01,  -9.41536941e-01,  -1.50501872e-01,\n",
       "         3.05421413e-01,  -1.78635193e+00,  -6.30885616e-01,\n",
       "         8.08997299e-01,  -2.10336196e+00,  -6.35825642e-01,\n",
       "        -6.05994711e-01,  -7.67768210e-01,   1.13688499e+00,\n",
       "         2.48262980e-01,  -1.08913543e-01,  -2.09357412e-01,\n",
       "         6.69231933e-01,   2.85263972e-01,  -5.10084005e-01,\n",
       "         3.59103536e-01,   1.04827340e+00,   1.15186528e+00,\n",
       "         6.91025419e-01,   1.30008521e+00,  -1.45289212e+00,\n",
       "         8.71029673e-01,   2.14858862e-01,   7.39177113e-01,\n",
       "        -1.09872609e+00,  -3.40526980e-01,   1.16410772e+00,\n",
       "         7.75121238e-02,   1.37842556e-02,  -2.96720481e-02,\n",
       "         3.25638248e-01,   9.05470084e-01,   6.99573387e-01,\n",
       "        -3.25008769e-01,   6.36151502e-02,  -2.50309176e+00,\n",
       "        -9.68888149e-01,  -1.95995484e+00,  -2.08617201e-02,\n",
       "         3.08212952e-03,  -1.31273067e-03,  -4.57552599e-02,\n",
       "        -8.10772410e-01,   5.10158221e-02,   9.51802539e-02,\n",
       "         2.71244820e+00,   1.91594812e-03,  -8.85218002e-01,\n",
       "         1.06695438e+00,   1.10532710e-01,   4.06244628e-01,\n",
       "         6.43130498e-01,  -7.57051237e-02,  -6.26962774e-01,\n",
       "        -4.98915312e-01,  -1.37321449e+00,  -1.42408615e+00,\n",
       "        -1.01428655e+00,  -2.65693129e+00,   2.30318308e+00,\n",
       "        -1.49034124e-01,   1.38312381e+00,   9.03751870e-01,\n",
       "        -2.43862831e+00,  -1.87783841e+00,   1.29029483e+00,\n",
       "        -8.67508003e-01,   3.12168111e-01,  -1.03178593e+00,\n",
       "        -1.07810312e-01,   1.55715254e+00,   1.03477571e-01,\n",
       "         1.50392692e+00,  -5.22393787e-01,  -6.86764058e-01,\n",
       "        -8.57465459e-01,   1.52460234e+00,   5.77753887e-02,\n",
       "        -1.17379443e+00,  -3.16796400e-01,  -1.27951972e+00,\n",
       "         6.85661536e-01,  -3.68385265e-01,   7.46222637e-01,\n",
       "        -1.36614081e-01,  -2.76602416e+00,   4.02435345e-01,\n",
       "         3.55743315e-01,   5.94065173e-01,  -9.56931041e-01,\n",
       "        -2.78476091e-03,   8.43950315e-01,  -5.82121030e-01,\n",
       "         7.00053636e-01])"
      ]
     },
     "execution_count": 26,
     "metadata": {},
     "output_type": "execute_result"
    }
   ],
   "source": [
    "x"
   ]
  },
  {
   "cell_type": "code",
   "execution_count": 27,
   "metadata": {},
   "outputs": [
    {
     "data": {
      "text/plain": [
       "(array([  11.,   32.,   78.,  176.,  234.,  215.,  146.,   75.,   24.,    9.]),\n",
       " array([-2.83617065, -2.25021499, -1.66425932, -1.07830366, -0.49234799,\n",
       "         0.09360768,  0.67956334,  1.26551901,  1.85147467,  2.43743034,\n",
       "         3.02338601]),\n",
       " <a list of 10 Patch objects>)"
      ]
     },
     "execution_count": 27,
     "metadata": {},
     "output_type": "execute_result"
    },
    {
     "data": {
      "image/png": "[encoded data removed]",
      "text/plain": [
       "<matplotlib.figure.Figure at 0x11b3fcb00>"
      ]
     },
     "metadata": {},
     "output_type": "display_data"
    }
   ],
   "source": [
    "plt.hist(x)"
   ]
  },
  {
   "cell_type": "markdown",
   "metadata": {},
   "source": [
    "## Practice problems\n",
    "\n",
    "Below are some practice problems for you to get used to different functions from Matplotlib. Note that the _Challenge_ portions of the problems touch on the materials that are not covered in the lecture, but could be found easily on the Matplotlib documentation page. A big part of programming in general is not memorizing code, but knowing how to search for it online, so the Challenge portion would help you get better at looking up things in online documentation. Check out the `solution.py` file to find the answers for these problems.\n",
    "\n",
    "**Problem 1:**\n",
    "Plot 3 1-variable function graphs $f(x)=x+1$, $g(x)=sin(x)$, and $h(x)=-x$ in one Matplotlib figure.\n",
    "\n",
    "Challenge: use different colors and different linestyles of your choice.\n",
    "\n",
    "For example:\n",
    "![alt text](https://image.ibb.co/iXyFC5/prob_1.png)\n",
    "\n",
    "**Problem 2:**\n",
    "Use two NumPy arrays of values between 0 and 10 of size 10 of your choice, and use them as coordinates to visualize them using a scatter plot with the size of each point equal 100.\n",
    "\n",
    "Challenge: use `np.random.uniform()` to generate your arrays, and use `np.random.RandomState()` class to generate random color and size for each point on the figure. (Hint: paramter `c` (color) in `plt.scatter()` can take in real number values.)\n",
    "\n",
    "For example:\n",
    "![alt text](https://image.ibb.co/dHcxQQ/prob_2.png)\n",
    "\n",
    "\n",
    "**Problem 3:**\n",
    "\n",
    "Challenge: combine the two plots in the above problems into one figure, using the `plt.subplot()` function.\n",
    "\n",
    "For example:\n",
    "![alt text](https://image.ibb.co/nL8Xs5/prob_3.png)"
   ]
  },
  {
   "cell_type": "code",
   "execution_count": null,
   "metadata": {
    "collapsed": true
   },
   "outputs": [],
   "source": []
  }
 ],
 "metadata": {
  "kernelspec": {
   "display_name": "Python 3",
   "language": "python",
   "name": "python3"
  },
  "language_info": {
   "codemirror_mode": {
    "name": "ipython",
    "version": 3
   },
   "file_extension": ".py",
   "mimetype": "text/x-python",
   "name": "python",
   "nbconvert_exporter": "python",
   "pygments_lexer": "ipython3",
   "version": "3.6.1"
  }
 },
 "nbformat": 4,
 "nbformat_minor": 2
}
