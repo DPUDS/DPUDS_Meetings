{
 "cells": [
  {
   "cell_type": "markdown",
   "metadata": {},
   "source": [
    "# Webscraping 101: What to do when APIs fail you.\n",
    "\n",
    "Webscraping, or extracting data from the HTML (Hypertext Markup Language) code of websites, is a rather hacky substitute for gathering data via flat files (read: csv or Excel) or API calls. Whereas APIs have an existing structure that you can leverage to grab data, with webscraping you actually mine raw HTML code. \n",
    "\n",
    "Generally speaking, webscraping is much less performant than getting data from an API. However, technically you have unlimited freedom with what you can scrape. Most APIs have limits to the data you can access for free. Webscraping does not have a physical limitation to what you can access, **WITH A FEW CAVEATS**. Please note, **FOR SOME WEBSITES, IT CAN BE ILLEGAL TO WEBSCRAPE DATA. ALWAYS BE SURE IT IS LEGAL FOR YOU TO SCRAPE BEFORE ACTUALLY DOING SO**. However, for almost all of us, the websites we want to access will have no problem with us scraping data. \n",
    "\n",
    "For this tutorial, we will look at a simple web scraping program. There are many free APIs you can use to get stock data, but often they limit the granularity of their data to one row per day (open, high, low, close, avg_volume). Moreover, it can be beneficial to scrape your own data if you are looking for something specific.\n",
    "\n",
    "### Dependencies\n",
    "\n",
    "Here are some special dependencies needed to webscrape with Python. They are by no means the only modules you can use. You will learn more about them later on in this tutorial, but feel free to explore the links below as well. Standard packages like numpy and pandas will also be used. Most importantly, make sure you have **Google Chrome** on your computer.\n",
    "\n",
    "* [BeautifulSoup](https://www.crummy.com/software/BeautifulSoup/bs4/doc/)\n",
    "* [urllib.request](https://docs.python.org/3.0/library/urllib.request.html)\n",
    "* [ssl](https://docs.python.org/2/library/ssl.html)\n"
   ]
  },
  {
   "cell_type": "markdown",
   "metadata": {},
   "source": [
    "## Scraping Part 1: Pulling Scottrade's Top Performers Table\n",
    "\n",
    "### General Information About HTML\n",
    "\n",
    "This example is much simpler than **Webscraping 201**, and is a great introduction into the basic process of webscraping using **`BeautifulSoup`** and **`urllib.requests`**. To start, be sure that you have **Google Chrome** on your computer. Open up a Google Chrome tab, and navigate to the Scottrade top performers URL seen **[here](https://research.scottrade.com/qnr/Public/InvestorTools/Performers?type=s&results_view=performing)**. This is a list of the companies with the highest growing stock prices. Next, right click anywhere on the screen and click **Inspect** or **Inspect Element**, depending on if you are on a Mac or Windows computer. On the screen, you should now see something like the picture below:\n",
    "\n",
    "![alt text](http://image.ibb.co/gLWRra/scrape1.png)"
   ]
  },
  {
   "cell_type": "markdown",
   "metadata": {},
   "source": [
    "What are you seeing next to the actual page is the back-end HTML code for the webpage. If you put your cursor over the code seen in the upper right, the applicable part of the webpage will light up as well. HTML code structure is broken up into **tags**. For more on HTML, look on their website [here](http://html.com/). Basically, tables have table tags, and we need to find the name of the given table so we can get the data. \n",
    "\n",
    "First, go to the bottom taskbar and click on the option that says **#CenterContentContainer**. This is the main body of the webpage, which houses the table we need. If you look down a little further in the html, you will see a tag that says **`<table class=\"sortable Performers mb15\" width=\"100%\">`**. This is the tag that houses all of the stock data we need. As seen in the picture below, the **`<tbody>`** tag is a subgroup that holds all of the rows of data, identified by the **`<tr>`** tags. This information will come in handy when understanding our code.\n",
    "\n",
    "![alt text](http://image.ibb.co/n5fajv/scrape2.png)"
   ]
  },
  {
   "cell_type": "markdown",
   "metadata": {},
   "source": [
    "### Extracting HTML From Webpage\n",
    "\n",
    "First let's get our boilerplate code out of the way. A few notes on the code below. **ssl** \"provides access to Transport Layer Security (often known as “Secure Sockets Layer”) encryption and peer authentication facilities for network sockets.\" Basically, it allows us to contact a webpage without a verified handshake.\n",
    "\n",
    "Second, the link below is the webpage for Scottrade's top performers."
   ]
  },
  {
   "cell_type": "code",
   "execution_count": 1,
   "metadata": {
    "collapsed": true
   },
   "outputs": [],
   "source": [
    "###################################################\n",
    "#\n",
    "# Scrape Scottrade's Top Performers\n",
    "#\n",
    "# Created by: Sam Showalter\n",
    "# Creation Date: 2017-04-01\n",
    "#\n",
    "###################################################\n",
    "\n",
    "import pandas as pd\n",
    "import requests\n",
    "from bs4 import BeautifulSoup\n",
    "import urllib.request as req \n",
    "import ssl\n",
    "\n",
    "#Link to scottrades list of top performing public companies\n",
    "link = \"https://research.scottrade.com/qnr/Public/InvestorTools/Performers?type=s&results_view=performing\"\n",
    "\n",
    "#Allowing for unverified handshake with website\n",
    "context = ssl._create_unverified_context()"
   ]
  },
  {
   "cell_type": "markdown",
   "metadata": {},
   "source": [
    "Thirdly, we need to open up the URL and extract all of its HTML code. This code is saved as the **`soup`** variable seen below. Finally, we need to grab just the html data for the top performers table. This is where we use the **`class`** variable to refine our search.\n",
    "\n",
    "Lastly, we will create lists to store each column of data."
   ]
  },
  {
   "cell_type": "code",
   "execution_count": 5,
   "metadata": {
    "collapsed": true
   },
   "outputs": [],
   "source": [
    "#Open up webpage\n",
    "page = req.urlopen(link, context = context)\n",
    "\n",
    "#Extract ALL html code from the webpage as a soup\n",
    "soup = BeautifulSoup(page, \"html.parser\")\n",
    "\n",
    "#Find the table within the soup for top performers\n",
    "performers_table = soup.find('table', class_='sortable Performers mb15')\n",
    "\n",
    "#Generate lists for all fields (see below for field descriptions)\n",
    "symbol =[]\n",
    "sector =[]\n",
    "industry =[]\n",
    "prior_close =[]\n",
    "five_day_change =[]\n",
    "four_week_change =[]\n",
    "fifty2_week_change =[]\n",
    "market_cap =[]"
   ]
  },
  {
   "cell_type": "markdown",
   "metadata": {},
   "source": [
    "### Extracting Text from HTML Code\n",
    "\n",
    "Finally, we have the html code we need. As of now, the data looks like this:"
   ]
  },
  {
   "cell_type": "code",
   "execution_count": 6,
   "metadata": {
    "collapsed": false
   },
   "outputs": [
    {
     "name": "stdout",
     "output_type": "stream",
     "text": [
      "<table cellpadding=\"0\" cellspacing=\"0\" class=\"sortable Performers mb15\" width=\"100%\"><thead><tr><th width=\"25\"> </th><th class=\"left\" valign=\"bottom\" width=\"160\"><span>Symbol</span><br/>Company</th><th class=\"left\" valign=\"bottom\" width=\"85\"><span>Sector</span></th><th class=\"left\" valign=\"bottom\" width=\"85\"><span>Industry</span></th><th class=\"right\" valign=\"bottom\" width=\"\"><a href=\"?c=&amp;availability=&amp;assetType=&amp;fundFamily=&amp;classification=&amp;type=s&amp;perfSort=DSPriceCurrent&amp;perfOrder=D&amp;results_view=performing\">Prior<br/>Close</a><span class=\"icons\"></span></th><th class=\"right\" valign=\"bottom\" width=\"\"><a href=\"?c=&amp;availability=&amp;assetType=&amp;fundFamily=&amp;classification=&amp;type=s&amp;perfSort=DSPrice5DayPctChg&amp;perfOrder=D&amp;results_view=performing\">5 Day<br/>Change</a><span class=\"icons\"></span></th><th class=\"right\" valign=\"bottom\" width=\"\"><a href=\"?c=&amp;availability=&amp;assetType=&amp;fundFamily=&amp;classification=&amp;type=s&amp;perfSort=DSPriceChangeLast4W&amp;perfOrder=D&amp;results_view=performing\">4 Week <br/>Change</a><span class=\"icons\"></span></th><th class=\"right icons sortedColumn sort-dwn\" valign=\"bottom\" width=\"\"><a href=\"?c=&amp;availability=&amp;assetType=&amp;fundFamily=&amp;classification=&amp;type=s&amp;perfSort=DSPriceChangeLast52W&amp;perfOrder=A&amp;results_view=performing\">52 Week<br/>Change</a><span class=\"icons\"></span></th><th class=\"right\" valign=\"bottom\" width=\"\"><a href=\"?c=&amp;availability=&amp;assetType=&amp;fundFamily=&amp;classification=&amp;type=s&amp;perfSort=DSMktCapUSD&amp;perfOrder=D&amp;results_view=performing\">Market<br/>Cap</a><span class=\"icons\"></span></th></tr><tfoot></tfoot><tbody><tr><td><input class=\"SecuritySelect\" security=\"288282\" type=\"checkbox\"/></td><td width=\"160\"><div class=\"Ticker\"><a class=\"sympopup\" href=\"/qnr/Public/Stocks/Snapshot?symbol=WTW\" target=\"\">WTW</a></div><div class=\"CompanyName\">Weight Watchers International, Inc.</div></td><td class=\"left\" width=\"85\">Consumer Non-Cyclicals</td><td class=\"left\" width=\"85\">Personal &amp; Household Products &amp; Services</td><td class=\"right\" width=\"\">46.27</td><td class=\"right\" width=\"\">39.24%</td><td class=\"right\" width=\"\">31.64%</td><td class=\"right sortedColumn\" width=\"\">303.05%</td><td class=\"right\" width=\"\">3.0B</td></tr><tr><td><input class=\"SecuritySelect\" security=\"218647\" type=\"checkbox\"/></td><td width=\"160\"><div class=\"Ticker\"><a class=\"sympopup\" href=\"/qnr/Public/Stocks/Snapshot?symbol=NVDA\" target=\"\">NVDA</a></div><div class=\"CompanyName\">NVIDIA Corporation</div></td><td class=\"left\" width=\"85\">Technology</td><td class=\"left\" width=\"85\">Semiconductors &amp; Semiconductor Equipment </td><td class=\"right\" width=\"\">172.11</td><td class=\"right\" width=\"\">4.70%</td><td class=\"right\" width=\"\">5.91%</td><td class=\"right sortedColumn\" width=\"\">192.26%</td><td class=\"right\" width=\"\">102.4B</td></tr><tr><td><input class=\"SecuritySelect\" security=\"261303\" type=\"checkbox\"/></td><td width=\"160\"><div class=\"Ticker\"><a class=\"sympopup\" href=\"/qnr/Public/Stocks/Snapshot?symbol=STM\" target=\"\">STM</a></div><div class=\"CompanyName\">STMicroelectronics NV (ADR)</div></td><td class=\"left\" width=\"85\">Technology</td><td class=\"left\" width=\"85\">Semiconductors &amp; Semiconductor Equipment </td><td class=\"right\" width=\"\">17.13</td><td class=\"right\" width=\"\">-0.17%</td><td class=\"right\" width=\"\">8.14%</td><td class=\"right sortedColumn\" width=\"\">131.80%</td><td class=\"right\" width=\"\">15.1B</td></tr><tr><td><input class=\"SecuritySelect\" security=\"92541516\" type=\"checkbox\"/></td><td width=\"160\"><div class=\"Ticker\"><a class=\"sympopup\" href=\"/qnr/Public/Stocks/Snapshot?symbol=SQ\" target=\"\">SQ</a></div><div class=\"CompanyName\">Square Inc</div></td><td class=\"left\" width=\"85\">Technology</td><td class=\"left\" width=\"85\">Software &amp; IT Services</td><td class=\"right\" width=\"\">25.59</td><td class=\"right\" width=\"\">-3.29%</td><td class=\"right\" width=\"\">-2.37%</td><td class=\"right sortedColumn\" width=\"\">126.46%</td><td class=\"right\" width=\"\">9.8B</td></tr><tr><td><input class=\"SecuritySelect\" security=\"74964069\" type=\"checkbox\"/></td><td width=\"160\"><div class=\"Ticker\"><a class=\"sympopup\" href=\"/qnr/Public/Stocks/Snapshot?symbol=ANET\" target=\"\">ANET</a></div><div class=\"CompanyName\">Arista Networks Inc</div></td><td class=\"left\" width=\"85\">Technology</td><td class=\"left\" width=\"85\">Communications &amp; Networking</td><td class=\"right\" width=\"\">167.46</td><td class=\"right\" width=\"\">16.73%</td><td class=\"right\" width=\"\">7.77%</td><td class=\"right sortedColumn\" width=\"\">126.11%</td><td class=\"right\" width=\"\">12.1B</td></tr><tr><td><input class=\"SecuritySelect\" security=\"273612\" type=\"checkbox\"/></td><td width=\"160\"><div class=\"Ticker\"><a class=\"sympopup\" href=\"/qnr/Public/Stocks/Snapshot?symbol=TTWO\" target=\"\">TTWO</a></div><div class=\"CompanyName\">Take Two Interactive Software Inc</div></td><td class=\"left\" width=\"85\">Consumer Cyclicals</td><td class=\"left\" width=\"85\">Leisure Products</td><td class=\"right\" width=\"\">90.97</td><td class=\"right\" width=\"\">14.59%</td><td class=\"right\" width=\"\">17.67%</td><td class=\"right sortedColumn\" width=\"\">119.79%</td><td class=\"right\" width=\"\">9.7B</td></tr><tr><td><input class=\"SecuritySelect\" security=\"167359\" type=\"checkbox\"/></td><td width=\"160\"><div class=\"Ticker\"><a class=\"sympopup\" href=\"/qnr/Public/Stocks/Snapshot?symbol=BCOR\" target=\"\">BCOR</a></div><div class=\"CompanyName\">Blucora Inc</div></td><td class=\"left\" width=\"85\">Technology</td><td class=\"left\" width=\"85\">Software &amp; IT Services</td><td class=\"right\" width=\"\">23.50</td><td class=\"right\" width=\"\">4.44%</td><td class=\"right\" width=\"\">16.63%</td><td class=\"right sortedColumn\" width=\"\">114.22%</td><td class=\"right\" width=\"\">1.1B</td></tr><tr><td><input class=\"SecuritySelect\" security=\"74037\" type=\"checkbox\"/></td><td width=\"160\"><div class=\"Ticker\"><a class=\"sympopup\" href=\"/qnr/Public/Stocks/Snapshot?symbol=CGNX\" target=\"\">CGNX</a></div><div class=\"CompanyName\">Cognex Corporation</div></td><td class=\"left\" width=\"85\">Industrials</td><td class=\"left\" width=\"85\">Machinery, Equipment &amp; Components</td><td class=\"right\" width=\"\">102.71</td><td class=\"right\" width=\"\">1.08%</td><td class=\"right\" width=\"\">13.93%</td><td class=\"right sortedColumn\" width=\"\">107.79%</td><td class=\"right\" width=\"\">8.9B</td></tr><tr><td><input class=\"SecuritySelect\" security=\"65793\" type=\"checkbox\"/></td><td width=\"160\"><div class=\"Ticker\"><a class=\"sympopup\" href=\"/qnr/Public/Stocks/Snapshot?symbol=BRKS\" target=\"\">BRKS</a></div><div class=\"CompanyName\">Brooks Automation, Inc</div></td><td class=\"left\" width=\"85\">Technology</td><td class=\"left\" width=\"85\">Semiconductors &amp; Semiconductor Equipment </td><td class=\"right\" width=\"\">24.81</td><td class=\"right\" width=\"\">5.04%</td><td class=\"right\" width=\"\">0.00%</td><td class=\"right sortedColumn\" width=\"\">101.05%</td><td class=\"right\" width=\"\">1.7B</td></tr><tr><td><input class=\"SecuritySelect\" security=\"207106\" type=\"checkbox\"/></td><td width=\"160\"><div class=\"Ticker\"><a class=\"sympopup\" href=\"/qnr/Public/Stocks/Snapshot?symbol=MU\" target=\"\">MU</a></div><div class=\"CompanyName\">Micron Technology, Inc.</div></td><td class=\"left\" width=\"85\">Technology</td><td class=\"left\" width=\"85\">Semiconductors &amp; Semiconductor Equipment </td><td class=\"right\" width=\"\">28.58</td><td class=\"right\" width=\"\">-0.17%</td><td class=\"right\" width=\"\">-9.13%</td><td class=\"right sortedColumn\" width=\"\">97.38%</td><td class=\"right\" width=\"\">31.8B</td></tr><tr><td><input class=\"SecuritySelect\" security=\"44307\" type=\"checkbox\"/></td><td width=\"160\"><div class=\"Ticker\"><a class=\"sympopup\" href=\"/qnr/Public/Stocks/Snapshot?symbol=AMD\" target=\"\">AMD</a></div><div class=\"CompanyName\">Advanced Micro Devices, Inc.</div></td><td class=\"left\" width=\"85\">Technology</td><td class=\"left\" width=\"85\">Semiconductors &amp; Semiconductor Equipment </td><td class=\"right\" width=\"\">12.83</td><td class=\"right\" width=\"\">-4.04%</td><td class=\"right\" width=\"\">-10.22%</td><td class=\"right sortedColumn\" width=\"\">94.39%</td><td class=\"right\" width=\"\">12.1B</td></tr><tr><td><input class=\"SecuritySelect\" security=\"114902\" type=\"checkbox\"/></td><td width=\"160\"><div class=\"Ticker\"><a class=\"sympopup\" href=\"/qnr/Public/Stocks/Snapshot?symbol=ITGR\" target=\"\">ITGR</a></div><div class=\"CompanyName\">Integer Holdings Corp</div></td><td class=\"left\" width=\"85\">Healthcare</td><td class=\"left\" width=\"85\">Healthcare Equipment &amp; Supplies</td><td class=\"right\" width=\"\">45.40</td><td class=\"right\" width=\"\">0.33%</td><td class=\"right\" width=\"\">4.01%</td><td class=\"right sortedColumn\" width=\"\">92.13%</td><td class=\"right\" width=\"\">1.4B</td></tr><tr><td><input class=\"SecuritySelect\" security=\"217004\" type=\"checkbox\"/></td><td width=\"160\"><div class=\"Ticker\"><a class=\"sympopup\" href=\"/qnr/Public/Stocks/Snapshot?symbol=NRG\" target=\"\">NRG</a></div><div class=\"CompanyName\">NRG Energy Inc</div></td><td class=\"left\" width=\"85\">Utilities</td><td class=\"left\" width=\"85\">Electrical Utilities &amp; IPPs</td><td class=\"right\" width=\"\">24.33</td><td class=\"right\" width=\"\">-0.57%</td><td class=\"right\" width=\"\">15.36%</td><td class=\"right sortedColumn\" width=\"\">89.63%</td><td class=\"right\" width=\"\">7.7B</td></tr><tr><td><input class=\"SecuritySelect\" security=\"43112\" type=\"checkbox\"/></td><td width=\"160\"><div class=\"Ticker\"><a class=\"sympopup\" href=\"/qnr/Public/Stocks/Snapshot?symbol=ALGN\" target=\"\">ALGN</a></div><div class=\"CompanyName\">Align Technology, Inc.</div></td><td class=\"left\" width=\"85\">Healthcare</td><td class=\"left\" width=\"85\">Healthcare Equipment &amp; Supplies</td><td class=\"right\" width=\"\">175.77</td><td class=\"right\" width=\"\">4.63%</td><td class=\"right\" width=\"\">15.25%</td><td class=\"right sortedColumn\" width=\"\">88.68%</td><td class=\"right\" width=\"\">14.1B</td></tr><tr><td><input class=\"SecuritySelect\" security=\"48034\" type=\"checkbox\"/></td><td width=\"160\"><div class=\"Ticker\"><a class=\"sympopup\" href=\"/qnr/Public/Stocks/Snapshot?symbol=MTOR\" target=\"\">MTOR</a></div><div class=\"CompanyName\">Meritor Inc</div></td><td class=\"left\" width=\"85\">Consumer Cyclicals</td><td class=\"left\" width=\"85\">Automobiles &amp; Auto Parts</td><td class=\"right\" width=\"\">19.19</td><td class=\"right\" width=\"\">5.44%</td><td class=\"right\" width=\"\">8.48%</td><td class=\"right sortedColumn\" width=\"\">88.32%</td><td class=\"right\" width=\"\">1.7B</td></tr><tr><td><input class=\"SecuritySelect\" security=\"78643223\" type=\"checkbox\"/></td><td width=\"160\"><div class=\"Ticker\"><a class=\"sympopup\" href=\"/qnr/Public/Stocks/Snapshot?symbol=W\" target=\"\">W</a></div><div class=\"CompanyName\">Wayfair Inc</div></td><td class=\"left\" width=\"85\">Consumer Cyclicals</td><td class=\"left\" width=\"85\">Diversified Retail</td><td class=\"right\" width=\"\">72.82</td><td class=\"right\" width=\"\">-1.37%</td><td class=\"right\" width=\"\">-3.66%</td><td class=\"right sortedColumn\" width=\"\">87.68%</td><td class=\"right\" width=\"\">6.3B</td></tr><tr><td><input class=\"SecuritySelect\" security=\"211573\" type=\"checkbox\"/></td><td width=\"160\"><div class=\"Ticker\"><a class=\"sympopup\" href=\"/qnr/Public/Stocks/Snapshot?symbol=NFLX\" target=\"\">NFLX</a></div><div class=\"CompanyName\">Netflix, Inc.</div></td><td class=\"left\" width=\"85\">Technology</td><td class=\"left\" width=\"85\">Software &amp; IT Services</td><td class=\"right\" width=\"\">175.78</td><td class=\"right\" width=\"\">-2.74%</td><td class=\"right\" width=\"\">10.73%</td><td class=\"right sortedColumn\" width=\"\">87.02%</td><td class=\"right\" width=\"\">75.9B</td></tr><tr><td><input class=\"SecuritySelect\" security=\"78118731\" type=\"checkbox\"/></td><td width=\"160\"><div class=\"Ticker\"><a class=\"sympopup\" href=\"/qnr/Public/Stocks/Snapshot?symbol=BABA\" target=\"\">BABA</a></div><div class=\"CompanyName\">Alibaba Group Holding Ltd</div></td><td class=\"left\" width=\"85\">Technology</td><td class=\"left\" width=\"85\">Software &amp; IT Services</td><td class=\"right\" width=\"\">157.49</td><td class=\"right\" width=\"\">3.67%</td><td class=\"right\" width=\"\">5.70%</td><td class=\"right sortedColumn\" width=\"\">84.76%</td><td class=\"right\" width=\"\">403.4B</td></tr><tr><td><input class=\"SecuritySelect\" security=\"58327\" type=\"checkbox\"/></td><td width=\"160\"><div class=\"Ticker\"><a class=\"sympopup\" href=\"/qnr/Public/Stocks/Snapshot?symbol=BBY\" target=\"\">BBY</a></div><div class=\"CompanyName\">Best Buy Co Inc</div></td><td class=\"left\" width=\"85\">Consumer Cyclicals</td><td class=\"left\" width=\"85\">Other Specialty Retailers</td><td class=\"right\" width=\"\">61.07</td><td class=\"right\" width=\"\">2.85%</td><td class=\"right\" width=\"\">14.58%</td><td class=\"right sortedColumn\" width=\"\">81.97%</td><td class=\"right\" width=\"\">18.6B</td></tr><tr><td><input class=\"SecuritySelect\" security=\"82528\" type=\"checkbox\"/></td><td width=\"160\"><div class=\"Ticker\"><a class=\"sympopup\" href=\"/qnr/Public/Stocks/Snapshot?symbol=CSX\" target=\"\">CSX</a></div><div class=\"CompanyName\">CSX Corporation</div></td><td class=\"left\" width=\"85\">Industrials</td><td class=\"left\" width=\"85\">Freight &amp; Logistics Services</td><td class=\"right\" width=\"\">50.70</td><td class=\"right\" width=\"\">5.32%</td><td class=\"right\" width=\"\">-8.14%</td><td class=\"right sortedColumn\" width=\"\">79.41%</td><td class=\"right\" width=\"\">46.3B</td></tr><tr><td class=\"right\" colspan=\"10\" style=\"border-bottom:0;\"><div class=\"legend fltRight mb10\"><span class=\"tiny\">Performance data as of Previous Close, August 9, 2017</span></div></td></tr></tbody></thead></table>\n"
     ]
    }
   ],
   "source": [
    "print(performers_table)"
   ]
  },
  {
   "cell_type": "markdown",
   "metadata": {},
   "source": [
    "Yuck. Fortunately, we can pull out just the text from this data using the code below. By going through every row (**`<tr>`**), and gathering the contents (**`<td>`**) of each, we can fill the empty lists we created above."
   ]
  },
  {
   "cell_type": "code",
   "execution_count": 7,
   "metadata": {
    "collapsed": true
   },
   "outputs": [],
   "source": [
    "#Finds all row in the table (tr)\n",
    "for row in performers_table.findAll(\"tr\"):\n",
    "    #Finds all cells in the table\n",
    "    cells = row.findAll('td')\n",
    "    if len(cells)==9: #Only extract table body not heading\n",
    "        #Extract all data from the table into the lists\n",
    "        symbol.append(cells[1].find(text=True))      # Symbol\n",
    "        sector.append(cells[2].find(text=True))      # Sector\n",
    "        industry.append(cells[3].find(text=True))      # Industry\n",
    "        prior_close.append(cells[4].find(text=True))      # Prior Close\n",
    "        five_day_change.append(cells[5].find(text=True))      # 5 Day Change\n",
    "        four_week_change.append(cells[6].find(text=True))      # 4 Week Change\n",
    "        fifty2_week_change.append(cells[7].find(text=True))      # 52 Week Change\n",
    "        market_cap.append(cells[8].find(text=True))      # Market Cap"
   ]
  },
  {
   "cell_type": "markdown",
   "metadata": {},
   "source": [
    "Thats it! We have all the data we need. Now we just need to format our lists. As of now a column list looks like this."
   ]
  },
  {
   "cell_type": "code",
   "execution_count": 8,
   "metadata": {
    "collapsed": false
   },
   "outputs": [
    {
     "name": "stdout",
     "output_type": "stream",
     "text": [
      "['WTW', 'NVDA', 'STM', 'SQ', 'ANET', 'TTWO', 'BCOR', 'CGNX', 'BRKS', 'MU', 'AMD', 'ITGR', 'NRG', 'ALGN', 'MTOR', 'W', 'NFLX', 'BABA', 'BBY', 'CSX']\n"
     ]
    }
   ],
   "source": [
    "print(symbol)"
   ]
  },
  {
   "cell_type": "markdown",
   "metadata": {},
   "source": [
    "To make everything more visually appealing, lets combine all of these lists into a pandas dataframe."
   ]
  },
  {
   "cell_type": "code",
   "execution_count": 12,
   "metadata": {
    "collapsed": true
   },
   "outputs": [],
   "source": [
    "#Create pandas dataframe of all lists\n",
    "df=pd.DataFrame(symbol,columns=['SYMBOL'])\n",
    "df['SECTOR']=sector\n",
    "df['INDUSTRY']=industry\n",
    "df['PRIOR_CLOSE']=prior_close\n",
    "df['5_DAY_CHANGE']=five_day_change\n",
    "df['4_WEEK_CHANGE']=four_week_change\n",
    "df['52_WEEK_CHANGE']=fifty2_week_change\n",
    "df['MARKET_CAP']=market_cap"
   ]
  },
  {
   "cell_type": "markdown",
   "metadata": {},
   "source": [
    "That's all there is to it! Our data is now organized as seen below. For a more advanced version of webscraping, please see the **`Webscrape_201`** tutorial."
   ]
  },
  {
   "cell_type": "code",
   "execution_count": 13,
   "metadata": {
    "collapsed": false
   },
   "outputs": [
    {
     "name": "stdout",
     "output_type": "stream",
     "text": [
      "   SYMBOL                  SECTOR                                   INDUSTRY  \\\n",
      "0     WTW  Consumer Non-Cyclicals   Personal & Household Products & Services   \n",
      "1    NVDA              Technology  Semiconductors & Semiconductor Equipment    \n",
      "2     STM              Technology  Semiconductors & Semiconductor Equipment    \n",
      "3      SQ              Technology                     Software & IT Services   \n",
      "4    ANET              Technology                Communications & Networking   \n",
      "5    TTWO      Consumer Cyclicals                           Leisure Products   \n",
      "6    BCOR              Technology                     Software & IT Services   \n",
      "7    CGNX             Industrials          Machinery, Equipment & Components   \n",
      "8    BRKS              Technology  Semiconductors & Semiconductor Equipment    \n",
      "9      MU              Technology  Semiconductors & Semiconductor Equipment    \n",
      "10    AMD              Technology  Semiconductors & Semiconductor Equipment    \n",
      "11   ITGR              Healthcare            Healthcare Equipment & Supplies   \n",
      "12    NRG               Utilities                Electrical Utilities & IPPs   \n",
      "13   ALGN              Healthcare            Healthcare Equipment & Supplies   \n",
      "14   MTOR      Consumer Cyclicals                   Automobiles & Auto Parts   \n",
      "15      W      Consumer Cyclicals                         Diversified Retail   \n",
      "16   NFLX              Technology                     Software & IT Services   \n",
      "17   BABA              Technology                     Software & IT Services   \n",
      "18    BBY      Consumer Cyclicals                  Other Specialty Retailers   \n",
      "19    CSX             Industrials               Freight & Logistics Services   \n",
      "\n",
      "   PRIOR_CLOSE 5_DAY_CHANGE 4_WEEK_CHANGE 52_WEEK_CHANGE MARKET_CAP  \n",
      "0        46.27       39.24%        31.64%        303.05%       3.0B  \n",
      "1       172.11        4.70%         5.91%        192.26%     102.4B  \n",
      "2        17.13       -0.17%         8.14%        131.80%      15.1B  \n",
      "3        25.59       -3.29%        -2.37%        126.46%       9.8B  \n",
      "4       167.46       16.73%         7.77%        126.11%      12.1B  \n",
      "5        90.97       14.59%        17.67%        119.79%       9.7B  \n",
      "6        23.50        4.44%        16.63%        114.22%       1.1B  \n",
      "7       102.71        1.08%        13.93%        107.79%       8.9B  \n",
      "8        24.81        5.04%         0.00%        101.05%       1.7B  \n",
      "9        28.58       -0.17%        -9.13%         97.38%      31.8B  \n",
      "10       12.83       -4.04%       -10.22%         94.39%      12.1B  \n",
      "11       45.40        0.33%         4.01%         92.13%       1.4B  \n",
      "12       24.33       -0.57%        15.36%         89.63%       7.7B  \n",
      "13      175.77        4.63%        15.25%         88.68%      14.1B  \n",
      "14       19.19        5.44%         8.48%         88.32%       1.7B  \n",
      "15       72.82       -1.37%        -3.66%         87.68%       6.3B  \n",
      "16      175.78       -2.74%        10.73%         87.02%      75.9B  \n",
      "17      157.49        3.67%         5.70%         84.76%     403.4B  \n",
      "18       61.07        2.85%        14.58%         81.97%      18.6B  \n",
      "19       50.70        5.32%        -8.14%         79.41%      46.3B  \n"
     ]
    }
   ],
   "source": [
    "#Show Scottrade's top performers\n",
    "print(df)"
   ]
  },
  {
   "cell_type": "code",
   "execution_count": null,
   "metadata": {
    "collapsed": true
   },
   "outputs": [],
   "source": []
  }
 ],
 "metadata": {
  "kernelspec": {
   "display_name": "Python 3",
   "language": "python",
   "name": "python3"
  },
  "language_info": {
   "codemirror_mode": {
    "name": "ipython",
    "version": 3
   },
   "file_extension": ".py",
   "mimetype": "text/x-python",
   "name": "python",
   "nbconvert_exporter": "python",
   "pygments_lexer": "ipython3",
   "version": "3.6.0"
  }
 },
 "nbformat": 4,
 "nbformat_minor": 2
}
