{
 "cells": [
  {
   "cell_type": "markdown",
   "metadata": {},
   "source": [
    "# Getting started with Python, NumPy, and Pandas\n",
    "\n",
    "Before you dive into data science projects and different machine learning algorithms, it is important to get accustomed to the tools that we will be using: the programming language Python, and two of its most popular packages in data science, NumPy and Pandas.\n",
    "\n",
    "This guide will guide you through simple Python operators and syntax, and common function calls from NumPy and Pandas. For more extensive guides and tutorials, I recommend checking out the links below:\n",
    "- [NumPy Beginner's Guide ebook](https://github.com/shihyu/python_ebook/tree/master/NumPy)\n",
    "- [NumPy Quickstart Tutorial](https://docs.scipy.org/doc/numpy-dev/user/quickstart.html)\n",
    "- [10 Minutes to Pandas](https://pandas.pydata.org/pandas-docs/stable/10min.html)\n",
    "- [Pandas DataFrame tutorial on DataCamp](https://www.datacamp.com/community/tutorials/pandas-tutorial-dataframe-python#gs.DYueGfM)"
   ]
  },
  {
   "cell_type": "markdown",
   "metadata": {},
   "source": [
    "## Python\n",
    "\n",
    "### Native datatypes\n",
    "- **Numbers**: Python supports integers, floats, and complex numbers, even though we will only be using the first two types most of the time."
   ]
  },
  {
   "cell_type": "code",
   "execution_count": 1,
   "metadata": {},
   "outputs": [
    {
     "name": "stdout",
     "output_type": "stream",
     "text": [
      "a: 3\n",
      "b: 2\n",
      "c: 5\n",
      "Multiplication for a and b: 6\n",
      "Normal (float) division for a and b: 1.5\n",
      "Floor (integer) division for a and b: 1\n",
      "a to the power of b: 9\n"
     ]
    }
   ],
   "source": [
    "a = 3\n",
    "print('a:', a)\n",
    "\n",
    "b = 2\n",
    "print('b:', b)\n",
    "\n",
    "c = a + b\n",
    "print('c:', c)\n",
    "\n",
    "print('Multiplication for a and b:', a * b)\n",
    "\n",
    "print('Normal (float) division for a and b:', a / b)\n",
    "\n",
    "print('Floor (integer) division for a and b:', a // b)\n",
    "\n",
    "print('a to the power of b:', a ** b)"
   ]
  },
  {
   "cell_type": "markdown",
   "metadata": {},
   "source": [
    "- **String**: a string in Python is a sequence of characters, which could be one, more than one, or no characters at all."
   ]
  },
  {
   "cell_type": "code",
   "execution_count": 2,
   "metadata": {},
   "outputs": [
    {
     "name": "stdout",
     "output_type": "stream",
     "text": [
      "a: I am a string\n",
      "b: I am a different string\n",
      "String concatenation: I am a stringI am a different string\n",
      "Looping through characters in a string:\n",
      "I\n",
      " \n",
      "a\n",
      "m\n",
      " \n",
      "a\n",
      " \n",
      "s\n",
      "t\n",
      "r\n",
      "i\n",
      "n\n",
      "g\n",
      "Making sub-strings by slicing a string from index 1 to index 4:  am\n"
     ]
    }
   ],
   "source": [
    "a = 'I am a string'\n",
    "print('a:', a)\n",
    "\n",
    "b = 'I am a different string'\n",
    "print('b:', b)\n",
    "\n",
    "c = a + b\n",
    "print('String concatenation:', c)\n",
    "\n",
    "print('Looping through characters in a string:')\n",
    "for i in a:\n",
    "    print(i)\n",
    "\n",
    "d = c[1:4]\n",
    "print('Making sub-strings by slicing a string from index 1 to index 4:', d)"
   ]
  },
  {
   "cell_type": "markdown",
   "metadata": {},
   "source": [
    "- **List**: a sequence, or array, of multiple variables."
   ]
  },
  {
   "cell_type": "code",
   "execution_count": 3,
   "metadata": {},
   "outputs": [
    {
     "name": "stdout",
     "output_type": "stream",
     "text": [
      "A whole list could be printed out all at once: ['a', 'b', 'c']\n",
      "Looping through elements in a list:\n",
      "1\n",
      "2\n",
      "3\n",
      "Accessing an element at a specific index: a 2\n",
      "List concatenation ['a', 'b', 'c', 1, 2, 3]\n",
      "Slicing a list from index 1 to index 3: ['b', 'c']\n"
     ]
    }
   ],
   "source": [
    "a = ['a', 'b', 'c']\n",
    "print('A whole list could be printed out all at once:', a)\n",
    "\n",
    "b = [1, 2, 3]\n",
    "print('Looping through elements in a list:')\n",
    "for i in b:\n",
    "    print(i)\n",
    "\n",
    "print('Accessing an element at a specific index:', a[0], b[1])\n",
    "\n",
    "c = a + b\n",
    "print('List concatenation', c)\n",
    "\n",
    "d = c[1:3]\n",
    "print('Slicing a list from index 1 to index 3:', d)"
   ]
  },
  {
   "cell_type": "markdown",
   "metadata": {},
   "source": [
    "- **Dictionary**: an ordered collection of value-pair items - similar to Maps or HashMaps in Java. Each item in a dictionary has a key and a value."
   ]
  },
  {
   "cell_type": "code",
   "execution_count": 4,
   "metadata": {},
   "outputs": [
    {
     "name": "stdout",
     "output_type": "stream",
     "text": [
      "A whole dictionary could be printed out all at once: {'a': 1, 'b': 2}\n",
      "Assign a value to a new key to add items to a dictionary: {'a': 1, 'b': 2, 'c': 3}\n",
      "Looping through keys in a dictionary and getting the value at each key:\n",
      "key: a\n",
      "value: 1\n",
      "key: b\n",
      "value: 2\n",
      "key: c\n",
      "value: 3\n"
     ]
    }
   ],
   "source": [
    "a = {'a': 1, 'b': 2}\n",
    "print('A whole dictionary could be printed out all at once:', a)\n",
    "\n",
    "a['c'] = 3\n",
    "print('Assign a value to a new key to add items to a dictionary:', a)\n",
    "\n",
    "print('Looping through keys in a dictionary and getting the value at each key:')\n",
    "for key in a:\n",
    "    print('key:', key)\n",
    "    print('value:', a[key])"
   ]
  },
  {
   "cell_type": "markdown",
   "metadata": {},
   "source": [
    "### Flow control in Python\n",
    "\n",
    "The `if...elif...else` statement is used for decision making."
   ]
  },
  {
   "cell_type": "code",
   "execution_count": 5,
   "metadata": {},
   "outputs": [
    {
     "name": "stdout",
     "output_type": "stream",
     "text": [
      "a is equal to 1.\n",
      "c is twice b\n"
     ]
    }
   ],
   "source": [
    "a = 1\n",
    "b = 2\n",
    "c = 4\n",
    "\n",
    "if a == 1:\n",
    "    print('a is equal to 1.')\n",
    "else:\n",
    "    print('a is not equal to 1.')\n",
    "\n",
    "if a == 2:\n",
    "    print('a is equal to 2.')\n",
    "elif c == b * 2:\n",
    "    print('c is twice b')\n",
    "else:\n",
    "    print('No condition is true.')"
   ]
  },
  {
   "cell_type": "markdown",
   "metadata": {},
   "source": [
    "The `for` loop is typically used, as shown in the section above, to loop through elements in a sequence (strings, lists, dictionaries, etc.)"
   ]
  },
  {
   "cell_type": "code",
   "execution_count": 6,
   "metadata": {},
   "outputs": [
    {
     "name": "stdout",
     "output_type": "stream",
     "text": [
      "1\n",
      "a\n",
      "A String\n"
     ]
    }
   ],
   "source": [
    "a = [1, 'a', 'A String']\n",
    "\n",
    "for item in a:\n",
    "    print(item)"
   ]
  },
  {
   "cell_type": "markdown",
   "metadata": {},
   "source": [
    "### Functions in Python\n",
    "\n",
    "In Python, function is a group of related statements that perform a specific task. Functions help break our program into smaller chunks, making it more organized and manageable as our program grows larger."
   ]
  },
  {
   "cell_type": "code",
   "execution_count": 7,
   "metadata": {},
   "outputs": [
    {
     "name": "stdout",
     "output_type": "stream",
     "text": [
      "The returned value could be directly printed out: 3\n",
      "Or it could be stored in a varible: 3\n"
     ]
    }
   ],
   "source": [
    "def sum_of(a, b):\n",
    "    return a + b\n",
    "\n",
    "x = 1\n",
    "y = 2\n",
    "z = sum_of(x, y)\n",
    "\n",
    "print('The returned value could be directly printed out:', sum_of(x, y))\n",
    "print('Or it could be stored in a varible:', z)"
   ]
  },
  {
   "cell_type": "markdown",
   "metadata": {},
   "source": [
    "## NumPy\n",
    "\n",
    "NumPy is one of the most popular Python packages, used for efficient computation of multidimensional arrays of the same type. To import the package in your program, run:"
   ]
  },
  {
   "cell_type": "code",
   "execution_count": 8,
   "metadata": {
    "collapsed": true
   },
   "outputs": [],
   "source": [
    "import numpy as np"
   ]
  },
  {
   "cell_type": "markdown",
   "metadata": {
    "collapsed": true
   },
   "source": [
    "The most common way to initialize a NumPy array is to convert a Python list:"
   ]
  },
  {
   "cell_type": "code",
   "execution_count": 9,
   "metadata": {},
   "outputs": [
    {
     "name": "stdout",
     "output_type": "stream",
     "text": [
      "[1, 2, 3]\n",
      "[1 2 3]\n"
     ]
    }
   ],
   "source": [
    "my_list = [1, 2, 3]\n",
    "print(my_list)\n",
    "\n",
    "my_array = np.array(my_list)\n",
    "print(my_array)"
   ]
  },
  {
   "cell_type": "markdown",
   "metadata": {},
   "source": [
    "It is also possible to call different NumPy built-in functions to get specific types of array:"
   ]
  },
  {
   "cell_type": "code",
   "execution_count": 10,
   "metadata": {},
   "outputs": [
    {
     "name": "stdout",
     "output_type": "stream",
     "text": [
      "NumPy array from 0 up to 6: [0 1 2 3 4 5]\n",
      "NumPy array of zeros with the specified shape: [ 0.  0.  0.]\n",
      "NumPy array of ones with the specified shape: [ 1.  1.  1.  1.  1.]\n"
     ]
    }
   ],
   "source": [
    "array1 = np.arange(6)\n",
    "print('NumPy array from 0 up to 6:', array1)\n",
    "\n",
    "array2 = np.zeros((3,))\n",
    "print('NumPy array of zeros with the specified shape:', array2)\n",
    "\n",
    "array3 = np.ones((5,))\n",
    "print('NumPy array of ones with the specified shape:', array3)"
   ]
  },
  {
   "cell_type": "markdown",
   "metadata": {},
   "source": [
    "**Basic Operations:** Arithmetic operations on NumPy arrays are applied _element-wise_:"
   ]
  },
  {
   "cell_type": "code",
   "execution_count": 11,
   "metadata": {},
   "outputs": [
    {
     "name": "stdout",
     "output_type": "stream",
     "text": [
      "Original array: [1 3 5 2]\n",
      "Elements in array multiplied by 3: [ 3  9 15  6]\n",
      "Elements in array squared: [ 1  9 25  4]\n",
      "Another array: [1 2 3 4]\n",
      "Adding two arrays: [2 5 8 6]\n",
      "Dividing one array by another: [ 1.          1.5         1.66666667  0.5       ]\n"
     ]
    }
   ],
   "source": [
    "my_array = np.array([1, 3, 5, 2])\n",
    "\n",
    "print('Original array:', my_array)\n",
    "print('Elements in array multiplied by 3:', my_array * 3)\n",
    "print('Elements in array squared:', my_array ** 2)\n",
    "\n",
    "new_array = np.array([1, 2, 3, 4])\n",
    "print('Another array:', new_array)\n",
    "print('Adding two arrays:', my_array + new_array)\n",
    "print('Dividing one array by another:', my_array / new_array)"
   ]
  },
  {
   "cell_type": "markdown",
   "metadata": {},
   "source": [
    "**Concept of Shape:** Sometimes data is stored in tables, and the best way to keep the dimentionality of the data is to store it in two-dimensional NumPy arrays:"
   ]
  },
  {
   "cell_type": "code",
   "execution_count": 12,
   "metadata": {},
   "outputs": [
    {
     "name": "stdout",
     "output_type": "stream",
     "text": [
      "[[1 3 5]\n",
      " [2 4 6]]\n",
      "Number of rows and number of columns: (2, 3)\n"
     ]
    }
   ],
   "source": [
    "my_array = np.array([[1, 3, 5], [2, 4, 6]])\n",
    "print(my_array)\n",
    "print('Number of rows and number of columns:', my_array.shape)"
   ]
  },
  {
   "cell_type": "markdown",
   "metadata": {},
   "source": [
    "NumPy also allows you to dynamically change the shape of its arrays. Do this by using `reshape()` function:"
   ]
  },
  {
   "cell_type": "code",
   "execution_count": 13,
   "metadata": {},
   "outputs": [
    {
     "name": "stdout",
     "output_type": "stream",
     "text": [
      "[[1 3]\n",
      " [5 2]\n",
      " [4 6]]\n",
      "Number of rows and number of columns: (3, 2)\n"
     ]
    }
   ],
   "source": [
    "my_array = my_array.reshape((3,2))\n",
    "print(my_array)\n",
    "print('Number of rows and number of columns:', my_array.shape)"
   ]
  },
  {
   "cell_type": "markdown",
   "metadata": {},
   "source": [
    "**Indexing and Slicing:**\n",
    "- One-dimensional arrays can be indexed and sliced just like Python lists:"
   ]
  },
  {
   "cell_type": "code",
   "execution_count": 14,
   "metadata": {},
   "outputs": [
    {
     "name": "stdout",
     "output_type": "stream",
     "text": [
      "Element at index 1: 2\n",
      "Element at index 3: 4\n",
      "Sub array from index 1 to index 4: [2 3 4]\n"
     ]
    }
   ],
   "source": [
    "my_array = np.array([1, 2, 3, 4, 5])\n",
    "print('Element at index 1:', my_array[1])\n",
    "print('Element at index 3:', my_array[3])\n",
    "\n",
    "sub_array = my_array[1:4]\n",
    "print('Sub array from index 1 to index 4:', sub_array)"
   ]
  },
  {
   "cell_type": "markdown",
   "metadata": {},
   "source": [
    "- Two-dimensional arrays need to be indexed and sliced with a pair of limiters, seperated by a comma:"
   ]
  },
  {
   "cell_type": "code",
   "execution_count": 15,
   "metadata": {},
   "outputs": [
    {
     "name": "stdout",
     "output_type": "stream",
     "text": [
      "Original array:\n",
      "[[ 1  2  3  4  5]\n",
      " [ 2  3  6  7  3]\n",
      " [-1  3 -4  5  3]]\n",
      "Row at index 1 (second row): [2 3 6 7 3]\n",
      "Column at index 0 (first column): [ 1  2 -1]\n",
      "Elements between rows with index 0 and index 2, columns with index 1 and index 3:\n",
      "[[2 3]\n",
      " [3 6]]\n"
     ]
    }
   ],
   "source": [
    "my_array = np.array([[1, 2, 3, 4, 5], [2, 3, 6, 7, 3], [-1, 3, -4, 5, 3]])\n",
    "print('Original array:')\n",
    "print(my_array)\n",
    "\n",
    "print('Row at index 1 (second row):', my_array[1,:])\n",
    "print('Column at index 0 (first column):', my_array[:,0])\n",
    "\n",
    "print('Elements between rows with index 0 and index 2, columns with index 1 and index 3:')\n",
    "print(my_array[0:2, 1:3])"
   ]
  },
  {
   "cell_type": "markdown",
   "metadata": {},
   "source": [
    "## Pandas\n",
    "\n",
    "Pandas is a powerful and flexible open source data analysis and manipulation tool, providing easy and efficient computations on large amount of data.\n",
    "\n",
    "The Pandas `DataFrame` data structure would probably be the tool we use the most from Pandas. It is usually used to store the whole dataset, and from that `DataFrame` we could perform different data analysis methods on it.\n",
    "\n",
    "**Initializing a DataFrame:** To initialize a `DataFrame`, pass a Python dictionary mapping **strings to Python lists** to `pandas.DataFrame()` function:"
   ]
  },
  {
   "cell_type": "code",
   "execution_count": 16,
   "metadata": {},
   "outputs": [
    {
     "name": "stdout",
     "output_type": "stream",
     "text": [
      "The whole dataset:\n",
      "   x  y  z\n",
      "0  1  2  9\n",
      "1  2  3  8\n",
      "2  3  4  7\n",
      "Accessing specific columns:\n",
      "0    1\n",
      "1    2\n",
      "2    3\n",
      "Name: x, dtype: int64\n",
      "0    9\n",
      "1    8\n",
      "2    7\n",
      "Name: z, dtype: int64\n"
     ]
    }
   ],
   "source": [
    "import pandas as pd\n",
    "\n",
    "my_df = pd.DataFrame({'x': [1, 2, 3], 'y': [2, 3, 4], 'z': [9, 8, 7]})\n",
    "print('The whole dataset:')\n",
    "print(my_df)\n",
    "\n",
    "print('Accessing specific columns:')\n",
    "print(my_df['x'])\n",
    "print(my_df['z'])"
   ]
  },
  {
   "cell_type": "markdown",
   "metadata": {},
   "source": [
    "Most of the time, we will be reading from .csv files and pass the data to a `DataFrame`, to do that, we simply call:\n",
    "```\n",
    "my_df = pd.read_csv('[path to the .csv file]')\n",
    "```\n",
    "\n",
    "**Indexing and Slicing Rows:** Note that an extra column on the left has been added to our dataset, this is the _index_ column, which is used to differentiate different rows from each other. As shown above, the indices are kepts intact when we seperate individual columns from the original dataset.\n",
    "\n",
    "The indices are also used to access individual rows in the dataset. Same idea with indexing and slicing, but this time we need to use `loc` function:"
   ]
  },
  {
   "cell_type": "code",
   "execution_count": 17,
   "metadata": {},
   "outputs": [
    {
     "name": "stdout",
     "output_type": "stream",
     "text": [
      "Getting row at index 1:\n",
      "x    2\n",
      "y    3\n",
      "z    8\n",
      "Name: 1, dtype: int64\n",
      "Getting the rows from index 0 to index 1 (inclusively):\n",
      "   x  y  z\n",
      "0  1  2  9\n",
      "1  2  3  8\n"
     ]
    }
   ],
   "source": [
    "print('Getting row at index 1:')\n",
    "print(my_df.loc[1])\n",
    "\n",
    "print('Getting the rows from index 0 to index 1 (inclusively):')\n",
    "print(my_df.loc[0:1])"
   ]
  },
  {
   "cell_type": "markdown",
   "metadata": {},
   "source": [
    "**Re-indexing a DataFrame:** It is also possible to assign a specific column in the dataset to be the index column:"
   ]
  },
  {
   "cell_type": "code",
   "execution_count": 18,
   "metadata": {},
   "outputs": [
    {
     "name": "stdout",
     "output_type": "stream",
     "text": [
      "   y  z\n",
      "x      \n",
      "1  2  9\n",
      "2  3  8\n",
      "3  4  7\n"
     ]
    }
   ],
   "source": [
    "my_df = my_df.set_index(['x'])\n",
    "print(my_df)"
   ]
  },
  {
   "cell_type": "markdown",
   "metadata": {},
   "source": [
    "**Iterating through a DataFrame:** To loop through the data in a `DataFrame`, we usually go through individual rows or individual columns. For example:"
   ]
  },
  {
   "cell_type": "code",
   "execution_count": 19,
   "metadata": {},
   "outputs": [
    {
     "name": "stdout",
     "output_type": "stream",
     "text": [
      "y\n",
      "x\n",
      "1    2\n",
      "2    3\n",
      "3    4\n",
      "Name: y, dtype: int64\n",
      "z\n",
      "x\n",
      "1    9\n",
      "2    8\n",
      "3    7\n",
      "Name: z, dtype: int64\n"
     ]
    }
   ],
   "source": [
    "# looping through the columns\n",
    "for column in my_df.columns:\n",
    "    print(column)\n",
    "    print(my_df[column])"
   ]
  },
  {
   "cell_type": "code",
   "execution_count": 20,
   "metadata": {},
   "outputs": [
    {
     "name": "stdout",
     "output_type": "stream",
     "text": [
      "y    2\n",
      "z    9\n",
      "Name: 1, dtype: int64\n",
      "y    3\n",
      "z    8\n",
      "Name: 2, dtype: int64\n",
      "y    4\n",
      "z    7\n",
      "Name: 3, dtype: int64\n"
     ]
    }
   ],
   "source": [
    "# looping through the indices (i.e. through the rows)\n",
    "for index in my_df.index:\n",
    "    print(my_df.loc[index])"
   ]
  },
  {
   "cell_type": "markdown",
   "metadata": {},
   "source": [
    "**Adding columns to a DataFrame:** Similar to adding an item to a dictionary, we could do:"
   ]
  },
  {
   "cell_type": "code",
   "execution_count": 21,
   "metadata": {},
   "outputs": [
    {
     "name": "stdout",
     "output_type": "stream",
     "text": [
      "Original DataFrame:\n",
      "   y  z\n",
      "x      \n",
      "1  2  9\n",
      "2  3  8\n",
      "3  4  7\n",
      "DataFrame after adding t:\n",
      "   y  z   t\n",
      "x          \n",
      "1  2  9  20\n",
      "2  3  8   3\n",
      "3  4  7  19\n"
     ]
    }
   ],
   "source": [
    "print('Original DataFrame:')\n",
    "print(my_df)\n",
    "\n",
    "# adding a column with the name 't'\n",
    "my_df['t'] = [20, 3, 19]\n",
    "print('DataFrame after adding t:')\n",
    "print(my_df)"
   ]
  },
  {
   "cell_type": "markdown",
   "metadata": {},
   "source": [
    "**Saving a DataFrame to file:** simple call `my_df.to_csv('[path to file]')` to save `my_df` to a .csv file on your local machine. Note that you don't need to create a .csv file with the specified name before calling `to_csv()`, if the file doesn't exist, Pandas will create a new file with the specified name for you. But if a file with the same name is already there, that file would be overwritten."
   ]
  },
  {
   "cell_type": "markdown",
   "metadata": {
    "collapsed": true
   },
   "source": [
    "**Dealing with missing values:** it is quite common for datasets from real-life problems to contain missing values, which usually result from data being collected incorrectly, or a specific information being not applicable on some elements in the dataset. Missing values are denoted by Pandas as `NaN` (Not a number). For example:"
   ]
  },
  {
   "cell_type": "code",
   "execution_count": 59,
   "metadata": {},
   "outputs": [
    {
     "name": "stdout",
     "output_type": "stream",
     "text": [
      "     x  y    z\n",
      "0  NaN  4  3.0\n",
      "1  1.0  2  4.0\n",
      "2  3.0  9  NaN\n",
      "3  3.0  8  5.0\n"
     ]
    }
   ],
   "source": [
    "my_df = pd.DataFrame({'x': [None, 1, 3, 3], 'y': [4, 2, 9, 8], 'z': [3, 4, None, 5]})\n",
    "print(my_df)"
   ]
  },
  {
   "cell_type": "markdown",
   "metadata": {},
   "source": [
    "It is usually not desirable to leave `Nan` values as is in our dataset. Many strategies to process missing values are used, depending on the type of data that we have. To name a few:\n",
    "- Dropping rows or columns with `NaN` values:"
   ]
  },
  {
   "cell_type": "code",
   "execution_count": 60,
   "metadata": {},
   "outputs": [
    {
     "name": "stdout",
     "output_type": "stream",
     "text": [
      "     x  y    z\n",
      "1  1.0  2  4.0\n",
      "3  3.0  8  5.0\n"
     ]
    }
   ],
   "source": [
    "# dropping the rows with NaN values\n",
    "filled_df = my_df.dropna(axis=0)\n",
    "print(filled_df)"
   ]
  },
  {
   "cell_type": "code",
   "execution_count": 61,
   "metadata": {},
   "outputs": [
    {
     "name": "stdout",
     "output_type": "stream",
     "text": [
      "   y\n",
      "0  4\n",
      "1  2\n",
      "2  9\n",
      "3  8\n"
     ]
    }
   ],
   "source": [
    "# dropping the columns with NaN values\n",
    "filled_df = my_df.dropna(axis=1)\n",
    "print(filled_df)"
   ]
  },
  {
   "cell_type": "markdown",
   "metadata": {},
   "source": [
    "Although beneficial at times, as shown above, if our data contains a large number of missing values, dropping the rows or columns that contain `NaN` might not be such a good idea. Other methods attempt to find meaningful ways to fill in the missing data.\n",
    "- Using the `fillna()` function:"
   ]
  },
  {
   "cell_type": "code",
   "execution_count": 62,
   "metadata": {},
   "outputs": [
    {
     "name": "stdout",
     "output_type": "stream",
     "text": [
      "          x  y    z\n",
      "0  2.333333  4  3.0\n",
      "1  1.000000  2  4.0\n",
      "2  3.000000  9  4.0\n",
      "3  3.000000  8  5.0\n",
      "     x  y    z\n",
      "0  3.0  4  3.0\n",
      "1  1.0  2  4.0\n",
      "2  3.0  9  3.0\n",
      "3  3.0  8  5.0\n",
      "     x  y    z\n",
      "0  3.0  4  3.0\n",
      "1  1.0  2  4.0\n",
      "2  3.0  9  4.0\n",
      "3  3.0  8  5.0\n"
     ]
    }
   ],
   "source": [
    "# filling the missing values with the mean, mode, and median of corresponding columns\n",
    "filled_df = my_df.fillna(my_df.mean())\n",
    "print(filled_df)\n",
    "filled_df = my_df.fillna(my_df.mode().loc[0])\n",
    "print(filled_df)\n",
    "filled_df = my_df.fillna(my_df.median())\n",
    "print(filled_df)"
   ]
  },
  {
   "cell_type": "markdown",
   "metadata": {},
   "source": [
    "- Using the `interpolate()` function:"
   ]
  },
  {
   "cell_type": "code",
   "execution_count": 63,
   "metadata": {},
   "outputs": [
    {
     "name": "stdout",
     "output_type": "stream",
     "text": [
      "     x  y    z\n",
      "0  NaN  4  3.0\n",
      "1  1.0  2  4.0\n",
      "2  3.0  9  4.5\n",
      "3  3.0  8  5.0\n"
     ]
    }
   ],
   "source": [
    "filled_df = my_df.interpolate()\n",
    "print(filled_df)"
   ]
  },
  {
   "cell_type": "markdown",
   "metadata": {},
   "source": [
    "The `interpolate()` function fills in each missing value with the midpoint of the two values above and below it. In our example, the top left cell is left as is, as there is no value above it, but the second `NaN` cell is filled with `4.5`, which is the midpoint of the value above (`4.0`) and the value below (`5.0`)."
   ]
  },
  {
   "cell_type": "code",
   "execution_count": null,
   "metadata": {
    "collapsed": true
   },
   "outputs": [],
   "source": []
  }
 ],
 "metadata": {
  "kernelspec": {
   "display_name": "Python 3",
   "language": "python",
   "name": "python3"
  },
  "language_info": {
   "codemirror_mode": {
    "name": "ipython",
    "version": 3
   },
   "file_extension": ".py",
   "mimetype": "text/x-python",
   "name": "python",
   "nbconvert_exporter": "python",
   "pygments_lexer": "ipython3",
   "version": "3.6.1"
  }
 },
 "nbformat": 4,
 "nbformat_minor": 2
}
