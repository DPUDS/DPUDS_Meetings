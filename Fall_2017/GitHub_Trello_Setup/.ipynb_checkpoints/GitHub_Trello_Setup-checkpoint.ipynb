{
 "cells": [
  {
   "cell_type": "markdown",
   "metadata": {},
   "source": [
    "# Getting Set Up with GitHub and Trello"
   ]
  },
  {
   "cell_type": "markdown",
   "metadata": {},
   "source": [
    "GitHub, commonly known as a programmer's code resume, is an essential tool for all developers, Data Scientists included. Trello is a task manager and collaboration tool that organizes your projects into boards. In one glance, Trello tells you what's being worked on, who's working on what, and at what step a project is at. This notebook will guide you through the process of getting set up in both of these environments."
   ]
  },
  {
   "cell_type": "markdown",
   "metadata": {},
   "source": [
    "## Step 1: Install The Git Command Line Tool"
   ]
  },
  {
   "cell_type": "markdown",
   "metadata": {},
   "source": [
    "### Using Anaconda (For Mac and Windows Users)\n",
    "\n",
    "To install GitHub for the command line, we can leverage Anaconda and its command line capabilities. Open up your terminal and enter the following command. __NOTE__: This may not work, depending on the configuration of your computer system. However, it is very fast and always worth a shot when installing.\n",
    "\n",
    "`conda install -c conda-forge git=2.12.2`  \n",
    "\n",
    "If you receive an error in doing this, please follow the more detailed instructions below."
   ]
  },
  {
   "cell_type": "markdown",
   "metadata": {},
   "source": [
    "### More Detailed Steps if Anaconda Does Not Work\n",
    "\n",
    "### For Mac Users"
   ]
  },
  {
   "cell_type": "markdown",
   "metadata": {},
   "source": [
    "#### Step 1:\n",
    "\n",
    "Installing the Command Line Tools for OS X: go to [developer.apple.com/xcode/](https://developer.apple.com/xcode/) to download Xcode, a free Apple developer suite. You might have to go to the Apple website to register as an Apple developer at [appleid.apple.com](https://appleid.apple.com)."
   ]
  },
  {
   "cell_type": "markdown",
   "metadata": {
    "collapsed": true
   },
   "source": [
    "#### Step 2:\n",
    "\n",
    "Installing Git: go to [git-scm.com/download/mac](https://git-scm.com/download/mac) and download the latest stable release of Git. Like Xcode, Git won't have an icon on your dock, but it can be used through the Terminal."
   ]
  },
  {
   "cell_type": "markdown",
   "metadata": {},
   "source": [
    "### For Windows Users"
   ]
  },
  {
   "cell_type": "markdown",
   "metadata": {},
   "source": [
    "Downloading Git for Windows: go to [git-scm.com/download/win](https://git-scm.com/download/win) to download the latest stable version of Git with the appropriate version (32-bit or 64-bit). Run the downloaded the executable file to begin the installation process.\n",
    "\n",
    "The default settings for the installation should work fine for our purposes, except for the option for the **PATH** environment, where you should select the option \"Run Git from the Windows Command Prompt while installing:\n",
    "\n",
    "![alt text](https://i.stack.imgur.com/31MMS.png)"
   ]
  },
  {
   "cell_type": "markdown",
   "metadata": {},
   "source": [
    "## Verifying your Installation\n",
    "\n",
    "Open a terminal window (which can be found in the Applications -> Utilities folder, or by using Spotlight for Mac users, or by typing \"cmd\" in the search section for Windows users), and type `git --version` followed by the return key. The Terminal should report back with your current installed Git version. Below is the result when I ran the above command:"
   ]
  },
  {
   "cell_type": "markdown",
   "metadata": {},
   "source": [
    "![alt text](https://image.ibb.co/gBqs2v/Screen_Shot_2017_07_15_at_2_14_32_PM.png)"
   ]
  },
  {
   "cell_type": "markdown",
   "metadata": {},
   "source": [
    "### Basic Terminal Commands\n",
    "\n",
    "There are a ton of different commands that allow you to work with the command line, and a number of them depend on whether you are running Windows or OS X. Head [here](https://commandwindows.com/command3.htm) for the complete list of commands for Windows operating system, or [here](https://github.com/0nn0/terminal-mac-cheatsheet) for the OS X version\n",
    "\n",
    "*Below is a list of the most common commands you can use:*"
   ]
  },
  {
   "cell_type": "markdown",
   "metadata": {},
   "source": [
    "- **`pwd`** (OS X), **`cd`** (Windows): \n",
    "    - Print out the full path of the current directory\n",
    "- **`cd [directory name]`**: \n",
    "    - Change directory (e.g. `cd Documents`) This one is IMPORTANT\n",
    "- **`cd ..`**: \n",
    "    - Go to the upper/mother directory (note there are 2 dots after cd)\n",
    "- **`ls`** (OS X), **`dir`** (Windows): \n",
    "    - Listing of the files of folders in current directory\n",
    "- **`mkdir [folder name]`**: \n",
    "    - Make a folder with specified name at the current directory (e.g. mkdir test)\n",
    "- **`open [file name]`** (OS X), **`[file name]`** (Windows): \n",
    "    - Open a file in the current directory (same effect if you double-clicked it)\n",
    "- **`python [.py file name]`**: \n",
    "    - Run a Python script from the terminal \n",
    "    - Most of the time you would run Python from Spyder, but you could also run it from the terminal"
   ]
  },
  {
   "cell_type": "markdown",
   "metadata": {},
   "source": [
    "Don't worry if you don't remember all of the commands; as you keep using the command line, you would automatically become more familiar with them. For now, feel free to reference this notebook as much as needed.\n"
   ]
  },
  {
   "cell_type": "markdown",
   "metadata": {},
   "source": [
    "## Step 2: Setting up your GitHub Account and Forking the Repository\n",
    "\n",
    "First, go to [github.com](https://github.com) and make an account if you don't already have one.\n",
    "\n",
    "Once this is done, go to https://github.com/DPUDS/DPUDS_Meetings and **fork** the repository, as seen in the picture below. You can also create a new repository using instructions in the Appendix, but for this tutorial we will fork an existing one."
   ]
  },
  {
   "cell_type": "markdown",
   "metadata": {},
   "source": [
    "![alt text](http://orm-chimera-prod.s3.amazonaws.com/1234000000726/images/tutorial_click_fork.png)"
   ]
  },
  {
   "cell_type": "markdown",
   "metadata": {},
   "source": [
    "What this will do is create a copy of this repository (**A repository is a fancy word for a set of files**) that you can have on your account. The diagram below will give a breakdown of the GitHub structure, and clarify the steps we will take next."
   ]
  },
  {
   "cell_type": "markdown",
   "metadata": {
    "collapsed": false
   },
   "source": [
    "![alt text](https://image.ibb.co/eQ9MPk/Git1.png)"
   ]
  },
  {
   "cell_type": "markdown",
   "metadata": {},
   "source": [
    "### Configuring Git Identification and Adding Local Repository Folder\n",
    "\n",
    "It is important to configure your __Git identification__ so the people working on a project with you know the work you commited to Git actually came from you.\n",
    "\n",
    "Run these lines from your terminal, with your own personal information:\n",
    "\n",
    "```\n",
    "$ git config --global user.name \"Your Name Here\"\n",
    "$ git config --global user.email \"your_name@domain.com\"\n",
    "```\n",
    "\n",
    "Now, go into the __Python Folder__ you created when we installed Anaconda, and add a folder called __DPUDS__.\n",
    "You can use this folder as your __Local GitHub Repository__."
   ]
  },
  {
   "cell_type": "markdown",
   "metadata": {},
   "source": [
    "## Step 3: Creating a Local GitHub Repository\n",
    "\n",
    "While manually uploading our files to GitHub is an option, most of the time we would want to create a repository using a folder on our local computer. Luckily, **`git`** can help us with this. "
   ]
  },
  {
   "cell_type": "markdown",
   "metadata": {},
   "source": [
    "### Cloning an Existing GitHub Repository\n",
    "\n",
    "Cloning a repository copies all files to your local computer. It is quick, and easy; all you need is the URL of the repository you want to clone. Below we will walk you through the process of how to do this with the command line."
   ]
  },
  {
   "cell_type": "markdown",
   "metadata": {},
   "source": [
    "**1.** Open up a command prompt, terminal, or PowerShell (type `cmd` into the taskbar)\n",
    "\n",
    "**2.** Change your current working directory to your **Documents/Python/DPUDS** folder using the commands below. Change **YourFirstName** to your first name, and verify the command worked afterwards by typing **`pwd`**. It should show the same path. You could also open terminal, type `cd` and just drag and drop your DPUDS folder into the terminal to get the path.\n",
    "   - **Mac:** **`cd /Users/YourFirstName/Documents/Python/DPUDS`**\n",
    "   - **Windows:** **`cd C:/Documents/Python/DPUDS`**\n",
    "\n",
    "**3.** Clone the DPUDS_Meetings GitHub Repository with the following command.\n",
    "   - **`git clone https://github.com/DPUDS/DPUDS_Meetings`**\n",
    "   \n",
    "**4.** Go to your **Documents/Python/DPUDS** folder and verify a new folder called **DPUDS_Meetings** is there"
   ]
  },
  {
   "cell_type": "markdown",
   "metadata": {},
   "source": [
    "## Step 4: Initialize Local GitHub Repository and Commit Changes\n",
    "\n",
    "Now that we have a clone of our DPUDS_Meetings repository on our local computer, let's initialize it and commit our changes."
   ]
  },
  {
   "cell_type": "markdown",
   "metadata": {},
   "source": [
    "### Initialize GitHub Repository\n",
    "\n",
    "Go back to your command line window you were at before and execute the following:\n",
    "\n",
    "- **`cd DPUDS_Meetings`** \n",
    "    - Moves working directory into your new repository\n",
    "- **`git init`** \n",
    "    - Initializes your folder as a Git project\n",
    "    \n",
    "**That's it!** Your local folder is now  GitHub Repository"
   ]
  },
  {
   "cell_type": "markdown",
   "metadata": {},
   "source": [
    "### Synchronizing GitHub Fork with Master Repository\n",
    "\n",
    "Ultimately, the goal is for you to contribute to the DPUDS master repository found [here](https://github.com). To do this safely, **before you commit changes you must be sure you have the most up to date version of the repository**. Fortunately, you can do this through the command line too. The process is shown below, and be sure that you are in the correct working directory."
   ]
  },
  {
   "cell_type": "markdown",
   "metadata": {},
   "source": [
    "- **`git remote add upstream https://github.com/DPUDS/DPUDS_Meetings.git`** \n",
    "    - Adds new remote to upsream repository\n",
    "- **`git remote -v`** \n",
    "    - Should now show two URLs, one for the fork and one for the upstream (master) repository (see picture below)\n",
    "- **`git fetch upstream`** \n",
    "    - grabs all of the new changes from the upstream repository\n",
    "- **`git merge upstream/master`** \n",
    "    - Combines all of your changes will any changes made to the upstream repository by other people\n",
    "    \n",
    "**NOTE** This should **ALWAYS** be done **BEFORE** committing any new changes."
   ]
  },
  {
   "cell_type": "markdown",
   "metadata": {
    "collapsed": false
   },
   "source": [
    "![alt text](https://image.ibb.co/nHbPc5/GIt2.png)"
   ]
  },
  {
   "cell_type": "markdown",
   "metadata": {},
   "source": [
    "### Committing Changes to your GitHub Repository\n",
    "\n",
    "- **`git add .`** \n",
    "    - Adds every file in the folder to the project\n",
    "- **`git commit -m \"[commit message]\"`** \n",
    "    - Commits the changes to Git, e.g. `git commit -m \"First commit\"`\n",
    "- **`git remote add origin [repository URL].git`** \n",
    "    - Registers an URL as the remote path for the project, you should put the URL of your GitHub repository\n",
    "- **`git push -u origin master`** \n",
    "    - Pushes the project/folder changes from your local computer to your GitHub account\n",
    "- **`git remote -v`** \n",
    "    - Shows you the remote locations of your repository connections\n",
    "\n",
    "And there you go, that's how you create a new repository on GitHub from files in your local computer using the command line. Be sure to go back to the repository on GitHub and give it more description so that others know more about your repository."
   ]
  },
  {
   "cell_type": "markdown",
   "metadata": {},
   "source": [
    "## Step 5: Making a Pull Request\n",
    "\n",
    "This is arguably one of the most important, and most common features of Git that we will be using. By making a pull request, you request the owner of a repository you forked to update their original repository with the changes you made with yours. Of course, you only have to do this with the repositories that you forked.\n",
    "\n",
    "First, you would need to update the forked repository on your GitHub account. Do this following the guide right above. After running the `git push` command, head to your GitHub account, and click on the **New Pull equest** button in the upper left corner, and add some descriptive messages about your pull before send the request."
   ]
  },
  {
   "cell_type": "markdown",
   "metadata": {},
   "source": [
    "## Practice\n",
    "\n",
    "Now that you have forked and cloned the **DPUDS_Meetings** repository, let's practice making a commit. Inside the DPUDS_Meetings folder on your computer is a sub-folder called **Names**. Add a empty text file with your name as the file name (e.g **jane_doe.txt**).\n",
    "\n",
    "Once you have done this, follow the process outlined under **Committing Changes to GitHub** to commit your changes to your forked repository. Then, submit a pull request to DPUDS and we will add you to the master branch."
   ]
  },
  {
   "cell_type": "markdown",
   "metadata": {},
   "source": [
    "# Appendix"
   ]
  },
  {
   "cell_type": "markdown",
   "metadata": {},
   "source": [
    "## Setting up Trello\n",
    "\n",
    "Simply go to [trello.com](https://trello.com) and create an account. Once you have done that, let us know your account and we will add you to our team board!\n",
    "\n",
    "Boards are where projects get organized, information is shared. As we start a project on GitHub, we will also create a new Trello board dedicated to that project. For now, feel free to explore Trello, try creating new boards and cards, or check out their [website](https:/trello.com) for detailed guides on specific functionalities of Trello."
   ]
  },
  {
   "cell_type": "markdown",
   "metadata": {},
   "source": [
    "## Commit Changes to GitHub\n",
    "\n",
    "Let's say you have added files to the repository in your local machine, now you want to update the repository on your Github account. Some of you might have taken the Object Oriented Software Engineering class, and experienced the dread of committing changes using Eclipse, fear not, as using Git to do this is so much easier and more effective.\n",
    "\n",
    "Let's try this on the test repository you created earlier. Using the command line or manually doing this, put some file inside your test folder, we will commit this file to your GitHub repository.\n",
    "\n",
    "First, start your command line if you haven't already, and navigate it to the folder that contains your local repository (test folder in our case). Once you get there, it's always a good idea to check the Git path of your folder by running **`git remote -v`** before doing anything else. If the result is not the URL of the corresponding repository on GitHub, simply run **`git remote add origin [repository URL]`** to set the path to the correct URL.\n",
    "\n",
    "Here, you can run either **`git add .`**, which would add all new changes to Git since the last time you commit, or **`git add [file name(s)]`**, which would only add the specified files. The later is used when you only want to update your online repository with specific files, but not all new files. After running this, you should see a message about the file you just put in being registered with Git.\n",
    "\n",
    "Finally, run **`git commit -m \"[commit message]\"`** and **`git push -u origin master`** to push the changes to your GitHub repository. Note that the commit message needs to be in the double quotes. After this, go to your GitHub account and verify the changes in your repository."
   ]
  },
  {
   "cell_type": "markdown",
   "metadata": {},
   "source": [
    "## Creating a New GitHub Repository"
   ]
  },
  {
   "cell_type": "markdown",
   "metadata": {},
   "source": [
    "Create a new repository by going to your GitHub Account and clicking the **+** icon in the upper right corner of your window, and choosing the **New repository** option. Give it any name you want for now. It is important that you do not check the box that says **Initialize this repository with a README**, and leave both the options **Add .gitignore** and **Add a license** as **None**. Click the **Create repository** button after you put in a name."
   ]
  }
 ],
 "metadata": {
  "kernelspec": {
   "display_name": "Python 3",
   "language": "python",
   "name": "python3"
  },
  "language_info": {
   "codemirror_mode": {
    "name": "ipython",
    "version": 3
   },
   "file_extension": ".py",
   "mimetype": "text/x-python",
   "name": "python",
   "nbconvert_exporter": "python",
   "pygments_lexer": "ipython3",
   "version": "3.6.0"
  }
 },
 "nbformat": 4,
 "nbformat_minor": 2
}
