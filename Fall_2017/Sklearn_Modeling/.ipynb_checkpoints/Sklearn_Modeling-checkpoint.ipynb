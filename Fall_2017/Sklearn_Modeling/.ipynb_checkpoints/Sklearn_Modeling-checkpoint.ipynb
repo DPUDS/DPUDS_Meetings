{
 "cells": [
  {
   "cell_type": "markdown",
   "metadata": {},
   "source": [
    "# Modeling Data and Comparing Predictions with Sklearn\n",
    "\n",
    "Sci-kit Learn, or **Sklearn** for short, is one of the quintessential scientific computing modules for Python. Primarily known as an out-of-the-box machine learning tool, sklearn is able to quickly train and test multiple models. In this tutorial, we will give an overview of only the very basics of sklearn, as this module has immense capabilities. Using a dataset pertaining to car ratings, we will compare six different machine learning models to see which perform best. In doing so, we will also see how to train and test six common machine learning methods."
   ]
  },
  {
   "cell_type": "markdown",
   "metadata": {},
   "source": [
    "## A Few Notes\n",
    "\n",
    "Usually, DPUDS ML tutorials **emphasize the methodology behind the models**, or how different machine learning algorithms actually work. This tutorial will be an **exception to this rule**. Due to the fact that sklearn is incredibly user friendly, it is (fortunately, or unfortunately) **possible for someone to train and test a model that they do not understand**. While we certainly recommend that people **learn the methods behind the madness** of sklearn and ML in general, we also realize that many people have limited time and want to experiment with pre-configured code. If you want to hit the ground running at a dead sprint, then this tutorial will assist you. With that said, it is crucial that people more serious about ML eventually learn how each model works, and why."
   ]
  },
  {
   "cell_type": "markdown",
   "metadata": {},
   "source": [
    "### Step 1: Import Dependencies\n",
    "\n",
    "Since we typically build our models from scratch, this section will be much larger than the others. Below you will see standard modules imported (numpy, pandas, ...), as well as matplotlib and six sklearn modules. Matplotlib will be used to visualize our results, and sklearn modules will import the models themselves.\n",
    "\n",
    "**Standard Imports**"
   ]
  },
  {
   "cell_type": "code",
   "execution_count": 71,
   "metadata": {
    "collapsed": true
   },
   "outputs": [],
   "source": [
    "#Standard imports\n",
    "import numpy as np \n",
    "import matplotlib.pyplot as plt\n",
    "import pandas as pd \n",
    "import os\n",
    "from matplotlib import style"
   ]
  },
  {
   "cell_type": "markdown",
   "metadata": {},
   "source": [
    "**Sklearn Imports**"
   ]
  },
  {
   "cell_type": "code",
   "execution_count": 72,
   "metadata": {
    "collapsed": true
   },
   "outputs": [],
   "source": [
    "#Train test split\n",
    "from sklearn.model_selection import train_test_split\n",
    "\n",
    "# K-Nearest Neighbors\n",
    "from sklearn.neighbors import KNeighborsClassifier\n",
    "\n",
    "# Random Forest Classifier\n",
    "from sklearn.ensemble import RandomForestClassifier\n",
    "\n",
    "# Support Vector Machine model\n",
    "from sklearn.svm import SVC\n",
    "\n",
    "# Logistic Regression\n",
    "from sklearn.linear_model import LogisticRegression\n",
    "\n",
    "# Stochastic Gradient Descent Optimizer\n",
    "from sklearn.linear_model import SGDClassifier\n",
    "\n",
    "# Gaussian Naive Bayes Optimizer\n",
    "from sklearn.naive_bayes import GaussianNB"
   ]
  },
  {
   "cell_type": "markdown",
   "metadata": {},
   "source": [
    "With the exception of **train_test_split**, the models above are imported as objects that can be customized in many ways. We will see some of this customization below, but for additional insight you can find the **documentation for these models here**:\n",
    "\n",
    "- [K-Neighbors Classifier](http://scikit-learn.org/stable/modules/generated/sklearn.neighbors.KNeighborsClassifier.html)\n",
    "- [Random Forest Classifier](http://scikit-learn.org/stable/modules/generated/sklearn.ensemble.RandomForestClassifier.html)\n",
    "- [Support Vector Machine](http://scikit-learn.org/stable/modules/generated/sklearn.svm.SVC.html)\n",
    "- [Logistic Regression](http://scikit-learn.org/stable/modules/generated/sklearn.linear_model.LogisticRegression.html)\n",
    "- [Stochastic Gradient Descent (SGDC)](http://scikit-learn.org/stable/modules/generated/sklearn.linear_model.SGDClassifier.html)\n",
    "- [Gaussian Naive Bayes Classifier](http://scikit-learn.org/stable/modules/generated/sklearn.naive_bayes.GaussianNB.html)\n",
    "    "
   ]
  },
  {
   "cell_type": "markdown",
   "metadata": {},
   "source": [
    "Lastly, lets locate out dataset in our directory and change matplotlib to include a customized style. Both of these will be very import down the road."
   ]
  },
  {
   "cell_type": "code",
   "execution_count": 73,
   "metadata": {
    "collapsed": true
   },
   "outputs": [],
   "source": [
    "#Style that will be used for the graph that shows model comparison\n",
    "style.use('ggplot')\n",
    "\n",
    "#Change this to the working directory of your dataset\n",
    "os.chdir('/Users/Sam/Documents/Python/DPUDS/DPUDS_Meetings/Fall_2017/Sklearn_Modeling')\n",
    "\n",
    "#Dictionary to translate numbers into user friendly strings for overall car rating\n",
    "target_dict = {1:'Unacceptable',2:'Acceptable',3:'Good',4:'Very_Good'}"
   ]
  },
  {
   "cell_type": "markdown",
   "metadata": {},
   "source": [
    "### Step 2: Import and Refine Dataset\n",
    "\n",
    "Now we are ready to import our data. This dataset captures several features of a car, as outlined below by the host of the dataset, the **University of California at Irvine**. Ultimately, the goal is to predict the overall rating a car recieves from its features. The features and other information are included [here](http://archive.ics.uci.edu/ml/machine-learning-databases/car/car.names)."
   ]
  },
  {
   "cell_type": "markdown",
   "metadata": {},
   "source": [
    "**Import Data**\n",
    "\n",
    "Ok, now that we know more about our dataset, let's import it and write a function to **replace all string values with dummy variables**. Fortunately for us, this dataset has **no missing or corrupted data**, so we will not have to worry about that. As seen below, our dataset looks like this."
   ]
  },
  {
   "cell_type": "code",
   "execution_count": 74,
   "metadata": {
    "collapsed": false
   },
   "outputs": [
    {
     "name": "stdout",
     "output_type": "stream",
     "text": [
      "  buy_price maintanence_price num_people num_doors trunk_size safety_rating  \\\n",
      "0     vhigh             vhigh          2         2      small           low   \n",
      "1     vhigh             vhigh          2         2      small           med   \n",
      "2     vhigh             vhigh          2         2      small          high   \n",
      "3     vhigh             vhigh          2         2        med           low   \n",
      "4     vhigh             vhigh          2         2        med           med   \n",
      "\n",
      "  overall_rating  \n",
      "0          unacc  \n",
      "1          unacc  \n",
      "2          unacc  \n",
      "3          unacc  \n",
      "4          unacc  \n"
     ]
    }
   ],
   "source": [
    "#Import data using pandas\n",
    "data = pd.read_csv('Car_Ratings.csv', names = [    'buy_price', \n",
    "                                                   'maintanence_price',\n",
    "                                                   'num_people',\n",
    "                                                   'num_doors',\n",
    "                                                   'trunk_size',\n",
    "                                                   'safety_rating',\n",
    "                                                   'overall_rating'])\n",
    "\n",
    "#Take a look at our data\n",
    "print(data.head())"
   ]
  },
  {
   "cell_type": "markdown",
   "metadata": {},
   "source": [
    "**Refine and Convert Data**\n",
    "\n",
    "Perfect! All siz fields are present as under the correct column header. However, we cannot do predictive analysis on data that exists as strings (or, at least, it becomes much more difficult). Therefore, we will convert all string values into dummy variables. For example, the values of **`buy_price`** **(low, med, high, vhigh)** will be replaced by **(1,2,3,4)**. We will do this for all data that is not numeric."
   ]
  },
  {
   "cell_type": "code",
   "execution_count": 75,
   "metadata": {
    "collapsed": false
   },
   "outputs": [
    {
     "name": "stdout",
     "output_type": "stream",
     "text": [
      "   buy_price  maintanence_price  num_people  num_doors  trunk_size  \\\n",
      "0          4                  4           2          2           1   \n",
      "1          4                  4           2          2           1   \n",
      "2          4                  4           2          2           1   \n",
      "3          4                  4           2          2           2   \n",
      "4          4                  4           2          2           2   \n",
      "\n",
      "   safety_rating  \n",
      "0              1  \n",
      "1              2  \n",
      "2              3  \n",
      "3              1  \n",
      "4              2  \n",
      "\n",
      "Class Labels\n",
      "0    1\n",
      "1    1\n",
      "2    1\n",
      "3    1\n",
      "4    1\n",
      "Name: overall_rating, dtype: int64\n"
     ]
    }
   ],
   "source": [
    "###########################################\n",
    "#\n",
    "# Data Refinement and Dummy Variables\n",
    "#\n",
    "###########################################\n",
    "\n",
    "#Refines our data in place\n",
    "def refine_data_master(data):\n",
    "    # Buy price\n",
    "    data.replace({'buy_price':{'vhigh':4,'high':3,'med':2,'low':1}}, regex = True, inplace = True)\n",
    "    # Maintanence Price\n",
    "    data.replace({'maintanence_price':{'vhigh':4,'high':3,'med':2,'low':1}}, regex = True, inplace = True)\n",
    "    # Number of doors\n",
    "    data.replace({'num_doors':{'2':2,'4':4,'more':6}}, regex = True, inplace = True)\n",
    "    # Number of people\n",
    "    data.replace({'num_people':{'2':2,'3':3,'4':4,'5more':5}}, regex = True, inplace = True)\n",
    "    # Trunk Size\n",
    "    data.replace({'trunk_size':{'small':1,'med':2,'big':3}}, regex = True, inplace = True)\n",
    "    # Safety rating\n",
    "    data.replace({'safety_rating':{'low':1,'med':2,'high':3}}, regex = True, inplace = True)\n",
    "\n",
    "    # Overall rating (our labels) (MAKE SURE unacc goes before acc, and vgood before good)\n",
    "    data.replace({'overall_rating':{'vgood':4,'good':3,'unacc':1,'acc':2}}, regex = True, inplace = True)\n",
    "\n",
    "    # Data without labels\n",
    "    data_features = data.drop('overall_rating',axis = 1)\n",
    "\n",
    "    # Data labels only\n",
    "    data_labels = data.overall_rating\n",
    "    \n",
    "    # Returns data and labels\n",
    "    return data_features, data_labels\n",
    "\n",
    "data_features, data_labels = refine_data_master(data)\n",
    "\n",
    "#Print features\n",
    "print(data_features.head())\n",
    "\n",
    "\n",
    "\n",
    "#Print labels\n",
    "print()\n",
    "print(\"Class Labels\")\n",
    "print(data_labels.head())"
   ]
  },
  {
   "cell_type": "markdown",
   "metadata": {},
   "source": [
    "As you can see here, we have replaced the string values of the dataset with dummy variable numbers, and split the data into **features, things that describe the data** and **labels, things we are trying to predict**. Now we are ready to start creating an algorithm to run these models and compare them."
   ]
  },
  {
   "cell_type": "markdown",
   "metadata": {},
   "source": [
    "### Step 3: Verify Data Can be Used to Train a Single Model\n",
    "\n",
    "This this tutorial may be a little more programmatically intensive than previous ones, we are going to first **verify a proof concept**. Basically, we want to be sure that this data will actually be suitable to run a model. In order to be sure of this, we will train and test a **K-Nearest Neighbors** model with sklearn and visualize it in the same way we have in previous tutorials. But first, we need a way to split the training and testing data with sklearn.\n",
    "\n",
    "**Split Data into Train and Test Samples**"
   ]
  },
  {
   "cell_type": "code",
   "execution_count": 76,
   "metadata": {
    "collapsed": true
   },
   "outputs": [],
   "source": [
    "X_train, X_test, y_train, y_test = train_test_split(data_features, data_labels, test_size = 0.25)"
   ]
  },
  {
   "cell_type": "markdown",
   "metadata": {},
   "source": [
    "And that is it. The only thing you have to do to get training and testing datasets in sklearn is **call the train_test_split function**. **`X_train`** and **`y_train`** are the training data features and labels, respectively, where as the **`_test`** variables are their testing counterparts. The size of the testing sample is **25% of the entire dataset**. With this data now available, we can **create our KNN model**.\n",
    "\n",
    "**Create KNN Model**"
   ]
  },
  {
   "cell_type": "code",
   "execution_count": 77,
   "metadata": {
    "collapsed": true
   },
   "outputs": [],
   "source": [
    "'''\n",
    "This is the sklearn KNN model. By passing in the train and test\n",
    "data, we can train the model and then test it. This function\n",
    "does exactly that and then returns the accuracy, as found\n",
    "with the function iter_accuracy\n",
    "'''\n",
    "def KNN_train_test_model(X_train, X_test, y_train, y_test):\n",
    "    KNN_clf = KNeighborsClassifier(n_neighbors = 5, \n",
    "                                   weights = 'uniform', \n",
    "                                   algorithm = 'auto', \n",
    "                                   leaf_size = 30)\n",
    "    KNN_clf.fit(X_train,y_train)\n",
    "    predicted = list(KNN_clf.predict(X_test))\n",
    "    actual = list(y_test)\n",
    "\n",
    "    #accuracy = iter_accuracy(actual,predicted)\n",
    "\n",
    "    return actual, predicted"
   ]
  },
  {
   "cell_type": "markdown",
   "metadata": {},
   "source": [
    "Let's break down the function above. The inputs needed are four datasets, **training features and labels, and testing features and labels**. With sklearn, first you need to **initialize your classifier**, with is done in the first line of code and assigned to the variable **`KNN_clf`**. \n",
    "\n",
    "Next, to **train the data**, you call the **`.fit()`** method, which will train the data instanstly and store the trained model in your classifier object (which is called **`KNN_clf`** above). \n",
    "\n",
    "Finally, to **get a list of predicted classes** for the testing dataset, you can call **`.predict()`** on the testing data features. Ignore the commented out function for accuracy for now; it will be uncommented and used later.\n",
    "\n",
    "The function outputs the actual ratings of the cars and the predicted ratings of the cars as lists."
   ]
  },
  {
   "cell_type": "markdown",
   "metadata": {},
   "source": [
    "**Visualize our results**\n",
    "\n",
    "Now that we have a model we can run, let's verify its accuracy with the functions we have used in previous tutorials. These are shown below."
   ]
  },
  {
   "cell_type": "code",
   "execution_count": 78,
   "metadata": {
    "collapsed": true
   },
   "outputs": [],
   "source": [
    "'''\n",
    "This function is equivalent to what we saw in the KNN\n",
    "tutorial. It shows the accuracy of the model, including\n",
    "the number correct and the number incorrect. Its inputs\n",
    "are the actual list of labels and the list of predicted\n",
    "labels.\n",
    "'''\n",
    "def viz_get_accuracy(actual, predicted):\n",
    "    count = 0\n",
    "    for i in range(len(actual)):\n",
    "        if actual[i] == predicted[i]:\n",
    "            count += 1\n",
    "    num_correct = count\n",
    "    num_incorrect = len(actual) - count\n",
    "    return \"Accuracy: \" + str(count / len(actual)*100) + \" percent\" + '\\n' + \"Number correct: \" + str(num_correct) + '\\n' + \"Number incorrect: \" + str(num_incorrect)\n",
    "\n",
    "\n",
    "'''\n",
    "Inputs are actual and predicted labels for the dataset. \n",
    "This model prints the results of the model next to the actual\n",
    "results for side-by-side viewing.\n",
    "'''\n",
    "def viz_view_results(actual,predicted):\n",
    "    result = pd.DataFrame()\n",
    "    for i in range(len(actual)):\n",
    "        actual[i] = target_dict[actual[i]]\n",
    "        predicted[i] = target_dict[predicted[i]]\n",
    "    result['ACTUAL'] = actual\n",
    "    result['PREDICTED'] = predicted\n",
    "    result['CORRECT?'] = [actual[i] == predicted[i] for i in range(len(actual))]\n",
    "\n",
    "    return result"
   ]
  },
  {
   "cell_type": "markdown",
   "metadata": {},
   "source": [
    "Now we are ready to see if our model is working as expected, and if our data is compatible with sklearn. This is a **particularly important** step as it will **tell us if we have bad data, data conversions, or incompatible features**. Let's take a look."
   ]
  },
  {
   "cell_type": "code",
   "execution_count": 79,
   "metadata": {
    "collapsed": false
   },
   "outputs": [
    {
     "name": "stdout",
     "output_type": "stream",
     "text": [
      "           ACTUAL     PREDICTED CORRECT?\n",
      "0            Good    Acceptable    False\n",
      "1      Acceptable    Acceptable     True\n",
      "2      Acceptable    Acceptable     True\n",
      "3    Unacceptable  Unacceptable     True\n",
      "4      Acceptable    Acceptable     True\n",
      "5    Unacceptable  Unacceptable     True\n",
      "6    Unacceptable  Unacceptable     True\n",
      "7    Unacceptable  Unacceptable     True\n",
      "8      Acceptable    Acceptable     True\n",
      "9    Unacceptable  Unacceptable     True\n",
      "10     Acceptable  Unacceptable    False\n",
      "11   Unacceptable  Unacceptable     True\n",
      "12           Good          Good     True\n",
      "13     Acceptable    Acceptable     True\n",
      "14     Acceptable    Acceptable     True\n",
      "15   Unacceptable  Unacceptable     True\n",
      "16   Unacceptable  Unacceptable     True\n",
      "17     Acceptable    Acceptable     True\n",
      "18           Good          Good     True\n",
      "19      Very_Good     Very_Good     True\n",
      "20   Unacceptable  Unacceptable     True\n",
      "21   Unacceptable  Unacceptable     True\n",
      "22           Good    Acceptable    False\n",
      "23   Unacceptable  Unacceptable     True\n",
      "24   Unacceptable  Unacceptable     True\n",
      "25   Unacceptable  Unacceptable     True\n",
      "26      Very_Good     Very_Good     True\n",
      "27   Unacceptable  Unacceptable     True\n",
      "28   Unacceptable  Unacceptable     True\n",
      "29     Acceptable     Very_Good    False\n",
      "..            ...           ...      ...\n",
      "402  Unacceptable  Unacceptable     True\n",
      "403    Acceptable    Acceptable     True\n",
      "404  Unacceptable  Unacceptable     True\n",
      "405  Unacceptable  Unacceptable     True\n",
      "406  Unacceptable  Unacceptable     True\n",
      "407  Unacceptable  Unacceptable     True\n",
      "408  Unacceptable  Unacceptable     True\n",
      "409  Unacceptable  Unacceptable     True\n",
      "410  Unacceptable  Unacceptable     True\n",
      "411  Unacceptable  Unacceptable     True\n",
      "412  Unacceptable  Unacceptable     True\n",
      "413    Acceptable    Acceptable     True\n",
      "414  Unacceptable  Unacceptable     True\n",
      "415  Unacceptable  Unacceptable     True\n",
      "416  Unacceptable  Unacceptable     True\n",
      "417          Good          Good     True\n",
      "418  Unacceptable  Unacceptable     True\n",
      "419  Unacceptable    Acceptable    False\n",
      "420  Unacceptable  Unacceptable     True\n",
      "421    Acceptable  Unacceptable    False\n",
      "422    Acceptable    Acceptable     True\n",
      "423  Unacceptable  Unacceptable     True\n",
      "424  Unacceptable  Unacceptable     True\n",
      "425  Unacceptable  Unacceptable     True\n",
      "426  Unacceptable  Unacceptable     True\n",
      "427    Acceptable    Acceptable     True\n",
      "428    Acceptable    Acceptable     True\n",
      "429    Acceptable  Unacceptable    False\n",
      "430    Acceptable    Acceptable     True\n",
      "431  Unacceptable  Unacceptable     True\n",
      "\n",
      "[432 rows x 3 columns]\n",
      "\n",
      "Accuracy: 93.05555555555556 percent\n",
      "Number correct: 402\n",
      "Number incorrect: 30\n"
     ]
    }
   ],
   "source": [
    "#Training and testing model; getting actual and predicted classes\n",
    "actual, predicted = KNN_train_test_model(X_train, X_test, y_train, y_test)\n",
    "\n",
    "# Dataframe of the results\n",
    "results = viz_view_results(actual,predicted)\n",
    "\n",
    "# Messages about accuracy\n",
    "accuracy = viz_get_accuracy(actual, predicted)\n",
    "\n",
    "print(results)\n",
    "print()\n",
    "print(accuracy)"
   ]
  },
  {
   "cell_type": "markdown",
   "metadata": {},
   "source": [
    "Not bad, not bad at all. It looks like we have **proved that we can implement a training and testing function for sklearn's KNN classifier** for finding the overall rating a car has, and that the data is **predicting fairly efficiently**. Now let's take things up a notch and **create a classification comparison engine**."
   ]
  },
  {
   "cell_type": "markdown",
   "metadata": {},
   "source": [
    "### Step 4: Create Six Sklearn Models\n",
    "\n",
    "We have taken a deep dive into how to train and test an sklearn model. Now, let's train and test a bunch of them and pit them against each other. First, let's decide on how to compare the efficiency of each model. The immediate thought that comes to mind is **accuracy**. So, let's create a function that will just return the accuracy of a given model.\n",
    "\n",
    "**Create Accuracy Function**"
   ]
  },
  {
   "cell_type": "code",
   "execution_count": 80,
   "metadata": {
    "collapsed": true
   },
   "outputs": [],
   "source": [
    "'''\n",
    "This model iteratively returns a single value,\n",
    "the accuracy of the model as found by \n",
    "num_correct/tot_num_samples. This is the function\n",
    "that will be called iteratively when the sampling\n",
    "engine runs for all sklearn models. Inputs are \n",
    "actual labels, and predicted labels.\n",
    "'''\n",
    "def iter_accuracy(actual, predicted):\n",
    "    correct_count = 0\n",
    "    for i in range(len(actual)):\n",
    "        if actual[i] == predicted[i]:\n",
    "            correct_count += 1\n",
    "    accuracy = correct_count/len(actual)\n",
    "    return accuracy"
   ]
  },
  {
   "cell_type": "markdown",
   "metadata": {},
   "source": [
    "Simple enough. You may have noticed that this function bears a striking similarity to our previous accuracy function. It is just pared down to only **return an accuracy value between 0 and 1**. Now, let's see if we can alter our KNN function to only return the accuracy of the model.\n",
    "\n",
    "**Adjust KNN Function to only Return Accuracy**"
   ]
  },
  {
   "cell_type": "code",
   "execution_count": 81,
   "metadata": {
    "collapsed": true
   },
   "outputs": [],
   "source": [
    "'''\n",
    "This is the sklearn KNN model. By passing in the train and test\n",
    "data, we can train the model and then test it. This function\n",
    "does exactly that and then returns the accuracy, as found\n",
    "with the function iter_accuracy\n",
    "'''\n",
    "def KNN_train_test_model(X_train, X_test, y_train, y_test):\n",
    "    KNN_clf = KNeighborsClassifier(n_neighbors = 5, \n",
    "                                   weights = 'uniform', \n",
    "                                   algorithm = 'auto', \n",
    "                                   leaf_size = 30)\n",
    "    KNN_clf.fit(X_train,y_train)\n",
    "    predicted = list(KNN_clf.predict(X_test))\n",
    "    actual = list(y_test)\n",
    "\n",
    "    accuracy = iter_accuracy(actual,predicted)\n",
    "\n",
    "    return accuracy"
   ]
  },
  {
   "cell_type": "markdown",
   "metadata": {},
   "source": [
    "As you can see, this is where the iter_accuracy function that was commented out above finds its purpose. Now, if this function were run, it would **return the decimal form the accuracy of the model** (or 0.930555 in the case above). \n",
    "\n",
    "**Create Train_Test_Accuracy Functions for All Other Models**\n",
    "\n",
    "Now that we have a template function for train a model, testing it, and returning its accuracy, let's re-create it for all of the other models we imported. \n",
    "\n",
    "**NOTE:** Some of these models have additional arguments included. We **will not** have time to cover what these are or how they work. For more information **see the Python documentation cited above**."
   ]
  },
  {
   "cell_type": "code",
   "execution_count": 82,
   "metadata": {
    "collapsed": false
   },
   "outputs": [],
   "source": [
    "'''\n",
    "This is the sklearn SVM model. By passing in the train and test\n",
    "data, we can train the model and then test it. This function\n",
    "does exactly that and then returns the accuracy, as found\n",
    "with the function iter_accuracy\n",
    "'''\n",
    "def SVM_train_test_model(X_train, X_test, y_train, y_test):\n",
    "    SVM_clf = SVC()\n",
    "    SVM_clf.fit(X_train,y_train)\n",
    "    predicted = list(SVM_clf.predict(X_test))\n",
    "    actual = list(y_test)\n",
    "\n",
    "    accuracy = iter_accuracy(actual,predicted)\n",
    "\n",
    "    return accuracy\n",
    "\n",
    "'''\n",
    "This is the sklearn GNB model. By passing in the train and test\n",
    "data, we can train the model and then test it. This function\n",
    "does exactly that and then returns the accuracy, as found\n",
    "with the function iter_accuracy\n",
    "'''\n",
    "def GNB_train_test_model(X_train, X_test, y_train, y_test):\n",
    "    GNB_clf = GaussianNB()\n",
    "    GNB_clf.fit(X_train, y_train)\n",
    "    predicted = list(GNB_clf.predict(X_test))\n",
    "    actual = list(y_test)\n",
    "\n",
    "    accuracy = iter_accuracy(actual,predicted)\n",
    "\n",
    "    return accuracy\n",
    "\n",
    "'''\n",
    "This is the sklearn Stochastic Gradient Descent model. By passing \n",
    "in the train and test data, we can train the model and then test it. \n",
    "This function does exactly that and then returns the accuracy, as \n",
    "found with the function iter_accuracy.\n",
    "'''\n",
    "def SGDC_train_test_model(X_train, X_test, y_train, y_test):\n",
    "    SGDC_clf = SGDClassifier(loss ='hinge',\n",
    "                             alpha = 0.0001,\n",
    "                             fit_intercept = True,\n",
    "                             learning_rate = 'optimal',\n",
    "                             average = False)\n",
    "    SGDC_clf.fit(X_train, y_train)\n",
    "    predicted = list(SGDC_clf.predict(X_test))\n",
    "    actual = list(y_test)\n",
    "\n",
    "    accuracy = iter_accuracy(actual,predicted)\n",
    "\n",
    "    return accuracy\n",
    "\n",
    "'''\n",
    "This is the sklearn Random Forest model. By passing \n",
    "in the train and test data, we can train the model and then test it. \n",
    "This function does exactly that and then returns the accuracy, as \n",
    "found with the function iter_accuracy.\n",
    "'''\n",
    "def RF_train_test_model(X_train, X_test, y_train, y_test):\n",
    "    RF_clf = RandomForestClassifier(n_estimators = 10,\n",
    "                                    criterion = 'gini',\n",
    "                                    max_depth = None,\n",
    "                                    bootstrap = True)\n",
    "    RF_clf.fit(X_train, y_train)\n",
    "    predicted = list(RF_clf.predict(X_test))\n",
    "    actual = list(y_test)\n",
    "\n",
    "    accuracy = iter_accuracy(actual,predicted)\n",
    "\n",
    "    return accuracy\n",
    "\n",
    "'''\n",
    "This is the sklearn Logistic Regression model. By passing \n",
    "in the train and test data, we can train the model and then test it. \n",
    "This function does exactly that and then returns the accuracy, as \n",
    "found with the function iter_accuracy.\n",
    "'''\n",
    "def LOG_train_test_model(X_train, X_test, y_train, y_test):\n",
    "    LOG_clf = LogisticRegression(penalty = 'l2',\n",
    "                                 fit_intercept = True,\n",
    "                                 solver = 'liblinear',\n",
    "                                 class_weight = None)\n",
    "    LOG_clf.fit(X_train, y_train)\n",
    "    predicted = list(LOG_clf.predict(X_test))\n",
    "    actual = list(y_test)\n",
    "\n",
    "    accuracy = iter_accuracy(actual,predicted)\n",
    "\n",
    "    return accuracy"
   ]
  },
  {
   "cell_type": "markdown",
   "metadata": {},
   "source": [
    "And there we go. All six of our models are now ready to be trained on our car ratings data. However, it would be a pain to run these one-by-one, so let's create an engine to compare this data. \n",
    "\n",
    "**NOTE on Sampling**\n",
    "\n",
    "Our goal is to compare multiple sklearn models. It is important to note that **a given model can potentially have very different accuracies, depending on the records in its training dataset**. \n",
    "\n",
    "Therefore, if we ran the same model multiple times -- re-splitting the dataset every time -- **it would give us different accuracies each time. This is why we can compare these models in the first place**. Some may be more robust, and work better across all types of training datasets, not just representative ones.\n",
    "\n",
    "We will use this concept to build our sampling engine ."
   ]
  },
  {
   "cell_type": "markdown",
   "metadata": {},
   "source": [
    "### Step 5: Create a Sampling Engine, Visualization Function, and a Main Method\n",
    "\n",
    "So we won't have to manually run models over and over to get a list of accuracies, let's create a sampling model to do that for us. It is written below.\n",
    "\n",
    "**Create Sampling Engine**"
   ]
  },
  {
   "cell_type": "code",
   "execution_count": 83,
   "metadata": {
    "collapsed": true
   },
   "outputs": [],
   "source": [
    "def gather_samples(models,num_samples,test_ratio,data_features,data_labels):\n",
    "    results_dict = {}\n",
    "    for model in models:\n",
    "        res_list = []\n",
    "        model_tag = model.__name__.rsplit('_')[0]\n",
    "        for j in range(num_samples):\n",
    "            X_train, X_test, y_train, y_test = train_test_split(data_features, data_labels, test_size = test_ratio)\n",
    "            accuracy = model(X_train,X_test,y_train,y_test)\n",
    "            res_list.append(accuracy)\n",
    "        results_dict[model_tag] = res_list\n",
    "\n",
    "    results_df = pd.DataFrame.from_dict(results_dict)\n",
    "\n",
    "    return results_df"
   ]
  },
  {
   "cell_type": "markdown",
   "metadata": {},
   "source": [
    "This function is the most complex, so we will walk through it slowly.\n",
    "\n",
    "First, we want to store accuracy results as a dictionary in the form **{model_name: [$acc_1$,$acc_2$...]}**\n",
    "\n",
    "**`results_dict`** is the dictionary, and **`res_list`** is the list of accuracies. The function takes inputs of different functions for each model as a list (saved as **`models`**), the number of accuracy samples we want, a test ratio for the data, and finall the data_features and data_labels.\n",
    "\n",
    "For each model included in the **`models`** list, the data is split, trained, and tested. The accuracy is found, and then added, to the res_list. Once there are enough sample in the res_list (equal to num_samples), the entire list is added to the dictionary with the Key value of the model.\n",
    "\n",
    "The key value of the model, or **`model_tag`**, is the first few capital letters before the underscore of each model name. **For example:** `KNN_train_test_model` would have a model tag of **`KNN`**. Finally the **results of the dictionary are converted into a dataframe and returned**. A sample of this can be seen below."
   ]
  },
  {
   "cell_type": "code",
   "execution_count": 84,
   "metadata": {
    "collapsed": false
   },
   "outputs": [
    {
     "name": "stdout",
     "output_type": "stream",
     "text": [
      "        GNB       KNN       LOG        RF      SGDC       SVM\n",
      "0  0.671296  0.942130  0.759259  0.962963  0.740741  0.935185\n",
      "1  0.680556  0.949074  0.787037  0.956019  0.733796  0.967593\n",
      "2  0.733796  0.923611  0.803241  0.969907  0.789352  0.969907\n",
      "3  0.745370  0.921296  0.812500  0.969907  0.768519  0.939815\n",
      "4  0.747685  0.974537  0.775463  0.965278  0.766204  0.951389\n",
      "5  0.675926  0.921296  0.770833  0.958333  0.791667  0.956019\n",
      "6  0.675926  0.949074  0.759259  0.972222  0.784722  0.967593\n",
      "7  0.722222  0.937500  0.793981  0.960648  0.733796  0.956019\n",
      "8  0.722222  0.949074  0.773148  0.962963  0.756944  0.956019\n",
      "9  0.682870  0.932870  0.759259  0.960648  0.787037  0.956019\n"
     ]
    }
   ],
   "source": [
    "models = [RF_train_test_model,\n",
    "               LOG_train_test_model,\n",
    "               GNB_train_test_model,\n",
    "               KNN_train_test_model,\n",
    "               SVM_train_test_model,\n",
    "               SGDC_train_test_model]\n",
    "\n",
    "\n",
    "samples = gather_samples(models,10,0.25,data_features,data_labels)\n",
    "\n",
    "#Print the dataframe of accuracy samples\n",
    "print(samples)"
   ]
  },
  {
   "cell_type": "markdown",
   "metadata": {},
   "source": [
    "**Create Visualization Function**\n",
    "\n",
    "Now we have our accuracy data, let's visualize it with boxplots and matplotlib. The function will take a single input of a sample dataframe, and display boxplots of the accuracies of each model. The function can be seen below."
   ]
  },
  {
   "cell_type": "code",
   "execution_count": 85,
   "metadata": {
    "collapsed": true
   },
   "outputs": [],
   "source": [
    "'''\n",
    "This function visualizes the results of the gather samples function\n",
    "above. By taking the results dataframe, it will give a graph of the boxplots \n",
    "of accuracy results, one for each model. This will be labeled by the headers \n",
    "of the dataframe.\n",
    "'''\n",
    "def visualize_results(results_df):\n",
    "    #Intialize and plot data\n",
    "    plt.figure()\n",
    "    results_df.boxplot()\n",
    "    \n",
    "    #Axes labels and title\n",
    "    plt.xlabel('Classifier Model')\n",
    "    plt.ylabel('Prediction Accuracy')\n",
    "    plt.title('Classifier Accuracy Analysis with Sklearn')\n",
    "\n",
    "    #Show the plot\n",
    "    plt.show()"
   ]
  },
  {
   "cell_type": "markdown",
   "metadata": {},
   "source": [
    "**Create Main Method**\n",
    "\n",
    "Looks like everything is ready to go. Since we have so many moving parts, it makes sense here to create a main method, from which we can run everything at once as well as customize our parameters. It can be seen below."
   ]
  },
  {
   "cell_type": "code",
   "execution_count": 88,
   "metadata": {
    "collapsed": true
   },
   "outputs": [],
   "source": [
    "#Import data using pandas\n",
    "data = pd.read_csv('Car_Ratings.csv', names = [    'buy_price', \n",
    "                                                   'maintanence_price',\n",
    "                                                   'num_people',\n",
    "                                                   'num_doors',\n",
    "                                                   'trunk_size',\n",
    "                                                   'safety_rating',\n",
    "                                                   'overall_rating'])\n",
    "\n",
    "#Dictionary to translate numbers into user friendly strings for overall car rating\n",
    "target_dict = {1:'Unacceptable',2:'Acceptable',3:'Good',4:'Very_Good'}\n",
    "\n",
    "\n",
    "\n",
    "'''\n",
    "The main method runs the model, taking in the test ratio you want, \n",
    "the number of samples you want, and the dataset, after it has been\n",
    "refined of all bad data.\n",
    "'''\n",
    "def main(data, num_samples, test_ratio):\n",
    "\n",
    "    #Split data into features and labels\n",
    "    data_features, data_labels = refine_data_master(data)\n",
    "    \n",
    "    #Create list of classifiers\n",
    "    classifiers = [RF_train_test_model,\n",
    "                   LOG_train_test_model,\n",
    "                   GNB_train_test_model,\n",
    "                   KNN_train_test_model,\n",
    "                   SVM_train_test_model,\n",
    "                   SGDC_train_test_model]\n",
    "\n",
    "    #Get a df of the accuracy results for each model\n",
    "    results_df = gather_samples(classifiers,num_samples,test_ratio,data_features,data_labels)\n",
    "\n",
    "    #Visualize the results\n",
    "    visualize_results(results_df)"
   ]
  },
  {
   "cell_type": "markdown",
   "metadata": {},
   "source": [
    "With the main method, you can run all of our code by simply giving it a dataset, the number of samples you want to collect from every model, and the test_ratio you want to use to split your data. In return, the method will output a graph of boxplots, one for each model."
   ]
  },
  {
   "cell_type": "markdown",
   "metadata": {},
   "source": [
    "### Step 6: Run Main Method\n",
    "\n",
    "Finally, after all of that coding, we can see which models perform the best for this dataset. To be sure we are getting reliable results, we will **gather 100 accuracy samples from each model, and give each a 25% testing dataset**. In essence, the gather_samples function operates in the same way as a **Monte Carlo Simulation**. \n",
    "\n",
    "Here are the results."
   ]
  },
  {
   "cell_type": "code",
   "execution_count": 89,
   "metadata": {
    "collapsed": false
   },
   "outputs": [
    {
     "data": {
      "image/png": "[encoded data removed]",
      "text/plain": [
       "<matplotlib.figure.Figure at 0x10f685e48>"
      ]
     },
     "metadata": {},
     "output_type": "display_data"
    }
   ],
   "source": [
    "main(data, 100, 0.25)"
   ]
  },
  {
   "cell_type": "markdown",
   "metadata": {},
   "source": [
    "Woah, it looks like there are some clear winners. The **Random Forest model seems to perform the best**, with **Support Vector Machines** taking second. **K-Nearest Neighbors** -- the **simplest ML model ever** -- took third. \n",
    "\n",
    "Feel free to play around with this data and try out different models with different test_ratios. "
   ]
  },
  {
   "cell_type": "code",
   "execution_count": null,
   "metadata": {
    "collapsed": true
   },
   "outputs": [],
   "source": []
  }
 ],
 "metadata": {
  "kernelspec": {
   "display_name": "Python 3",
   "language": "python",
   "name": "python3"
  },
  "language_info": {
   "codemirror_mode": {
    "name": "ipython",
    "version": 3
   },
   "file_extension": ".py",
   "mimetype": "text/x-python",
   "name": "python",
   "nbconvert_exporter": "python",
   "pygments_lexer": "ipython3",
   "version": "3.6.0"
  }
 },
 "nbformat": 4,
 "nbformat_minor": 2
}
