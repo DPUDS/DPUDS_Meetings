{
 "cells": [
  {
   "cell_type": "markdown",
   "metadata": {},
   "source": [
    "# Getting Set Up for GitHub and Trello for Collaborative Programming"
   ]
  },
  {
   "cell_type": "markdown",
   "metadata": {},
   "source": [
    "GitHub, which is commonly known as programmers' code resume, is an essential tool for all programmers, data scientists included. Trello is a collaboration tool that organizes your projects into boards. In one glance, Trello tells you what's being worked on, who's working on what, and where something is in a process. This notebook will guide you through the process of getting set up for all the functionalities of GitHub and Trello."
   ]
  },
  {
   "cell_type": "markdown",
   "metadata": {},
   "source": [
    "## Installing The Git Command Line Tool"
   ]
  },
  {
   "cell_type": "markdown",
   "metadata": {},
   "source": [
    "### For Mac users"
   ]
  },
  {
   "cell_type": "markdown",
   "metadata": {},
   "source": [
    "#### Step 1:\n",
    "\n",
    "Installing the Command Line Tools for OS X: go to [developer.apple.com/xcode/](https://developer.apple.com/xcode/) to download Xcode, a free Apple developer suite. You might have to go to the Apple website to register as an Apple developer at [appleid.apple.com](https://appleid.apple.com)."
   ]
  },
  {
   "cell_type": "markdown",
   "metadata": {
    "collapsed": true
   },
   "source": [
    "#### Step 2:\n",
    "\n",
    "Installing Git: go to [git-scm.com/download/mac](https://git-scm.com/download/mac) and download the latest stable release of Git. Like Xcode, Git won't have an icon on your dock, but it can be used by the Terminal."
   ]
  },
  {
   "cell_type": "markdown",
   "metadata": {},
   "source": [
    "### For Windows users"
   ]
  },
  {
   "cell_type": "markdown",
   "metadata": {},
   "source": [
    "Downloading Git for Windows: go to [git-scm.com/download/win](https://git-scm.com/download/win) to download the latest stable version of Git with the appropriate version (32-bit or 64-bit). Run the downloaded the executable file to begin the installation process.\n",
    "\n",
    "The default settings for the installation should work fine for our purposes, except for the option for the PATH environment, where you should select the option \"Run Git from the Windows Command Prompt while installing:\n",
    "\n",
    "![alt text](https://i.stack.imgur.com/31MMS.png)"
   ]
  },
  {
   "cell_type": "markdown",
   "metadata": {},
   "source": [
    "## Verifying your installation\n",
    "\n",
    "Open the Terminal app (which can be found in the Applications -> Utilities folder, or by using Spotlight for Mac users, or by typing \"cmd\" in the search section for Windows users), and type `git --version` followed by the return key. The Terminal should report back with your current installed Git version. Below is the result when I ran the above command:"
   ]
  },
  {
   "cell_type": "markdown",
   "metadata": {},
   "source": [
    "![alt text](https://image.ibb.co/gBqs2v/Screen_Shot_2017_07_15_at_2_14_32_PM.png)"
   ]
  },
  {
   "cell_type": "markdown",
   "metadata": {},
   "source": [
    "## Configuring Git identification\n",
    "\n",
    "It is important to configure your Git identification so the people working on a project with you would know the work you commited to Git actually came from you.\n",
    "\n",
    "Run these lines from your Terminal, with your own identification:\n",
    "\n",
    "```\n",
    "$ git config --global user.name \"Your Name Here\"\n",
    "$ git config --global user.email \"your_name@domain.com\"\n",
    "```"
   ]
  },
  {
   "cell_type": "markdown",
   "metadata": {},
   "source": [
    "## Setting up your GitHub account\n",
    "\n",
    "Simply go to [github.com](https://github.com) and register for an account if you don't already have one."
   ]
  },
  {
   "cell_type": "markdown",
   "metadata": {},
   "source": [
    "## Creating a new GitHub repository\n",
    "\n",
    "While manually uploading our files to GitHub is an option, most of the time we would want to create a new repository from a folder in our local machine. Luckily, `git` can help us with this. The steps below would guide you through this process:"
   ]
  },
  {
   "cell_type": "markdown",
   "metadata": {},
   "source": [
    "### Step 1: Navigating the Command Line and preparing the root folder\n",
    "\n",
    "There are a ton of different commands that allow you to work with the command line, and a number of them depend on whether you are running Windows or OS X. Just FYI, head to [here](https://commandwindows.com/command3.htm) for the complete list of commands for Windows operating system, or [here](https://github.com/0nn0/terminal-mac-cheatsheet) for the OS X version\n",
    "\n",
    "Below is a list of the most common commands that you will be using:"
   ]
  },
  {
   "cell_type": "markdown",
   "metadata": {},
   "source": [
    "- `pwd` for OS X, `cd` for Windows: print out the full path of the current directory\n",
    "- `cd [directory name]`: change directory (e.g. `cd Documents`)\n",
    "- `cd ..`: go to the upper/mother directory (note there are 2 dots after `cd`)\n",
    "- `ls` for OS X, `dir` for Windows: listing of the files of folders in current directory\n",
    "- `mkdir [folder name]`: make a folder with specified name at the current directory (e.g. `mkdir test`)\n",
    "- `open [file name]` for OS X, `[file name]` for Windows: open a file in the current directory (same effect if you double-clicked it)\n",
    "- `python [.py file name]`: run a Python script from the terminal (most of the time you would run Python scripts within Spyder, but you could also run it from the terminal)"
   ]
  },
  {
   "cell_type": "markdown",
   "metadata": {},
   "source": [
    "Don't worry if you don't remember all of the commands, as you keep using the command line, you would automatically become more familiar with them. For now, feel free to open a new tab and keep a list of commands open in case you need to go back for reference.\n",
    "\n",
    "Now, let's try uploading a folder from your own computer to your GitHub account. Go ahead and create a new folder anywhere you want, put a sample .py file in there, and navigate the command line to that folder. Here's what I did with my command line:"
   ]
  },
  {
   "cell_type": "markdown",
   "metadata": {},
   "source": [
    "![alt text](https://image.ibb.co/dPAOaF/Screen_Shot_2017_07_15_at_2_38_32_PM.png)"
   ]
  },
  {
   "cell_type": "markdown",
   "metadata": {},
   "source": [
    "Now, go to your GitHub account, and create a new repository by clicking the \"+\" icon in the upper right corner of your window, and choosing the \"New repository\" option. Give it any name you want for now. It is important that you do not check the box that says \"Initialize this repository with a README\", and leave both the options \"Add .gitignore\" and \"Add a license\" as \"None\". Click the \"Create repository\" button after you put in a name.\n",
    "\n",
    "Let's go back to your command line that is at your test folder and execute the following:\n",
    "\n",
    "- `git init` (initializes your folder as a Git project)\n",
    "- `git add .` (adds every file in the folder to the project)\n",
    "- `git commit -m \"[commit message]\"` (commits the changes to Git, e.g. `git commit -m \"First commit\"`)\n",
    "- `git remote add origin [repository URL].git` (registers an URL as the remote path for the project, you should put the URL of your newly created GitHub repository)\n",
    "- `git push -u origin master` (pusing the project/folder to your GitHub account)\n",
    "\n",
    "Again, you don't need to memorize all this right now, I myself also have to go back to this every time I create a new repository.\n",
    "\n",
    "And there you go, that's how you create a new repository on GitHub from files in your local computer using the command line. Be sure to go back to the repository on GitHub and give it more description so that others know more about your repository."
   ]
  },
  {
   "cell_type": "markdown",
   "metadata": {},
   "source": [
    "## Cloning an existing GitHub repository\n",
    "\n",
    "Most of the time working with a team, you would need to clone a repository that one of your teammates already created. To do this, first head to the repository you want to clone on GitHub, and click the \"Fork\" button in the upper right corner of your window (you can go to one of repositories from the DPU DS GitHub account [here](https://github.com/DPUDS) to test this)."
   ]
  },
  {
   "cell_type": "markdown",
   "metadata": {},
   "source": [
    "![alt text](http://orm-chimera-prod.s3.amazonaws.com/1234000000726/images/tutorial_click_fork.png)"
   ]
  },
  {
   "cell_type": "markdown",
   "metadata": {},
   "source": [
    "Now head back to your own GitHub account, there should be the forked version of the repository in your list of repositories, copy the URL of that repository.\n",
    "\n",
    "Start your command line and nagivate it to the location that you want to store the repository on your computer. Note that you don't need to create a new folder, Git will create a new folder with the same name as the repository, and put all the files it downloads in that folder later. For now, run this with your command line:\n",
    "\n",
    "`git clone [repository url]`\n",
    "\n",
    "The URL you need is the one you copied earlier, so just type in `git clone` and paste the URL in after. After the command line finishes running, `cd` into the newly created folder, and run `git remote -v`. If what gets printed out corresponds to your repository URL, you are now set. Feel free to use Windows Explorer or Finders to check out this folder yourself!"
   ]
  },
  {
   "cell_type": "code",
   "execution_count": null,
   "metadata": {
    "collapsed": true
   },
   "outputs": [],
   "source": []
  }
 ],
 "metadata": {
  "kernelspec": {
   "display_name": "Python 3",
   "language": "python",
   "name": "python3"
  },
  "language_info": {
   "codemirror_mode": {
    "name": "ipython",
    "version": 3
   },
   "file_extension": ".py",
   "mimetype": "text/x-python",
   "name": "python",
   "nbconvert_exporter": "python",
   "pygments_lexer": "ipython3",
   "version": "3.6.1"
  }
 },
 "nbformat": 4,
 "nbformat_minor": 2
}
