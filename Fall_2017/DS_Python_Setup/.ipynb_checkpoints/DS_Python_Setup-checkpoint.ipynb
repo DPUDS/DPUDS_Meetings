{
 "cells": [
  {
   "cell_type": "markdown",
   "metadata": {},
   "source": [
    "# Getting Set Up for Data Science Projects Using Python and Anaconda\n",
    "\n",
    "Data Science is a rapidly growing field with many different tools and technologies. While there are many languages and environments you could use for Data Science projects (R, SAS, STATA, Java, C++ ...) Python is the language that is often seen as most readable. Also, it is coincidentally the one that DPU DS leadership is most versed in.\n",
    "\n",
    "**Therefore** for those that do not currently have a platform they can use for Data Science, we will help you create one in a few easy steps. It doesn't matter if you have a Mac or a Windows Computer, we will provide a process for both."
   ]
  },
  {
   "cell_type": "markdown",
   "metadata": {},
   "source": [
    "## For **Mac and Windows** users"
   ]
  },
  {
   "cell_type": "markdown",
   "metadata": {},
   "source": [
    "## **Step 1:** \n",
    "*Go to the url provided below. This is the Anaconda website homepage.*\n",
    "\n",
    "[Link to Anaconda](https://docs.continuum.io/anaconda/) \n",
    "\n",
    "If link does not work, copy and paste the text below into your browser.\n",
    "\n",
    "https://docs.continuum.io/anaconda/"
   ]
  },
  {
   "cell_type": "markdown",
   "metadata": {},
   "source": [
    "## **Step 2:** \n",
    "*Download the correct version of Anaconda to your computer.*\n",
    "\n",
    "Once you are on the webpage, scroll down and you should see this:"
   ]
  },
  {
   "cell_type": "markdown",
   "metadata": {
    "collapsed": false,
    "scrolled": false
   },
   "source": [
    "![alt text](https://image.ibb.co/bNehVQ/Conda1.png)"
   ]
  },
  {
   "cell_type": "markdown",
   "metadata": {},
   "source": [
    "Choose the **Python 3.6** version and click graphical installer (Mac or Windows) for the **64 bit version** of Anaconda. Anaconda will then start downloading."
   ]
  },
  {
   "cell_type": "markdown",
   "metadata": {},
   "source": [
    "## **Step 3:** \n",
    "*Launch the downloaded file and install Anaconda.*\n",
    "\n",
    "Once the installation window pops up, continue to hit next.\n",
    " - Once you reach the scrron that says \"Install for:\", be sure you install for \"Just Me (recommended)\"\n",
    " - When you see a screen that says **Destination Folder:** copy over the path as it will be useful later. However, do **NOT** change the file path given unless you are very comfortable with changing the install location.\n",
    "     - Roughly 2 Gigabytes of space will be needed for the download. Be sure your computer has enough memory.\n",
    " - Do not click any of the advanced options; they are not necessary for our work.\n",
    " - Finally, click **Install**\n",
    "   "
   ]
  },
  {
   "cell_type": "markdown",
   "metadata": {},
   "source": [
    "## **Step 4:** \n",
    "*Launch Anaconda Navigator*\n",
    "\n",
    "While you are waiting for Anaconda to download, create a folder in your **Documents** folder called **Python**\n",
    " - This will be used later.\n",
    "\n",
    "Once Anaconda finishes installing, go to your search bar and type \"Anaconda\". You should see a result called **Anaconda Navigator**, as seen below."
   ]
  },
  {
   "cell_type": "markdown",
   "metadata": {
    "collapsed": false
   },
   "source": [
    "![alt text](https://image.ibb.co/k9jhVQ/Conda2.png)"
   ]
  },
  {
   "cell_type": "markdown",
   "metadata": {},
   "source": [
    "Open the Anaconda Navigator, and you should see a screen that looks like this."
   ]
  },
  {
   "cell_type": "markdown",
   "metadata": {
    "collapsed": false
   },
   "source": [
    "![alt text](https://image.ibb.co/ff1UAQ/Conda3.png)"
   ]
  },
  {
   "cell_type": "markdown",
   "metadata": {},
   "source": [
    "Click on the **Launch** button for **Spyder**, seen in the top right corner above."
   ]
  },
  {
   "cell_type": "markdown",
   "metadata": {},
   "source": [
    "## **Step 5:** \n",
    "*Test development environment*\n",
    "\n",
    "Once Spyder launches, you should see a screen like this:"
   ]
  },
  {
   "cell_type": "markdown",
   "metadata": {
    "collapsed": false
   },
   "source": [
    "![alt text](https://image.ibb.co/h200H5/Conda4.png)"
   ]
  },
  {
   "cell_type": "markdown",
   "metadata": {},
   "source": [
    "To check to see if everything is installed correctly, **copy and paste the code snippet below** into the Editor window, located on the left. "
   ]
  },
  {
   "cell_type": "code",
   "execution_count": 12,
   "metadata": {
    "collapsed": false
   },
   "outputs": [
    {
     "name": "stdout",
     "output_type": "stream",
     "text": [
      "All dependencies imported sucessfully\n"
     ]
    }
   ],
   "source": [
    "try:\n",
    "    import numpy\n",
    "    import pandas\n",
    "    import sklearn\n",
    "    import matplotlib.pyplot as plt\n",
    "    import matplotlib\n",
    "    print(\"All dependencies imported sucessfully\")\n",
    "\n",
    "except Exception as e:\n",
    "    print(\"Error: Modules failed to load.\")"
   ]
  },
  {
   "cell_type": "markdown",
   "metadata": {},
   "source": [
    "Then run your test file; **hit the big green arrow** in the taskbar at the top, or **press Fn + F5**.\n",
    " - A window will then pop up asking you to save your Python file.\n",
    " - Spyder mandates that files must be saved before they can be compiled\n",
    " \n",
    "Go to **Documents -> Python** and save your file as **test.py**\n",
    "\n",
    "Once you save, the file should automatically run, but you may need to hit the green run arrow again."
   ]
  },
  {
   "cell_type": "markdown",
   "metadata": {
    "collapsed": false
   },
   "source": [
    "![alt text](https://image.ibb.co/fJvd4k/Conda5.png)"
   ]
  },
  {
   "cell_type": "markdown",
   "metadata": {},
   "source": [
    "After the code runs, your **console in the bottom right** should look something like this:\n",
    " - Note that the Console has a message that says \"All dependencies imported successfully\""
   ]
  },
  {
   "cell_type": "markdown",
   "metadata": {
    "collapsed": false
   },
   "source": [
    "![alt text](http://image.ibb.co/iY8bqQ/Conda6.png)"
   ]
  },
  {
   "cell_type": "markdown",
   "metadata": {},
   "source": [
    "If your message says **Error: Modules failed to load** then please **raise your hand** and we will help you troubleshoot"
   ]
  },
  {
   "cell_type": "markdown",
   "metadata": {},
   "source": [
    "## Congratulations! Your Python coding environment is ready to go!\n",
    "\n",
    "To create and run files, simply save them to your **Documents->Python** folder."
   ]
  },
  {
   "cell_type": "code",
   "execution_count": null,
   "metadata": {
    "collapsed": true
   },
   "outputs": [],
   "source": []
  }
 ],
 "metadata": {
  "kernelspec": {
   "display_name": "Python 3",
   "language": "python",
   "name": "python3"
  },
  "language_info": {
   "codemirror_mode": {
    "name": "ipython",
    "version": 3
   },
   "file_extension": ".py",
   "mimetype": "text/x-python",
   "name": "python",
   "nbconvert_exporter": "python",
   "pygments_lexer": "ipython3",
   "version": "3.6.0"
  }
 },
 "nbformat": 4,
 "nbformat_minor": 0
}
